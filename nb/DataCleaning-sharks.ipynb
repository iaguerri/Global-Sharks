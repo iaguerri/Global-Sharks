{
 "cells": [
  {
   "cell_type": "markdown",
   "id": "f4adb6c2",
   "metadata": {},
   "source": [
    "# Global Sharks Analysis"
   ]
  },
  {
   "cell_type": "markdown",
   "id": "2925690a",
   "metadata": {},
   "source": [
    "## Load and explore the data"
   ]
  },
  {
   "cell_type": "code",
   "execution_count": 585,
   "id": "1b5391ff",
   "metadata": {},
   "outputs": [],
   "source": [
    "import pandas as pd\n",
    "import numpy as np\n",
    "import seaborn as sns\n",
    "import pylab as plt\n",
    "%matplotlib inline\n",
    "pd.set_option(\"display.max_columns\", None)"
   ]
  },
  {
   "cell_type": "code",
   "execution_count": 586,
   "id": "be5b799f",
   "metadata": {},
   "outputs": [],
   "source": [
    "dataframe = pd.read_csv('../data/attacks.csv', encoding='ISO-8859-1') #Encoding to b\n",
    "df=dataframe.copy()"
   ]
  },
  {
   "cell_type": "markdown",
   "id": "afb4000b",
   "metadata": {},
   "source": [
    "To read correctly the CSV, it is necessary to specify the encoding latin1 (ISO-8859-1)"
   ]
  },
  {
   "cell_type": "code",
   "execution_count": 587,
   "id": "d67574b7",
   "metadata": {
    "scrolled": true
   },
   "outputs": [
    {
     "data": {
      "text/html": [
       "<div>\n",
       "<style scoped>\n",
       "    .dataframe tbody tr th:only-of-type {\n",
       "        vertical-align: middle;\n",
       "    }\n",
       "\n",
       "    .dataframe tbody tr th {\n",
       "        vertical-align: top;\n",
       "    }\n",
       "\n",
       "    .dataframe thead th {\n",
       "        text-align: right;\n",
       "    }\n",
       "</style>\n",
       "<table border=\"1\" class=\"dataframe\">\n",
       "  <thead>\n",
       "    <tr style=\"text-align: right;\">\n",
       "      <th></th>\n",
       "      <th>Case Number</th>\n",
       "      <th>Date</th>\n",
       "      <th>Year</th>\n",
       "      <th>Type</th>\n",
       "      <th>Country</th>\n",
       "      <th>Area</th>\n",
       "      <th>Location</th>\n",
       "      <th>Activity</th>\n",
       "      <th>Name</th>\n",
       "      <th>Sex</th>\n",
       "      <th>Age</th>\n",
       "      <th>Injury</th>\n",
       "      <th>Fatal (Y/N)</th>\n",
       "      <th>Time</th>\n",
       "      <th>Species</th>\n",
       "      <th>Investigator or Source</th>\n",
       "      <th>pdf</th>\n",
       "      <th>href formula</th>\n",
       "      <th>href</th>\n",
       "      <th>Case Number.1</th>\n",
       "      <th>Case Number.2</th>\n",
       "      <th>original order</th>\n",
       "      <th>Unnamed: 22</th>\n",
       "      <th>Unnamed: 23</th>\n",
       "    </tr>\n",
       "  </thead>\n",
       "  <tbody>\n",
       "    <tr>\n",
       "      <th>0</th>\n",
       "      <td>2018.06.25</td>\n",
       "      <td>25-Jun-2018</td>\n",
       "      <td>2018.0</td>\n",
       "      <td>Boating</td>\n",
       "      <td>USA</td>\n",
       "      <td>California</td>\n",
       "      <td>Oceanside, San Diego County</td>\n",
       "      <td>Paddling</td>\n",
       "      <td>Julie Wolfe</td>\n",
       "      <td>F</td>\n",
       "      <td>57</td>\n",
       "      <td>No injury to occupant, outrigger canoe and pad...</td>\n",
       "      <td>N</td>\n",
       "      <td>18h00</td>\n",
       "      <td>White shark</td>\n",
       "      <td>R. Collier, GSAF</td>\n",
       "      <td>2018.06.25-Wolfe.pdf</td>\n",
       "      <td>http://sharkattackfile.net/spreadsheets/pdf_di...</td>\n",
       "      <td>http://sharkattackfile.net/spreadsheets/pdf_di...</td>\n",
       "      <td>2018.06.25</td>\n",
       "      <td>2018.06.25</td>\n",
       "      <td>6303.0</td>\n",
       "      <td>NaN</td>\n",
       "      <td>NaN</td>\n",
       "    </tr>\n",
       "    <tr>\n",
       "      <th>1</th>\n",
       "      <td>2018.06.18</td>\n",
       "      <td>18-Jun-2018</td>\n",
       "      <td>2018.0</td>\n",
       "      <td>Unprovoked</td>\n",
       "      <td>USA</td>\n",
       "      <td>Georgia</td>\n",
       "      <td>St. Simon Island, Glynn County</td>\n",
       "      <td>Standing</td>\n",
       "      <td>Adyson McNeely</td>\n",
       "      <td>F</td>\n",
       "      <td>11</td>\n",
       "      <td>Minor injury to left thigh</td>\n",
       "      <td>N</td>\n",
       "      <td>14h00  -15h00</td>\n",
       "      <td>NaN</td>\n",
       "      <td>K.McMurray, TrackingSharks.com</td>\n",
       "      <td>2018.06.18-McNeely.pdf</td>\n",
       "      <td>http://sharkattackfile.net/spreadsheets/pdf_di...</td>\n",
       "      <td>http://sharkattackfile.net/spreadsheets/pdf_di...</td>\n",
       "      <td>2018.06.18</td>\n",
       "      <td>2018.06.18</td>\n",
       "      <td>6302.0</td>\n",
       "      <td>NaN</td>\n",
       "      <td>NaN</td>\n",
       "    </tr>\n",
       "    <tr>\n",
       "      <th>2</th>\n",
       "      <td>2018.06.09</td>\n",
       "      <td>09-Jun-2018</td>\n",
       "      <td>2018.0</td>\n",
       "      <td>Invalid</td>\n",
       "      <td>USA</td>\n",
       "      <td>Hawaii</td>\n",
       "      <td>Habush, Oahu</td>\n",
       "      <td>Surfing</td>\n",
       "      <td>John Denges</td>\n",
       "      <td>M</td>\n",
       "      <td>48</td>\n",
       "      <td>Injury to left lower leg from surfboard skeg</td>\n",
       "      <td>N</td>\n",
       "      <td>07h45</td>\n",
       "      <td>NaN</td>\n",
       "      <td>K.McMurray, TrackingSharks.com</td>\n",
       "      <td>2018.06.09-Denges.pdf</td>\n",
       "      <td>http://sharkattackfile.net/spreadsheets/pdf_di...</td>\n",
       "      <td>http://sharkattackfile.net/spreadsheets/pdf_di...</td>\n",
       "      <td>2018.06.09</td>\n",
       "      <td>2018.06.09</td>\n",
       "      <td>6301.0</td>\n",
       "      <td>NaN</td>\n",
       "      <td>NaN</td>\n",
       "    </tr>\n",
       "    <tr>\n",
       "      <th>3</th>\n",
       "      <td>2018.06.08</td>\n",
       "      <td>08-Jun-2018</td>\n",
       "      <td>2018.0</td>\n",
       "      <td>Unprovoked</td>\n",
       "      <td>AUSTRALIA</td>\n",
       "      <td>New South Wales</td>\n",
       "      <td>Arrawarra Headland</td>\n",
       "      <td>Surfing</td>\n",
       "      <td>male</td>\n",
       "      <td>M</td>\n",
       "      <td>NaN</td>\n",
       "      <td>Minor injury to lower leg</td>\n",
       "      <td>N</td>\n",
       "      <td>NaN</td>\n",
       "      <td>2 m shark</td>\n",
       "      <td>B. Myatt, GSAF</td>\n",
       "      <td>2018.06.08-Arrawarra.pdf</td>\n",
       "      <td>http://sharkattackfile.net/spreadsheets/pdf_di...</td>\n",
       "      <td>http://sharkattackfile.net/spreadsheets/pdf_di...</td>\n",
       "      <td>2018.06.08</td>\n",
       "      <td>2018.06.08</td>\n",
       "      <td>6300.0</td>\n",
       "      <td>NaN</td>\n",
       "      <td>NaN</td>\n",
       "    </tr>\n",
       "    <tr>\n",
       "      <th>4</th>\n",
       "      <td>2018.06.04</td>\n",
       "      <td>04-Jun-2018</td>\n",
       "      <td>2018.0</td>\n",
       "      <td>Provoked</td>\n",
       "      <td>MEXICO</td>\n",
       "      <td>Colima</td>\n",
       "      <td>La Ticla</td>\n",
       "      <td>Free diving</td>\n",
       "      <td>Gustavo Ramos</td>\n",
       "      <td>M</td>\n",
       "      <td>NaN</td>\n",
       "      <td>Lacerations to leg &amp; hand shark PROVOKED INCIDENT</td>\n",
       "      <td>N</td>\n",
       "      <td>NaN</td>\n",
       "      <td>Tiger shark, 3m</td>\n",
       "      <td>A .Kipper</td>\n",
       "      <td>2018.06.04-Ramos.pdf</td>\n",
       "      <td>http://sharkattackfile.net/spreadsheets/pdf_di...</td>\n",
       "      <td>http://sharkattackfile.net/spreadsheets/pdf_di...</td>\n",
       "      <td>2018.06.04</td>\n",
       "      <td>2018.06.04</td>\n",
       "      <td>6299.0</td>\n",
       "      <td>NaN</td>\n",
       "      <td>NaN</td>\n",
       "    </tr>\n",
       "  </tbody>\n",
       "</table>\n",
       "</div>"
      ],
      "text/plain": [
       "  Case Number         Date    Year        Type    Country             Area  \\\n",
       "0  2018.06.25  25-Jun-2018  2018.0     Boating        USA       California   \n",
       "1  2018.06.18  18-Jun-2018  2018.0  Unprovoked        USA          Georgia   \n",
       "2  2018.06.09  09-Jun-2018  2018.0     Invalid        USA           Hawaii   \n",
       "3  2018.06.08  08-Jun-2018  2018.0  Unprovoked  AUSTRALIA  New South Wales   \n",
       "4  2018.06.04  04-Jun-2018  2018.0    Provoked     MEXICO           Colima   \n",
       "\n",
       "                         Location     Activity             Name Sex   Age  \\\n",
       "0     Oceanside, San Diego County     Paddling      Julie Wolfe    F   57   \n",
       "1  St. Simon Island, Glynn County     Standing  Adyson McNeely     F   11   \n",
       "2                    Habush, Oahu      Surfing      John Denges    M   48   \n",
       "3              Arrawarra Headland      Surfing             male    M  NaN   \n",
       "4                        La Ticla  Free diving   Gustavo Ramos     M  NaN   \n",
       "\n",
       "                                              Injury Fatal (Y/N)  \\\n",
       "0  No injury to occupant, outrigger canoe and pad...           N   \n",
       "1                         Minor injury to left thigh           N   \n",
       "2       Injury to left lower leg from surfboard skeg           N   \n",
       "3                          Minor injury to lower leg           N   \n",
       "4  Lacerations to leg & hand shark PROVOKED INCIDENT           N   \n",
       "\n",
       "            Time         Species           Investigator or Source  \\\n",
       "0          18h00      White shark                R. Collier, GSAF   \n",
       "1  14h00  -15h00              NaN  K.McMurray, TrackingSharks.com   \n",
       "2          07h45              NaN  K.McMurray, TrackingSharks.com   \n",
       "3            NaN        2 m shark                  B. Myatt, GSAF   \n",
       "4            NaN  Tiger shark, 3m                       A .Kipper   \n",
       "\n",
       "                        pdf  \\\n",
       "0      2018.06.25-Wolfe.pdf   \n",
       "1    2018.06.18-McNeely.pdf   \n",
       "2     2018.06.09-Denges.pdf   \n",
       "3  2018.06.08-Arrawarra.pdf   \n",
       "4      2018.06.04-Ramos.pdf   \n",
       "\n",
       "                                        href formula  \\\n",
       "0  http://sharkattackfile.net/spreadsheets/pdf_di...   \n",
       "1  http://sharkattackfile.net/spreadsheets/pdf_di...   \n",
       "2  http://sharkattackfile.net/spreadsheets/pdf_di...   \n",
       "3  http://sharkattackfile.net/spreadsheets/pdf_di...   \n",
       "4  http://sharkattackfile.net/spreadsheets/pdf_di...   \n",
       "\n",
       "                                                href Case Number.1  \\\n",
       "0  http://sharkattackfile.net/spreadsheets/pdf_di...    2018.06.25   \n",
       "1  http://sharkattackfile.net/spreadsheets/pdf_di...    2018.06.18   \n",
       "2  http://sharkattackfile.net/spreadsheets/pdf_di...    2018.06.09   \n",
       "3  http://sharkattackfile.net/spreadsheets/pdf_di...    2018.06.08   \n",
       "4  http://sharkattackfile.net/spreadsheets/pdf_di...    2018.06.04   \n",
       "\n",
       "  Case Number.2  original order Unnamed: 22 Unnamed: 23  \n",
       "0    2018.06.25          6303.0         NaN         NaN  \n",
       "1    2018.06.18          6302.0         NaN         NaN  \n",
       "2    2018.06.09          6301.0         NaN         NaN  \n",
       "3    2018.06.08          6300.0         NaN         NaN  \n",
       "4    2018.06.04          6299.0         NaN         NaN  "
      ]
     },
     "execution_count": 587,
     "metadata": {},
     "output_type": "execute_result"
    }
   ],
   "source": [
    "df.head()"
   ]
  },
  {
   "cell_type": "markdown",
   "id": "d8d22720",
   "metadata": {},
   "source": [
    "*Change col names to access better to the data*"
   ]
  },
  {
   "cell_type": "code",
   "execution_count": 588,
   "id": "f3174d52",
   "metadata": {},
   "outputs": [],
   "source": [
    "df.columns=[c.lower().replace(' ', '_') for c in df.columns]\n",
    "df.columns=[c.lower().replace('.', '_') for c in df.columns]\n",
    "df.columns=[c.lower().replace(':', '') for c in df.columns]\n",
    "df.columns=[c.lower().replace('/', 'O') for c in df.columns]\n",
    "df.columns=[c.lower().replace('(', '') for c in df.columns]\n",
    "df.columns=[c.lower().replace(')', '') for c in df.columns]"
   ]
  },
  {
   "cell_type": "code",
   "execution_count": 589,
   "id": "900fb819",
   "metadata": {
    "scrolled": true
   },
   "outputs": [
    {
     "name": "stdout",
     "output_type": "stream",
     "text": [
      "<class 'pandas.core.frame.DataFrame'>\n",
      "RangeIndex: 25723 entries, 0 to 25722\n",
      "Data columns (total 24 columns):\n",
      " #   Column                  Non-Null Count  Dtype  \n",
      "---  ------                  --------------  -----  \n",
      " 0   case_number             8702 non-null   object \n",
      " 1   date                    6302 non-null   object \n",
      " 2   year                    6300 non-null   float64\n",
      " 3   type                    6298 non-null   object \n",
      " 4   country                 6252 non-null   object \n",
      " 5   area                    5847 non-null   object \n",
      " 6   location                5762 non-null   object \n",
      " 7   activity                5758 non-null   object \n",
      " 8   name                    6092 non-null   object \n",
      " 9   sex_                    5737 non-null   object \n",
      " 10  age                     3471 non-null   object \n",
      " 11  injury                  6274 non-null   object \n",
      " 12  fatal_yon               5763 non-null   object \n",
      " 13  time                    2948 non-null   object \n",
      " 14  species_                3464 non-null   object \n",
      " 15  investigator_or_source  6285 non-null   object \n",
      " 16  pdf                     6302 non-null   object \n",
      " 17  href_formula            6301 non-null   object \n",
      " 18  href                    6302 non-null   object \n",
      " 19  case_number_1           6302 non-null   object \n",
      " 20  case_number_2           6302 non-null   object \n",
      " 21  original_order          6309 non-null   float64\n",
      " 22  unnamed_22              1 non-null      object \n",
      " 23  unnamed_23              2 non-null      object \n",
      "dtypes: float64(2), object(22)\n",
      "memory usage: 4.7+ MB\n"
     ]
    }
   ],
   "source": [
    "df.info()"
   ]
  },
  {
   "cell_type": "code",
   "execution_count": 590,
   "id": "a967243b",
   "metadata": {},
   "outputs": [],
   "source": [
    "df.rename(columns = {'sex_':'sex', 'species_':'species'}, inplace = True)"
   ]
  },
  {
   "cell_type": "code",
   "execution_count": 591,
   "id": "8646e3de",
   "metadata": {},
   "outputs": [
    {
     "name": "stdout",
     "output_type": "stream",
     "text": [
      "<class 'pandas.core.frame.DataFrame'>\n",
      "RangeIndex: 25723 entries, 0 to 25722\n",
      "Data columns (total 24 columns):\n",
      " #   Column                  Non-Null Count  Dtype  \n",
      "---  ------                  --------------  -----  \n",
      " 0   case_number             8702 non-null   object \n",
      " 1   date                    6302 non-null   object \n",
      " 2   year                    6300 non-null   float64\n",
      " 3   type                    6298 non-null   object \n",
      " 4   country                 6252 non-null   object \n",
      " 5   area                    5847 non-null   object \n",
      " 6   location                5762 non-null   object \n",
      " 7   activity                5758 non-null   object \n",
      " 8   name                    6092 non-null   object \n",
      " 9   sex                     5737 non-null   object \n",
      " 10  age                     3471 non-null   object \n",
      " 11  injury                  6274 non-null   object \n",
      " 12  fatal_yon               5763 non-null   object \n",
      " 13  time                    2948 non-null   object \n",
      " 14  species                 3464 non-null   object \n",
      " 15  investigator_or_source  6285 non-null   object \n",
      " 16  pdf                     6302 non-null   object \n",
      " 17  href_formula            6301 non-null   object \n",
      " 18  href                    6302 non-null   object \n",
      " 19  case_number_1           6302 non-null   object \n",
      " 20  case_number_2           6302 non-null   object \n",
      " 21  original_order          6309 non-null   float64\n",
      " 22  unnamed_22              1 non-null      object \n",
      " 23  unnamed_23              2 non-null      object \n",
      "dtypes: float64(2), object(22)\n",
      "memory usage: 4.7+ MB\n"
     ]
    }
   ],
   "source": [
    "df.info()"
   ]
  },
  {
   "cell_type": "markdown",
   "id": "c26956a5",
   "metadata": {},
   "source": [
    "All the columns except 'year and original order' have object dtype. This should be corrected."
   ]
  },
  {
   "cell_type": "code",
   "execution_count": 592,
   "id": "771470a6",
   "metadata": {},
   "outputs": [
    {
     "data": {
      "text/plain": [
       "(25723, 24)"
      ]
     },
     "execution_count": 592,
     "metadata": {},
     "output_type": "execute_result"
    }
   ],
   "source": [
    "df.shape #The datafram has 24 columns and 25723 rows"
   ]
  },
  {
   "cell_type": "markdown",
   "id": "3b31781a",
   "metadata": {},
   "source": [
    "### REVIEW 1. Correct the data types"
   ]
  },
  {
   "cell_type": "markdown",
   "id": "b8a03c45",
   "metadata": {},
   "source": [
    "#### 1.1 Categorical types "
   ]
  },
  {
   "cell_type": "code",
   "execution_count": 593,
   "id": "049f9f70",
   "metadata": {
    "scrolled": true
   },
   "outputs": [
    {
     "data": {
      "text/plain": [
       "Index(['case_number', 'date', 'type', 'country', 'area', 'location',\n",
       "       'activity', 'name', 'sex', 'age', 'injury', 'fatal_yon', 'time',\n",
       "       'species', 'investigator_or_source', 'pdf', 'href_formula', 'href',\n",
       "       'case_number_1', 'case_number_2', 'unnamed_22', 'unnamed_23'],\n",
       "      dtype='object')"
      ]
     },
     "execution_count": 593,
     "metadata": {},
     "output_type": "execute_result"
    }
   ],
   "source": [
    "cat_df=df.select_dtypes(include='object')\n",
    "\n",
    "cat_df.columns"
   ]
  },
  {
   "cell_type": "code",
   "execution_count": 594,
   "id": "99979e9c",
   "metadata": {},
   "outputs": [
    {
     "data": {
      "text/html": [
       "<div>\n",
       "<style scoped>\n",
       "    .dataframe tbody tr th:only-of-type {\n",
       "        vertical-align: middle;\n",
       "    }\n",
       "\n",
       "    .dataframe tbody tr th {\n",
       "        vertical-align: top;\n",
       "    }\n",
       "\n",
       "    .dataframe thead th {\n",
       "        text-align: right;\n",
       "    }\n",
       "</style>\n",
       "<table border=\"1\" class=\"dataframe\">\n",
       "  <thead>\n",
       "    <tr style=\"text-align: right;\">\n",
       "      <th></th>\n",
       "      <th>case_number</th>\n",
       "      <th>date</th>\n",
       "      <th>year</th>\n",
       "      <th>type</th>\n",
       "      <th>country</th>\n",
       "      <th>area</th>\n",
       "      <th>location</th>\n",
       "      <th>activity</th>\n",
       "      <th>name</th>\n",
       "      <th>sex</th>\n",
       "      <th>age</th>\n",
       "      <th>injury</th>\n",
       "      <th>fatal_yon</th>\n",
       "      <th>time</th>\n",
       "      <th>species</th>\n",
       "      <th>investigator_or_source</th>\n",
       "      <th>pdf</th>\n",
       "      <th>href_formula</th>\n",
       "      <th>href</th>\n",
       "      <th>case_number_1</th>\n",
       "      <th>case_number_2</th>\n",
       "      <th>original_order</th>\n",
       "      <th>unnamed_22</th>\n",
       "      <th>unnamed_23</th>\n",
       "    </tr>\n",
       "  </thead>\n",
       "  <tbody>\n",
       "    <tr>\n",
       "      <th>0</th>\n",
       "      <td>2018.06.25</td>\n",
       "      <td>25-Jun-2018</td>\n",
       "      <td>2018.0</td>\n",
       "      <td>Boating</td>\n",
       "      <td>USA</td>\n",
       "      <td>California</td>\n",
       "      <td>Oceanside, San Diego County</td>\n",
       "      <td>Paddling</td>\n",
       "      <td>Julie Wolfe</td>\n",
       "      <td>F</td>\n",
       "      <td>57</td>\n",
       "      <td>No injury to occupant, outrigger canoe and pad...</td>\n",
       "      <td>N</td>\n",
       "      <td>18h00</td>\n",
       "      <td>White shark</td>\n",
       "      <td>R. Collier, GSAF</td>\n",
       "      <td>2018.06.25-Wolfe.pdf</td>\n",
       "      <td>http://sharkattackfile.net/spreadsheets/pdf_di...</td>\n",
       "      <td>http://sharkattackfile.net/spreadsheets/pdf_di...</td>\n",
       "      <td>2018.06.25</td>\n",
       "      <td>2018.06.25</td>\n",
       "      <td>6303.0</td>\n",
       "      <td>NaN</td>\n",
       "      <td>NaN</td>\n",
       "    </tr>\n",
       "    <tr>\n",
       "      <th>1</th>\n",
       "      <td>2018.06.18</td>\n",
       "      <td>18-Jun-2018</td>\n",
       "      <td>2018.0</td>\n",
       "      <td>Unprovoked</td>\n",
       "      <td>USA</td>\n",
       "      <td>Georgia</td>\n",
       "      <td>St. Simon Island, Glynn County</td>\n",
       "      <td>Standing</td>\n",
       "      <td>Adyson McNeely</td>\n",
       "      <td>F</td>\n",
       "      <td>11</td>\n",
       "      <td>Minor injury to left thigh</td>\n",
       "      <td>N</td>\n",
       "      <td>14h00  -15h00</td>\n",
       "      <td>NaN</td>\n",
       "      <td>K.McMurray, TrackingSharks.com</td>\n",
       "      <td>2018.06.18-McNeely.pdf</td>\n",
       "      <td>http://sharkattackfile.net/spreadsheets/pdf_di...</td>\n",
       "      <td>http://sharkattackfile.net/spreadsheets/pdf_di...</td>\n",
       "      <td>2018.06.18</td>\n",
       "      <td>2018.06.18</td>\n",
       "      <td>6302.0</td>\n",
       "      <td>NaN</td>\n",
       "      <td>NaN</td>\n",
       "    </tr>\n",
       "    <tr>\n",
       "      <th>2</th>\n",
       "      <td>2018.06.09</td>\n",
       "      <td>09-Jun-2018</td>\n",
       "      <td>2018.0</td>\n",
       "      <td>Invalid</td>\n",
       "      <td>USA</td>\n",
       "      <td>Hawaii</td>\n",
       "      <td>Habush, Oahu</td>\n",
       "      <td>Surfing</td>\n",
       "      <td>John Denges</td>\n",
       "      <td>M</td>\n",
       "      <td>48</td>\n",
       "      <td>Injury to left lower leg from surfboard skeg</td>\n",
       "      <td>N</td>\n",
       "      <td>07h45</td>\n",
       "      <td>NaN</td>\n",
       "      <td>K.McMurray, TrackingSharks.com</td>\n",
       "      <td>2018.06.09-Denges.pdf</td>\n",
       "      <td>http://sharkattackfile.net/spreadsheets/pdf_di...</td>\n",
       "      <td>http://sharkattackfile.net/spreadsheets/pdf_di...</td>\n",
       "      <td>2018.06.09</td>\n",
       "      <td>2018.06.09</td>\n",
       "      <td>6301.0</td>\n",
       "      <td>NaN</td>\n",
       "      <td>NaN</td>\n",
       "    </tr>\n",
       "    <tr>\n",
       "      <th>3</th>\n",
       "      <td>2018.06.08</td>\n",
       "      <td>08-Jun-2018</td>\n",
       "      <td>2018.0</td>\n",
       "      <td>Unprovoked</td>\n",
       "      <td>AUSTRALIA</td>\n",
       "      <td>New South Wales</td>\n",
       "      <td>Arrawarra Headland</td>\n",
       "      <td>Surfing</td>\n",
       "      <td>male</td>\n",
       "      <td>M</td>\n",
       "      <td>NaN</td>\n",
       "      <td>Minor injury to lower leg</td>\n",
       "      <td>N</td>\n",
       "      <td>NaN</td>\n",
       "      <td>2 m shark</td>\n",
       "      <td>B. Myatt, GSAF</td>\n",
       "      <td>2018.06.08-Arrawarra.pdf</td>\n",
       "      <td>http://sharkattackfile.net/spreadsheets/pdf_di...</td>\n",
       "      <td>http://sharkattackfile.net/spreadsheets/pdf_di...</td>\n",
       "      <td>2018.06.08</td>\n",
       "      <td>2018.06.08</td>\n",
       "      <td>6300.0</td>\n",
       "      <td>NaN</td>\n",
       "      <td>NaN</td>\n",
       "    </tr>\n",
       "    <tr>\n",
       "      <th>4</th>\n",
       "      <td>2018.06.04</td>\n",
       "      <td>04-Jun-2018</td>\n",
       "      <td>2018.0</td>\n",
       "      <td>Provoked</td>\n",
       "      <td>MEXICO</td>\n",
       "      <td>Colima</td>\n",
       "      <td>La Ticla</td>\n",
       "      <td>Free diving</td>\n",
       "      <td>Gustavo Ramos</td>\n",
       "      <td>M</td>\n",
       "      <td>NaN</td>\n",
       "      <td>Lacerations to leg &amp; hand shark PROVOKED INCIDENT</td>\n",
       "      <td>N</td>\n",
       "      <td>NaN</td>\n",
       "      <td>Tiger shark, 3m</td>\n",
       "      <td>A .Kipper</td>\n",
       "      <td>2018.06.04-Ramos.pdf</td>\n",
       "      <td>http://sharkattackfile.net/spreadsheets/pdf_di...</td>\n",
       "      <td>http://sharkattackfile.net/spreadsheets/pdf_di...</td>\n",
       "      <td>2018.06.04</td>\n",
       "      <td>2018.06.04</td>\n",
       "      <td>6299.0</td>\n",
       "      <td>NaN</td>\n",
       "      <td>NaN</td>\n",
       "    </tr>\n",
       "  </tbody>\n",
       "</table>\n",
       "</div>"
      ],
      "text/plain": [
       "  case_number         date    year        type    country             area  \\\n",
       "0  2018.06.25  25-Jun-2018  2018.0     Boating        USA       California   \n",
       "1  2018.06.18  18-Jun-2018  2018.0  Unprovoked        USA          Georgia   \n",
       "2  2018.06.09  09-Jun-2018  2018.0     Invalid        USA           Hawaii   \n",
       "3  2018.06.08  08-Jun-2018  2018.0  Unprovoked  AUSTRALIA  New South Wales   \n",
       "4  2018.06.04  04-Jun-2018  2018.0    Provoked     MEXICO           Colima   \n",
       "\n",
       "                         location     activity             name sex  age  \\\n",
       "0     Oceanside, San Diego County     Paddling      Julie Wolfe   F   57   \n",
       "1  St. Simon Island, Glynn County     Standing  Adyson McNeely    F   11   \n",
       "2                    Habush, Oahu      Surfing      John Denges   M   48   \n",
       "3              Arrawarra Headland      Surfing             male   M  NaN   \n",
       "4                        La Ticla  Free diving   Gustavo Ramos    M  NaN   \n",
       "\n",
       "                                              injury fatal_yon           time  \\\n",
       "0  No injury to occupant, outrigger canoe and pad...         N          18h00   \n",
       "1                         Minor injury to left thigh         N  14h00  -15h00   \n",
       "2       Injury to left lower leg from surfboard skeg         N          07h45   \n",
       "3                          Minor injury to lower leg         N            NaN   \n",
       "4  Lacerations to leg & hand shark PROVOKED INCIDENT         N            NaN   \n",
       "\n",
       "           species          investigator_or_source                       pdf  \\\n",
       "0      White shark                R. Collier, GSAF      2018.06.25-Wolfe.pdf   \n",
       "1              NaN  K.McMurray, TrackingSharks.com    2018.06.18-McNeely.pdf   \n",
       "2              NaN  K.McMurray, TrackingSharks.com     2018.06.09-Denges.pdf   \n",
       "3        2 m shark                  B. Myatt, GSAF  2018.06.08-Arrawarra.pdf   \n",
       "4  Tiger shark, 3m                       A .Kipper      2018.06.04-Ramos.pdf   \n",
       "\n",
       "                                        href_formula  \\\n",
       "0  http://sharkattackfile.net/spreadsheets/pdf_di...   \n",
       "1  http://sharkattackfile.net/spreadsheets/pdf_di...   \n",
       "2  http://sharkattackfile.net/spreadsheets/pdf_di...   \n",
       "3  http://sharkattackfile.net/spreadsheets/pdf_di...   \n",
       "4  http://sharkattackfile.net/spreadsheets/pdf_di...   \n",
       "\n",
       "                                                href case_number_1  \\\n",
       "0  http://sharkattackfile.net/spreadsheets/pdf_di...    2018.06.25   \n",
       "1  http://sharkattackfile.net/spreadsheets/pdf_di...    2018.06.18   \n",
       "2  http://sharkattackfile.net/spreadsheets/pdf_di...    2018.06.09   \n",
       "3  http://sharkattackfile.net/spreadsheets/pdf_di...    2018.06.08   \n",
       "4  http://sharkattackfile.net/spreadsheets/pdf_di...    2018.06.04   \n",
       "\n",
       "  case_number_2  original_order unnamed_22 unnamed_23  \n",
       "0    2018.06.25          6303.0        NaN        NaN  \n",
       "1    2018.06.18          6302.0        NaN        NaN  \n",
       "2    2018.06.09          6301.0        NaN        NaN  \n",
       "3    2018.06.08          6300.0        NaN        NaN  \n",
       "4    2018.06.04          6299.0        NaN        NaN  "
      ]
     },
     "execution_count": 594,
     "metadata": {},
     "output_type": "execute_result"
    }
   ],
   "source": [
    "df.head()"
   ]
  },
  {
   "cell_type": "markdown",
   "id": "a386429b",
   "metadata": {},
   "source": [
    "The columns `unnamed_22` & `unnamed_23` seem to have irrelevant information as its header is \"unnamed\".\n",
    "Let's check which values are and how we can correct them"
   ]
  },
  {
   "cell_type": "code",
   "execution_count": 595,
   "id": "6af3a83c",
   "metadata": {},
   "outputs": [
    {
     "data": {
      "text/plain": [
       "array([nan, 'Teramo', 'change filename'], dtype=object)"
      ]
     },
     "execution_count": 595,
     "metadata": {},
     "output_type": "execute_result"
    }
   ],
   "source": [
    "df.unnamed_23.unique()"
   ]
  },
  {
   "cell_type": "code",
   "execution_count": 596,
   "id": "12c65a79",
   "metadata": {},
   "outputs": [
    {
     "data": {
      "text/plain": [
       "array([nan, 'stopped here'], dtype=object)"
      ]
     },
     "execution_count": 596,
     "metadata": {},
     "output_type": "execute_result"
    }
   ],
   "source": [
    "df.unnamed_22.unique()"
   ]
  },
  {
   "cell_type": "markdown",
   "id": "4fc11076",
   "metadata": {},
   "source": [
    "The restrictions for the project are that none of the columns should be erased. So we are going to replace these values by 'unknown'"
   ]
  },
  {
   "cell_type": "code",
   "execution_count": 597,
   "id": "624711e2",
   "metadata": {},
   "outputs": [],
   "source": [
    "df['unnamed_22'] = 'unknown'\n",
    "df['unnamed_23'] = 'unknown'"
   ]
  },
  {
   "cell_type": "code",
   "execution_count": 598,
   "id": "55b47d7a",
   "metadata": {
    "scrolled": true
   },
   "outputs": [
    {
     "name": "stdout",
     "output_type": "stream",
     "text": [
      "['unknown'] ['unknown']\n"
     ]
    }
   ],
   "source": [
    "print(df.unnamed_22.unique(), df.unnamed_23.unique())"
   ]
  },
  {
   "cell_type": "markdown",
   "id": "61a4d35a",
   "metadata": {},
   "source": [
    "**********************************"
   ]
  },
  {
   "cell_type": "markdown",
   "id": "b7f7f053",
   "metadata": {},
   "source": [
    "### 2. Null values"
   ]
  },
  {
   "cell_type": "markdown",
   "id": "d0f289d3",
   "metadata": {},
   "source": [
    "Now, let's check the null values of the dataset and how we can explore them."
   ]
  },
  {
   "cell_type": "code",
   "execution_count": 599,
   "id": "d654b183",
   "metadata": {},
   "outputs": [
    {
     "data": {
      "text/plain": [
       "case_number               17021\n",
       "date                      19421\n",
       "year                      19423\n",
       "type                      19425\n",
       "country                   19471\n",
       "area                      19876\n",
       "location                  19961\n",
       "activity                  19965\n",
       "name                      19631\n",
       "sex                       19986\n",
       "age                       22252\n",
       "injury                    19449\n",
       "fatal_yon                 19960\n",
       "time                      22775\n",
       "species                   22259\n",
       "investigator_or_source    19438\n",
       "pdf                       19421\n",
       "href_formula              19422\n",
       "href                      19421\n",
       "case_number_1             19421\n",
       "case_number_2             19421\n",
       "original_order            19414\n",
       "dtype: int64"
      ]
     },
     "execution_count": 599,
     "metadata": {},
     "output_type": "execute_result"
    }
   ],
   "source": [
    "nan_cols=df.isna().sum()\n",
    "\n",
    "nan_cols[nan_cols>0]"
   ]
  },
  {
   "cell_type": "code",
   "execution_count": 600,
   "id": "0952c8d0",
   "metadata": {},
   "outputs": [
    {
     "data": {
      "image/png": "[encoded data removed]",
      "text/plain": [
       "<Figure size 720x432 with 1 Axes>"
      ]
     },
     "metadata": {
      "needs_background": "light"
     },
     "output_type": "display_data"
    }
   ],
   "source": [
    "plt.figure(figsize=(10, 6))\n",
    "\n",
    "sns.heatmap(df.isna(),\n",
    "            yticklabels=False,\n",
    "            cmap='viridis',\n",
    "            cbar=False)\n",
    "\n",
    "plt.show()"
   ]
  },
  {
   "cell_type": "markdown",
   "id": "21c41782",
   "metadata": {},
   "source": [
    "All the yellow values of the heatmap are null values. We have to decide what to do in each column in order to clean up the data for the analysis. The yellow are is big so I'm going to erase the rows that have more than 18 null columns "
   ]
  },
  {
   "cell_type": "code",
   "execution_count": 601,
   "id": "4b35b7f8",
   "metadata": {},
   "outputs": [],
   "source": [
    "quantity_of_nulls = 18\n",
    "df.iloc[df[(df.isnull().sum(axis=1)>quantity_of_nulls)].index]\n",
    "df = df.drop(df[df.isnull().sum(axis=1) > 18].index)"
   ]
  },
  {
   "cell_type": "code",
   "execution_count": 602,
   "id": "e12e37ed",
   "metadata": {},
   "outputs": [
    {
     "data": {
      "image/png": "[encoded data removed]",
      "text/plain": [
       "<Figure size 720x432 with 1 Axes>"
      ]
     },
     "metadata": {
      "needs_background": "light"
     },
     "output_type": "display_data"
    }
   ],
   "source": [
    "plt.figure(figsize=(10, 6))\n",
    "\n",
    "sns.heatmap(df.isna(),\n",
    "            yticklabels=False,\n",
    "            cmap='viridis',\n",
    "            cbar=False)\n",
    "\n",
    "plt.show()"
   ]
  },
  {
   "cell_type": "code",
   "execution_count": 603,
   "id": "f0ac9565",
   "metadata": {},
   "outputs": [
    {
     "data": {
      "text/plain": [
       "(6302, 24)"
      ]
     },
     "execution_count": 603,
     "metadata": {},
     "output_type": "execute_result"
    }
   ],
   "source": [
    "df.shape"
   ]
  },
  {
   "cell_type": "markdown",
   "id": "566bf930",
   "metadata": {},
   "source": [
    "Now, the dataset has a **24,5%** of the original data. In other words, the rows with more than **18 of 24** null values are the **76,5%** of the original data."
   ]
  },
  {
   "cell_type": "code",
   "execution_count": 604,
   "id": "44837bc8",
   "metadata": {},
   "outputs": [
    {
     "data": {
      "text/plain": [
       "case_number                  1\n",
       "year                         2\n",
       "type                         4\n",
       "country                     50\n",
       "area                       455\n",
       "location                   540\n",
       "activity                   544\n",
       "name                       210\n",
       "sex                        565\n",
       "age                       2831\n",
       "injury                      28\n",
       "fatal_yon                  539\n",
       "time                      3354\n",
       "species                   2838\n",
       "investigator_or_source      17\n",
       "href_formula                 1\n",
       "dtype: int64"
      ]
     },
     "execution_count": 604,
     "metadata": {},
     "output_type": "execute_result"
    }
   ],
   "source": [
    "nan_cols=df.isna().sum()\n",
    "nan_cols[nan_cols>0]"
   ]
  },
  {
   "cell_type": "markdown",
   "id": "fa1172da",
   "metadata": {},
   "source": [
    "For our insights, we need the columns `'year', 'country', 'time', 'species' , 'age'` .So, if the rows in this coolumns are null, we will drop them."
   ]
  },
  {
   "cell_type": "code",
   "execution_count": 605,
   "id": "0ce850b9",
   "metadata": {},
   "outputs": [
    {
     "data": {
      "image/png": "[encoded data removed]",
      "text/plain": [
       "<Figure size 720x432 with 2 Axes>"
      ]
     },
     "metadata": {
      "needs_background": "light"
     },
     "output_type": "display_data"
    }
   ],
   "source": [
    "plt.figure(figsize=(10, 6))\n",
    "\n",
    "sns.heatmap(df.isna().transpose(),\n",
    "            cmap=\"YlGnBu\",\n",
    "            cbar_kws={'label': 'Missing Data'})\n",
    "\n",
    "plt.show()"
   ]
  },
  {
   "cell_type": "code",
   "execution_count": 606,
   "id": "bd8d771a",
   "metadata": {},
   "outputs": [
    {
     "data": {
      "image/png": "[encoded data removed]",
      "text/plain": [
       "<Figure size 511.25x360 with 1 Axes>"
      ]
     },
     "metadata": {
      "needs_background": "light"
     },
     "output_type": "display_data"
    }
   ],
   "source": [
    "sns.displot(data=df.isna().melt(value_name=\"missing\"),\n",
    "    y=\"variable\",\n",
    "    hue=\"missing\",\n",
    "    multiple=\"fill\",\n",
    "    aspect=1.25)\n",
    "\n",
    "plt.show()"
   ]
  },
  {
   "cell_type": "markdown",
   "id": "7744cce8",
   "metadata": {},
   "source": [
    "As we can see, the columns age, time and species are the ones with higher missing values. Let's erase the values that converge in them."
   ]
  },
  {
   "cell_type": "markdown",
   "id": "0fd5bbc7",
   "metadata": {},
   "source": [
    "##### Age - Time - Species\n",
    "The null values that converge in the three columns"
   ]
  },
  {
   "cell_type": "code",
   "execution_count": 607,
   "id": "a779c4b1",
   "metadata": {},
   "outputs": [],
   "source": [
    "indices_to_drop = list()\n",
    "for index, row in df.iterrows():\n",
    "        if (pd.isnull(row[\"age\"]) or pd.isna(row[\"age\"]) or row[\"age\"] == \" \") and \\\n",
    "                (pd.isnull(row[\"time\"]) or pd.isna(row[\"time\"]) or row[\n",
    "                    \"time\"] == \" \") and \\\n",
    "                (pd.isnull(row[\"species\"]) or pd.isna(row[\"species\"]) or row[\"species\"] == \"\"): \n",
    "            indices_to_drop.append(index)\n",
    "df.drop(labels=indices_to_drop, inplace=True)"
   ]
  },
  {
   "cell_type": "markdown",
   "id": "c7dd57c8",
   "metadata": {},
   "source": [
    "##### Age - Time\n",
    "The null values that converge in both columns "
   ]
  },
  {
   "cell_type": "code",
   "execution_count": 608,
   "id": "032db8e2",
   "metadata": {},
   "outputs": [],
   "source": [
    "indices_to_drop = list()\n",
    "for index, row in df.iterrows():\n",
    "        if (pd.isnull(row[\"age\"]) or pd.isna(row[\"age\"]) or row[\"age\"] == \" \") and \\\n",
    "                (pd.isnull(row[\"time\"]) or pd.isna(row[\"time\"]) or row[\n",
    "                    \"time\"] == \" \"): \n",
    "            indices_to_drop.append(index)\n",
    "df.drop(labels=indices_to_drop, inplace=True)"
   ]
  },
  {
   "cell_type": "markdown",
   "id": "8ac277b4",
   "metadata": {},
   "source": [
    "##### Age - Species\n",
    "The null values that converge in both columns "
   ]
  },
  {
   "cell_type": "code",
   "execution_count": 609,
   "id": "f4ab9324",
   "metadata": {},
   "outputs": [],
   "source": [
    "indices_to_drop = list()\n",
    "for index, row in df.iterrows():\n",
    "        if (pd.isnull(row[\"age\"]) or pd.isna(row[\"age\"]) or row[\"age\"] == \" \") and \\\n",
    "                (pd.isnull(row[\"species\"]) or pd.isna(row[\"species\"]) or row[\n",
    "                    \"species\"] == \" \"): \n",
    "            indices_to_drop.append(index)\n",
    "df.drop(labels=indices_to_drop, inplace=True)"
   ]
  },
  {
   "cell_type": "markdown",
   "id": "6a41cc84",
   "metadata": {},
   "source": [
    "##### Time - Species\n",
    "The null values that converge in both columns "
   ]
  },
  {
   "cell_type": "code",
   "execution_count": 610,
   "id": "f94e9aea",
   "metadata": {},
   "outputs": [],
   "source": [
    "indices_to_drop = list()\n",
    "for index, row in df.iterrows():\n",
    "        if (pd.isnull(row[\"time\"]) or pd.isna(row[\"time\"]) or row[\"time\"] == \" \") and \\\n",
    "                (pd.isnull(row[\"species\"]) or pd.isna(row[\"species\"]) or row[\n",
    "                    \"species\"] == \" \"): \n",
    "            indices_to_drop.append(index)\n",
    "df.drop(labels=indices_to_drop, inplace=True)"
   ]
  },
  {
   "cell_type": "code",
   "execution_count": 611,
   "id": "0160b289",
   "metadata": {},
   "outputs": [
    {
     "data": {
      "image/png": "[encoded data removed]",
      "text/plain": [
       "<Figure size 511.25x360 with 1 Axes>"
      ]
     },
     "metadata": {
      "needs_background": "light"
     },
     "output_type": "display_data"
    }
   ],
   "source": [
    "sns.displot(data=df.isna().melt(value_name=\"missing\"),\n",
    "    y=\"variable\",\n",
    "    hue=\"missing\",\n",
    "    multiple=\"fill\",\n",
    "    aspect=1.25)\n",
    "\n",
    "plt.show()"
   ]
  },
  {
   "cell_type": "code",
   "execution_count": 612,
   "id": "5a799a0c",
   "metadata": {},
   "outputs": [
    {
     "data": {
      "text/plain": [
       "(3311, 24)"
      ]
     },
     "execution_count": 612,
     "metadata": {},
     "output_type": "execute_result"
    }
   ],
   "source": [
    "df.shape"
   ]
  },
  {
   "cell_type": "code",
   "execution_count": 613,
   "id": "fcc4bd2a",
   "metadata": {},
   "outputs": [
    {
     "data": {
      "text/plain": [
       "year                        1\n",
       "country                     7\n",
       "area                       80\n",
       "location                   90\n",
       "activity                   96\n",
       "name                       15\n",
       "sex                        84\n",
       "age                       336\n",
       "injury                      5\n",
       "fatal_yon                 269\n",
       "time                      619\n",
       "species                   783\n",
       "investigator_or_source      4\n",
       "dtype: int64"
      ]
     },
     "execution_count": 613,
     "metadata": {},
     "output_type": "execute_result"
    }
   ],
   "source": [
    "nan_cols=df.isna().sum()\n",
    "nan_cols[nan_cols>0]"
   ]
  },
  {
   "cell_type": "markdown",
   "id": "cd02a40a",
   "metadata": {},
   "source": [
    "##### Column `species`"
   ]
  },
  {
   "cell_type": "code",
   "execution_count": 614,
   "id": "8cfd1dae",
   "metadata": {
    "scrolled": false
   },
   "outputs": [
    {
     "data": {
      "text/plain": [
       "783"
      ]
     },
     "execution_count": 614,
     "metadata": {},
     "output_type": "execute_result"
    }
   ],
   "source": [
    "df['species'].isnull().sum()"
   ]
  },
  {
   "cell_type": "code",
   "execution_count": 615,
   "id": "f2872831",
   "metadata": {},
   "outputs": [
    {
     "data": {
      "text/plain": [
       "1218"
      ]
     },
     "execution_count": 615,
     "metadata": {},
     "output_type": "execute_result"
    }
   ],
   "source": [
    "df.species.nunique()"
   ]
  },
  {
   "cell_type": "markdown",
   "id": "f59b27df",
   "metadata": {},
   "source": [
    "There are 1218 unique values in the column. There are too many, so first we are going to get rid of the null values."
   ]
  },
  {
   "cell_type": "code",
   "execution_count": 616,
   "id": "df3d973d",
   "metadata": {
    "scrolled": true
   },
   "outputs": [
    {
     "data": {
      "text/html": [
       "<div>\n",
       "<style scoped>\n",
       "    .dataframe tbody tr th:only-of-type {\n",
       "        vertical-align: middle;\n",
       "    }\n",
       "\n",
       "    .dataframe tbody tr th {\n",
       "        vertical-align: top;\n",
       "    }\n",
       "\n",
       "    .dataframe thead th {\n",
       "        text-align: right;\n",
       "    }\n",
       "</style>\n",
       "<table border=\"1\" class=\"dataframe\">\n",
       "  <thead>\n",
       "    <tr style=\"text-align: right;\">\n",
       "      <th></th>\n",
       "      <th>case_number</th>\n",
       "      <th>date</th>\n",
       "      <th>year</th>\n",
       "      <th>type</th>\n",
       "      <th>country</th>\n",
       "      <th>area</th>\n",
       "      <th>location</th>\n",
       "      <th>activity</th>\n",
       "      <th>name</th>\n",
       "      <th>sex</th>\n",
       "      <th>age</th>\n",
       "      <th>injury</th>\n",
       "      <th>fatal_yon</th>\n",
       "      <th>time</th>\n",
       "      <th>species</th>\n",
       "      <th>investigator_or_source</th>\n",
       "      <th>pdf</th>\n",
       "      <th>href_formula</th>\n",
       "      <th>href</th>\n",
       "      <th>case_number_1</th>\n",
       "      <th>case_number_2</th>\n",
       "      <th>original_order</th>\n",
       "      <th>unnamed_22</th>\n",
       "      <th>unnamed_23</th>\n",
       "    </tr>\n",
       "  </thead>\n",
       "  <tbody>\n",
       "    <tr>\n",
       "      <th>1</th>\n",
       "      <td>2018.06.18</td>\n",
       "      <td>18-Jun-2018</td>\n",
       "      <td>2018.0</td>\n",
       "      <td>Unprovoked</td>\n",
       "      <td>USA</td>\n",
       "      <td>Georgia</td>\n",
       "      <td>St. Simon Island, Glynn County</td>\n",
       "      <td>Standing</td>\n",
       "      <td>Adyson McNeely</td>\n",
       "      <td>F</td>\n",
       "      <td>11</td>\n",
       "      <td>Minor injury to left thigh</td>\n",
       "      <td>N</td>\n",
       "      <td>14h00  -15h00</td>\n",
       "      <td>NaN</td>\n",
       "      <td>K.McMurray, TrackingSharks.com</td>\n",
       "      <td>2018.06.18-McNeely.pdf</td>\n",
       "      <td>http://sharkattackfile.net/spreadsheets/pdf_di...</td>\n",
       "      <td>http://sharkattackfile.net/spreadsheets/pdf_di...</td>\n",
       "      <td>2018.06.18</td>\n",
       "      <td>2018.06.18</td>\n",
       "      <td>6302.0</td>\n",
       "      <td>unknown</td>\n",
       "      <td>unknown</td>\n",
       "    </tr>\n",
       "    <tr>\n",
       "      <th>2</th>\n",
       "      <td>2018.06.09</td>\n",
       "      <td>09-Jun-2018</td>\n",
       "      <td>2018.0</td>\n",
       "      <td>Invalid</td>\n",
       "      <td>USA</td>\n",
       "      <td>Hawaii</td>\n",
       "      <td>Habush, Oahu</td>\n",
       "      <td>Surfing</td>\n",
       "      <td>John Denges</td>\n",
       "      <td>M</td>\n",
       "      <td>48</td>\n",
       "      <td>Injury to left lower leg from surfboard skeg</td>\n",
       "      <td>N</td>\n",
       "      <td>07h45</td>\n",
       "      <td>NaN</td>\n",
       "      <td>K.McMurray, TrackingSharks.com</td>\n",
       "      <td>2018.06.09-Denges.pdf</td>\n",
       "      <td>http://sharkattackfile.net/spreadsheets/pdf_di...</td>\n",
       "      <td>http://sharkattackfile.net/spreadsheets/pdf_di...</td>\n",
       "      <td>2018.06.09</td>\n",
       "      <td>2018.06.09</td>\n",
       "      <td>6301.0</td>\n",
       "      <td>unknown</td>\n",
       "      <td>unknown</td>\n",
       "    </tr>\n",
       "    <tr>\n",
       "      <th>9</th>\n",
       "      <td>2018.05.26.a</td>\n",
       "      <td>26-May-2018</td>\n",
       "      <td>2018.0</td>\n",
       "      <td>Unprovoked</td>\n",
       "      <td>USA</td>\n",
       "      <td>Florida</td>\n",
       "      <td>Daytona Beach, Volusia County</td>\n",
       "      <td>Standing</td>\n",
       "      <td>male</td>\n",
       "      <td>M</td>\n",
       "      <td>12</td>\n",
       "      <td>Minor injury to foot</td>\n",
       "      <td>N</td>\n",
       "      <td>14h00</td>\n",
       "      <td>NaN</td>\n",
       "      <td>K. McMurray, Tracking Sharks.com</td>\n",
       "      <td>2018.05.26.a-DaytonaBeach.pdf</td>\n",
       "      <td>http://sharkattackfile.net/spreadsheets/pdf_di...</td>\n",
       "      <td>http://sharkattackfile.net/spreadsheets/pdf_di...</td>\n",
       "      <td>2018.05.26.a</td>\n",
       "      <td>2018.05.26.a</td>\n",
       "      <td>6294.0</td>\n",
       "      <td>unknown</td>\n",
       "      <td>unknown</td>\n",
       "    </tr>\n",
       "    <tr>\n",
       "      <th>12</th>\n",
       "      <td>2018.05.13.b</td>\n",
       "      <td>13-May-2018</td>\n",
       "      <td>2018.0</td>\n",
       "      <td>Unprovoked</td>\n",
       "      <td>USA</td>\n",
       "      <td>South Carolina</td>\n",
       "      <td>Hilton Head Island, Beaufort County</td>\n",
       "      <td>Swimming</td>\n",
       "      <td>Jei Turrell</td>\n",
       "      <td>M</td>\n",
       "      <td>10</td>\n",
       "      <td>Severe bite to right forearm</td>\n",
       "      <td>N</td>\n",
       "      <td>15h00</td>\n",
       "      <td>NaN</td>\n",
       "      <td>C. Creswell, GSAF &amp; K. McMurray TrackingSharks...</td>\n",
       "      <td>2018.05.13.b-Turrell.pdf</td>\n",
       "      <td>http://sharkattackfile.net/spreadsheets/pdf_di...</td>\n",
       "      <td>http://sharkattackfile.net/spreadsheets/pdf_di...</td>\n",
       "      <td>2018.05.13.b</td>\n",
       "      <td>2018.05.13.b</td>\n",
       "      <td>6291.0</td>\n",
       "      <td>unknown</td>\n",
       "      <td>unknown</td>\n",
       "    </tr>\n",
       "    <tr>\n",
       "      <th>29</th>\n",
       "      <td>2018.04.15.a</td>\n",
       "      <td>15-Apr-2018</td>\n",
       "      <td>2018.0</td>\n",
       "      <td>Unprovoked</td>\n",
       "      <td>AUSTRALIA</td>\n",
       "      <td>Western Australia</td>\n",
       "      <td>Cobblestones, Margaret River Area</td>\n",
       "      <td>Surfing</td>\n",
       "      <td>Alejandro Travaglini</td>\n",
       "      <td>M</td>\n",
       "      <td>37</td>\n",
       "      <td>Lacerations to legs</td>\n",
       "      <td>N</td>\n",
       "      <td>08h00</td>\n",
       "      <td>NaN</td>\n",
       "      <td>B.Myatt, GSAF</td>\n",
       "      <td>2018.04.15.a-Travaglini.pdf</td>\n",
       "      <td>http://sharkattackfile.net/spreadsheets/pdf_di...</td>\n",
       "      <td>http://sharkattackfile.net/spreadsheets/pdf_di...</td>\n",
       "      <td>2018.04.15.a</td>\n",
       "      <td>2018.04.15.a</td>\n",
       "      <td>6274.0</td>\n",
       "      <td>unknown</td>\n",
       "      <td>unknown</td>\n",
       "    </tr>\n",
       "    <tr>\n",
       "      <th>...</th>\n",
       "      <td>...</td>\n",
       "      <td>...</td>\n",
       "      <td>...</td>\n",
       "      <td>...</td>\n",
       "      <td>...</td>\n",
       "      <td>...</td>\n",
       "      <td>...</td>\n",
       "      <td>...</td>\n",
       "      <td>...</td>\n",
       "      <td>...</td>\n",
       "      <td>...</td>\n",
       "      <td>...</td>\n",
       "      <td>...</td>\n",
       "      <td>...</td>\n",
       "      <td>...</td>\n",
       "      <td>...</td>\n",
       "      <td>...</td>\n",
       "      <td>...</td>\n",
       "      <td>...</td>\n",
       "      <td>...</td>\n",
       "      <td>...</td>\n",
       "      <td>...</td>\n",
       "      <td>...</td>\n",
       "      <td>...</td>\n",
       "    </tr>\n",
       "    <tr>\n",
       "      <th>5991</th>\n",
       "      <td>1858.03.14</td>\n",
       "      <td>14-Mar-1858</td>\n",
       "      <td>1858.0</td>\n",
       "      <td>Unprovoked</td>\n",
       "      <td>AUSTRALIA</td>\n",
       "      <td>Victoria</td>\n",
       "      <td>Hobson Bay</td>\n",
       "      <td>Bathing</td>\n",
       "      <td>Adolphe Bollander</td>\n",
       "      <td>M</td>\n",
       "      <td>22</td>\n",
       "      <td>FATAL</td>\n",
       "      <td>Y</td>\n",
       "      <td>15h00</td>\n",
       "      <td>NaN</td>\n",
       "      <td>Moreton Bay Courier, 3/31/1858</td>\n",
       "      <td>1858.03.14-Bollander.pdf</td>\n",
       "      <td>http://sharkattackfile.net/spreadsheets/pdf_di...</td>\n",
       "      <td>http://sharkattackfile.net/spreadsheets/pdf_di...</td>\n",
       "      <td>1858.03.14</td>\n",
       "      <td>1858.03.14</td>\n",
       "      <td>312.0</td>\n",
       "      <td>unknown</td>\n",
       "      <td>unknown</td>\n",
       "    </tr>\n",
       "    <tr>\n",
       "      <th>6077</th>\n",
       "      <td>1837.01.17</td>\n",
       "      <td>17-Jan-1837</td>\n",
       "      <td>1837.0</td>\n",
       "      <td>Unprovoked</td>\n",
       "      <td>AUSTRALIA</td>\n",
       "      <td>New South Wales</td>\n",
       "      <td>Macleay River</td>\n",
       "      <td>Washing his feet</td>\n",
       "      <td>Alfred Australia Howe</td>\n",
       "      <td>M</td>\n",
       "      <td>12</td>\n",
       "      <td>FATAL     Injured by shark, died of tetanus</td>\n",
       "      <td>Y</td>\n",
       "      <td>Evening</td>\n",
       "      <td>NaN</td>\n",
       "      <td>Gazette (Sydney) 1/31/1837; Proc. Royal Aust. ...</td>\n",
       "      <td>1837.01.17-Howe.pdf</td>\n",
       "      <td>http://sharkattackfile.net/spreadsheets/pdf_di...</td>\n",
       "      <td>http://sharkattackfile.net/spreadsheets/pdf_di...</td>\n",
       "      <td>1837.01.17</td>\n",
       "      <td>1837.01.17</td>\n",
       "      <td>226.0</td>\n",
       "      <td>unknown</td>\n",
       "      <td>unknown</td>\n",
       "    </tr>\n",
       "    <tr>\n",
       "      <th>6114</th>\n",
       "      <td>1817.05.11</td>\n",
       "      <td>11-May-1817</td>\n",
       "      <td>1817.0</td>\n",
       "      <td>Unprovoked</td>\n",
       "      <td>SRI LANKA</td>\n",
       "      <td>Western Province</td>\n",
       "      <td>Colombo</td>\n",
       "      <td>Swimming</td>\n",
       "      <td>William May</td>\n",
       "      <td>M</td>\n",
       "      <td>22</td>\n",
       "      <td>FATAL</td>\n",
       "      <td>Y</td>\n",
       "      <td>Evening</td>\n",
       "      <td>NaN</td>\n",
       "      <td>Edinburgh Advertiser. 11/4/1817; R. DeSilva</td>\n",
       "      <td>1817.05.11-May.pdf</td>\n",
       "      <td>http://sharkattackfile.net/spreadsheets/pdf_di...</td>\n",
       "      <td>http://sharkattackfile.net/spreadsheets/pdf_di...</td>\n",
       "      <td>1817.05.11</td>\n",
       "      <td>1817.05.11</td>\n",
       "      <td>189.0</td>\n",
       "      <td>unknown</td>\n",
       "      <td>unknown</td>\n",
       "    </tr>\n",
       "    <tr>\n",
       "      <th>6160</th>\n",
       "      <td>1703.03.26</td>\n",
       "      <td>26-Mar-1703</td>\n",
       "      <td>1703.0</td>\n",
       "      <td>Unprovoked</td>\n",
       "      <td>BARBADOS</td>\n",
       "      <td>Southwest coast</td>\n",
       "      <td>Carlisle Bay</td>\n",
       "      <td>Swimming</td>\n",
       "      <td>Samuel Jennings, a deserter from the British f...</td>\n",
       "      <td>M</td>\n",
       "      <td>19</td>\n",
       "      <td>Hand and foot severely bitten, surgically ampu...</td>\n",
       "      <td>N</td>\n",
       "      <td>Night</td>\n",
       "      <td>NaN</td>\n",
       "      <td>W.R.Cutter, Vol.1, p.252</td>\n",
       "      <td>1703.03.26-Jennings.pdf</td>\n",
       "      <td>http://sharkattackfile.net/spreadsheets/pdf_di...</td>\n",
       "      <td>http://sharkattackfile.net/spreadsheets/pdf_di...</td>\n",
       "      <td>1703.03.26</td>\n",
       "      <td>1703.03.26</td>\n",
       "      <td>143.0</td>\n",
       "      <td>unknown</td>\n",
       "      <td>unknown</td>\n",
       "    </tr>\n",
       "    <tr>\n",
       "      <th>6241</th>\n",
       "      <td>ND.0065</td>\n",
       "      <td>1960s</td>\n",
       "      <td>0.0</td>\n",
       "      <td>Unprovoked</td>\n",
       "      <td>IRAQ</td>\n",
       "      <td>Basrah</td>\n",
       "      <td>Shatt-al-Arab River</td>\n",
       "      <td>Fishing from a small boat &amp; put his hand in th...</td>\n",
       "      <td>male</td>\n",
       "      <td>M</td>\n",
       "      <td>25</td>\n",
       "      <td>Right hand severed</td>\n",
       "      <td>N</td>\n",
       "      <td>Afternoon</td>\n",
       "      <td>NaN</td>\n",
       "      <td>B.W. Coad &amp; L.A.J. Al-Hassan</td>\n",
       "      <td>ND-0065-deadfish.pdf</td>\n",
       "      <td>http://sharkattackfile.net/spreadsheets/pdf_di...</td>\n",
       "      <td>http://sharkattackfile.net/spreadsheets/pdf_di...</td>\n",
       "      <td>ND.0065</td>\n",
       "      <td>ND.0065</td>\n",
       "      <td>62.0</td>\n",
       "      <td>unknown</td>\n",
       "      <td>unknown</td>\n",
       "    </tr>\n",
       "  </tbody>\n",
       "</table>\n",
       "<p>783 rows × 24 columns</p>\n",
       "</div>"
      ],
      "text/plain": [
       "       case_number         date    year        type    country  \\\n",
       "1       2018.06.18  18-Jun-2018  2018.0  Unprovoked        USA   \n",
       "2       2018.06.09  09-Jun-2018  2018.0     Invalid        USA   \n",
       "9     2018.05.26.a  26-May-2018  2018.0  Unprovoked        USA   \n",
       "12    2018.05.13.b  13-May-2018  2018.0  Unprovoked        USA   \n",
       "29    2018.04.15.a  15-Apr-2018  2018.0  Unprovoked  AUSTRALIA   \n",
       "...            ...          ...     ...         ...        ...   \n",
       "5991    1858.03.14  14-Mar-1858  1858.0  Unprovoked  AUSTRALIA   \n",
       "6077    1837.01.17  17-Jan-1837  1837.0  Unprovoked  AUSTRALIA   \n",
       "6114    1817.05.11  11-May-1817  1817.0  Unprovoked  SRI LANKA   \n",
       "6160    1703.03.26  26-Mar-1703  1703.0  Unprovoked   BARBADOS   \n",
       "6241       ND.0065        1960s     0.0  Unprovoked       IRAQ   \n",
       "\n",
       "                   area                             location  \\\n",
       "1               Georgia       St. Simon Island, Glynn County   \n",
       "2                Hawaii                         Habush, Oahu   \n",
       "9               Florida        Daytona Beach, Volusia County   \n",
       "12       South Carolina  Hilton Head Island, Beaufort County   \n",
       "29    Western Australia    Cobblestones, Margaret River Area   \n",
       "...                 ...                                  ...   \n",
       "5991           Victoria                           Hobson Bay   \n",
       "6077    New South Wales                        Macleay River   \n",
       "6114   Western Province                              Colombo   \n",
       "6160    Southwest coast                         Carlisle Bay   \n",
       "6241             Basrah                  Shatt-al-Arab River   \n",
       "\n",
       "                                               activity  \\\n",
       "1                                              Standing   \n",
       "2                                               Surfing   \n",
       "9                                              Standing   \n",
       "12                                             Swimming   \n",
       "29                                              Surfing   \n",
       "...                                                 ...   \n",
       "5991                                            Bathing   \n",
       "6077                                   Washing his feet   \n",
       "6114                                           Swimming   \n",
       "6160                                           Swimming   \n",
       "6241  Fishing from a small boat & put his hand in th...   \n",
       "\n",
       "                                                   name sex age  \\\n",
       "1                                       Adyson McNeely    F  11   \n",
       "2                                           John Denges   M  48   \n",
       "9                                                  male   M  12   \n",
       "12                                          Jei Turrell   M  10   \n",
       "29                                 Alejandro Travaglini   M  37   \n",
       "...                                                 ...  ..  ..   \n",
       "5991                                  Adolphe Bollander   M  22   \n",
       "6077                              Alfred Australia Howe   M  12   \n",
       "6114                                        William May   M  22   \n",
       "6160  Samuel Jennings, a deserter from the British f...   M  19   \n",
       "6241                                               male   M  25   \n",
       "\n",
       "                                                 injury fatal_yon  \\\n",
       "1                            Minor injury to left thigh         N   \n",
       "2          Injury to left lower leg from surfboard skeg         N   \n",
       "9                                  Minor injury to foot         N   \n",
       "12                         Severe bite to right forearm         N   \n",
       "29                                  Lacerations to legs         N   \n",
       "...                                                 ...       ...   \n",
       "5991                                              FATAL         Y   \n",
       "6077        FATAL     Injured by shark, died of tetanus         Y   \n",
       "6114                                              FATAL         Y   \n",
       "6160  Hand and foot severely bitten, surgically ampu...         N   \n",
       "6241                                 Right hand severed         N   \n",
       "\n",
       "               time species  \\\n",
       "1     14h00  -15h00     NaN   \n",
       "2             07h45     NaN   \n",
       "9             14h00     NaN   \n",
       "12            15h00     NaN   \n",
       "29            08h00     NaN   \n",
       "...             ...     ...   \n",
       "5991          15h00     NaN   \n",
       "6077        Evening     NaN   \n",
       "6114        Evening     NaN   \n",
       "6160          Night     NaN   \n",
       "6241      Afternoon     NaN   \n",
       "\n",
       "                                 investigator_or_source  \\\n",
       "1                        K.McMurray, TrackingSharks.com   \n",
       "2                        K.McMurray, TrackingSharks.com   \n",
       "9                      K. McMurray, Tracking Sharks.com   \n",
       "12    C. Creswell, GSAF & K. McMurray TrackingSharks...   \n",
       "29                                        B.Myatt, GSAF   \n",
       "...                                                 ...   \n",
       "5991                     Moreton Bay Courier, 3/31/1858   \n",
       "6077  Gazette (Sydney) 1/31/1837; Proc. Royal Aust. ...   \n",
       "6114        Edinburgh Advertiser. 11/4/1817; R. DeSilva   \n",
       "6160                           W.R.Cutter, Vol.1, p.252   \n",
       "6241                       B.W. Coad & L.A.J. Al-Hassan   \n",
       "\n",
       "                                pdf  \\\n",
       "1            2018.06.18-McNeely.pdf   \n",
       "2             2018.06.09-Denges.pdf   \n",
       "9     2018.05.26.a-DaytonaBeach.pdf   \n",
       "12         2018.05.13.b-Turrell.pdf   \n",
       "29      2018.04.15.a-Travaglini.pdf   \n",
       "...                             ...   \n",
       "5991       1858.03.14-Bollander.pdf   \n",
       "6077            1837.01.17-Howe.pdf   \n",
       "6114             1817.05.11-May.pdf   \n",
       "6160        1703.03.26-Jennings.pdf   \n",
       "6241           ND-0065-deadfish.pdf   \n",
       "\n",
       "                                           href_formula  \\\n",
       "1     http://sharkattackfile.net/spreadsheets/pdf_di...   \n",
       "2     http://sharkattackfile.net/spreadsheets/pdf_di...   \n",
       "9     http://sharkattackfile.net/spreadsheets/pdf_di...   \n",
       "12    http://sharkattackfile.net/spreadsheets/pdf_di...   \n",
       "29    http://sharkattackfile.net/spreadsheets/pdf_di...   \n",
       "...                                                 ...   \n",
       "5991  http://sharkattackfile.net/spreadsheets/pdf_di...   \n",
       "6077  http://sharkattackfile.net/spreadsheets/pdf_di...   \n",
       "6114  http://sharkattackfile.net/spreadsheets/pdf_di...   \n",
       "6160  http://sharkattackfile.net/spreadsheets/pdf_di...   \n",
       "6241  http://sharkattackfile.net/spreadsheets/pdf_di...   \n",
       "\n",
       "                                                   href case_number_1  \\\n",
       "1     http://sharkattackfile.net/spreadsheets/pdf_di...    2018.06.18   \n",
       "2     http://sharkattackfile.net/spreadsheets/pdf_di...    2018.06.09   \n",
       "9     http://sharkattackfile.net/spreadsheets/pdf_di...  2018.05.26.a   \n",
       "12    http://sharkattackfile.net/spreadsheets/pdf_di...  2018.05.13.b   \n",
       "29    http://sharkattackfile.net/spreadsheets/pdf_di...  2018.04.15.a   \n",
       "...                                                 ...           ...   \n",
       "5991  http://sharkattackfile.net/spreadsheets/pdf_di...    1858.03.14   \n",
       "6077  http://sharkattackfile.net/spreadsheets/pdf_di...    1837.01.17   \n",
       "6114  http://sharkattackfile.net/spreadsheets/pdf_di...    1817.05.11   \n",
       "6160  http://sharkattackfile.net/spreadsheets/pdf_di...    1703.03.26   \n",
       "6241  http://sharkattackfile.net/spreadsheets/pdf_di...       ND.0065   \n",
       "\n",
       "     case_number_2  original_order unnamed_22 unnamed_23  \n",
       "1       2018.06.18          6302.0    unknown    unknown  \n",
       "2       2018.06.09          6301.0    unknown    unknown  \n",
       "9     2018.05.26.a          6294.0    unknown    unknown  \n",
       "12    2018.05.13.b          6291.0    unknown    unknown  \n",
       "29    2018.04.15.a          6274.0    unknown    unknown  \n",
       "...            ...             ...        ...        ...  \n",
       "5991    1858.03.14           312.0    unknown    unknown  \n",
       "6077    1837.01.17           226.0    unknown    unknown  \n",
       "6114    1817.05.11           189.0    unknown    unknown  \n",
       "6160    1703.03.26           143.0    unknown    unknown  \n",
       "6241       ND.0065            62.0    unknown    unknown  \n",
       "\n",
       "[783 rows x 24 columns]"
      ]
     },
     "execution_count": 616,
     "metadata": {},
     "output_type": "execute_result"
    }
   ],
   "source": [
    "df[df['species'].isna()]"
   ]
  },
  {
   "cell_type": "code",
   "execution_count": 617,
   "id": "1f0df7be",
   "metadata": {},
   "outputs": [],
   "source": [
    "index_sp=df[df['species'].isna()].index\n",
    "df.drop(index=index_sp,inplace=True)"
   ]
  },
  {
   "cell_type": "code",
   "execution_count": 618,
   "id": "f28ab88b",
   "metadata": {},
   "outputs": [
    {
     "data": {
      "text/plain": [
       "(2528, 24)"
      ]
     },
     "execution_count": 618,
     "metadata": {},
     "output_type": "execute_result"
    }
   ],
   "source": [
    "df.shape"
   ]
  },
  {
   "cell_type": "code",
   "execution_count": 619,
   "id": "8f9fc7b3",
   "metadata": {},
   "outputs": [
    {
     "data": {
      "image/png": "[encoded data removed]",
      "text/plain": [
       "<Figure size 511.25x360 with 1 Axes>"
      ]
     },
     "metadata": {
      "needs_background": "light"
     },
     "output_type": "display_data"
    }
   ],
   "source": [
    "sns.displot(data=df.isna().melt(value_name=\"missing\"),\n",
    "    y=\"variable\",\n",
    "    hue=\"missing\",\n",
    "    multiple=\"fill\",\n",
    "    aspect=1.25)\n",
    "\n",
    "plt.show()"
   ]
  },
  {
   "cell_type": "markdown",
   "id": "c7c005ce",
   "metadata": {},
   "source": [
    "##### Column `time`"
   ]
  },
  {
   "cell_type": "code",
   "execution_count": 620,
   "id": "45bc7212",
   "metadata": {},
   "outputs": [
    {
     "data": {
      "text/plain": [
       "619"
      ]
     },
     "execution_count": 620,
     "metadata": {},
     "output_type": "execute_result"
    }
   ],
   "source": [
    "df['time'].isnull().sum()"
   ]
  },
  {
   "cell_type": "code",
   "execution_count": 621,
   "id": "fdc30fe5",
   "metadata": {},
   "outputs": [
    {
     "data": {
      "text/plain": [
       "array(['18h00', 'Late afternoon', nan, '17h00', 'Morning', '08h15',\n",
       "       '10h30', '10h40', '07h00', '09h30', 'Afternoon', '21h50', '09h40',\n",
       "       '15h00', '17h35', '15h30', '07h30', '19h00, Dusk', '16h00',\n",
       "       '08h00', '15h01', '13h45', '23h30', '09h00', '14h30', '18h30',\n",
       "       '12h30', '14h00', '18h45', '06h00', 'Midday', '10h00', '13h30',\n",
       "       '10h45', '11h20', '07h45', '11h00', '19h30', '08h30', '15h45',\n",
       "       'Shortly before 12h00', '08h50', '12h00', '02h00', '9h00', '15h15',\n",
       "       '16h30', '11h30', 'After noon', '22h00', '16h20', '15h25', '17h30',\n",
       "       'Morning ', '13h20', 'Midnight', '09h30 / 10h00', '10h15', '18h15',\n",
       "       '13h50', '19h20', '10h25', '10h45-11h15', '16h45', '15h52',\n",
       "       '06h15', '14h40', '19h45', '19h00', '10h10', '08h45', '12h10',\n",
       "       '18h05', '12h25', '17h51', '16h12', '12h45', '10h50', '14h15',\n",
       "       '13h00', '09h45', '11h45', '06h45', '05h00', '03h30', 'Night',\n",
       "       '11h15', '06h30', '20h00', '16h40', '16h18', '11h10', '17h50',\n",
       "       '18h15-18h30', '08h20', '20h30', '15h19', '10h55', '15h55',\n",
       "       '23h00', '12h40', '16h05', '14h10', '12h50', '13h40', '13h24',\n",
       "       '09h00 - 09h30', '0830', '14h50', '11h40', '08h10', '15h56',\n",
       "       '1600', '17h17', '09h05', '07h15', '14h20', '07h20', '19h28',\n",
       "       '12h38', '05h50', '15h50', '11h05', '15h40', 'Early morning',\n",
       "       '05h45', '13h25', '09h50', '13h26', '09h11', 'Evening', '13h15',\n",
       "       '17h45', 'Early afternoon', '18h20', '15h35', '14h55', '08h05',\n",
       "       '19h15', '10h35', '14h45', '21h00', 'Lunchtime', '15j45', '09h35',\n",
       "       '10h27', '10h16', 'Before 07h00', '09h20', '17h20', 'Dusk',\n",
       "       '13h55', '18h50', '\"Just before 11h00\"', '11h115', '12h39',\n",
       "       '07h05', '12h15', '11h50', '\"Evening\"', 'Just before sundown',\n",
       "       '17h15', '12h05', '15h20', '16h10', '06h10', '16h15',\n",
       "       'Between 05h00 and 08h00', '07h08', '17h00 or 17h40', '>08h00',\n",
       "       '12h20', '--', '12h55', '16h14', '17h11', '00h30', '10h07',\n",
       "       '13h53', '13h23', 'Just after 12h00', '02h30', '08h40', '11h56',\n",
       "       '14h35', ' ', 'Early Morning', 'Shortly after midnight', '13h345',\n",
       "       '\\xa0 ', '09h00 -10h00', '20h45 (Sunset)', 'Sunset',\n",
       "       'Late morning', 'P.M.', 'Shortly before 13h00', '12h34', '11h53',\n",
       "       '8:04 pm', '12h35', 'Possibly same incident as 2000.08.21', 'Noon',\n",
       "       '17h40', '11h25', '18h25', '10h28', '09h15', '20h15', '14h16',\n",
       "       '09h55', '2 hours after Opperman', '15h05', '09h30 ',\n",
       "       '11h00 / 11h30', '07h19', '11h06', '\"Night\"', '18h30?', '11h58',\n",
       "       '11h51', '18h12', '07h10', 'A.M.', '07h40', '12h33', '>06h45',\n",
       "       '15h06', '12h54', '16h35', 'Between 06h00 & 07h20', '16h55',\n",
       "       '16h50', '05h40', '21h30', 'X', '08h57', '06j00', '08h35', '02h45',\n",
       "       '04h00', '10h20', '18h10', '03h00', 'Mid-morning',\n",
       "       '16h30 or 18h00', ' 14h00', 'Daytime', '12h48', '06h50', '18h40',\n",
       "       '01h00', 'Dark', '10h00 / 11h00', '\"After lunch\"', '07h32',\n",
       "       '15h00 or 15h45', '>17h00', '19h00 / 20h00', 'Dawn',\n",
       "       '12h45 / 13h45', '14h00 - 15h00', '13h10', '09h30 / 15h30',\n",
       "       '08h00 / 09h30', '19h35', '12h00 to 14h00', 'Late night', '01h32',\n",
       "       '10h30 or 13h30', '17h10', '16h23', '13h05', '\"After dark\"',\n",
       "       '10h00 or 14h00', '1500', '>14h30', 'Between 11h00 & 12h00',\n",
       "       'After dusk', 'Late afternon', 'Late Afternoon', '   ', 'dusk',\n",
       "       'Before 10h30', '01h50'], dtype=object)"
      ]
     },
     "execution_count": 621,
     "metadata": {},
     "output_type": "execute_result"
    }
   ],
   "source": [
    "df.time.unique()"
   ]
  },
  {
   "cell_type": "markdown",
   "id": "65a0e62f",
   "metadata": {},
   "source": [
    "There are many values that:\n",
    "1. they don't say what exact hour is (evening, daybreak, etc)\n",
    "2. range of hours\n",
    "3. Sentences out of context\n",
    "\n"
   ]
  },
  {
   "cell_type": "code",
   "execution_count": 622,
   "id": "4f0dcbac",
   "metadata": {},
   "outputs": [],
   "source": [
    "index_time=df[df['time'].isna()].index\n",
    "df.drop(index=index_time,inplace=True)"
   ]
  },
  {
   "cell_type": "code",
   "execution_count": 623,
   "id": "cc40b566",
   "metadata": {},
   "outputs": [
    {
     "data": {
      "text/plain": [
       "(1909, 24)"
      ]
     },
     "execution_count": 623,
     "metadata": {},
     "output_type": "execute_result"
    }
   ],
   "source": [
    "df.shape"
   ]
  },
  {
   "cell_type": "code",
   "execution_count": 624,
   "id": "d5346984",
   "metadata": {},
   "outputs": [
    {
     "data": {
      "text/plain": [
       "country                     5\n",
       "area                       32\n",
       "location                   30\n",
       "activity                   32\n",
       "name                       12\n",
       "sex                        72\n",
       "age                       336\n",
       "injury                      3\n",
       "fatal_yon                 143\n",
       "investigator_or_source      2\n",
       "dtype: int64"
      ]
     },
     "execution_count": 624,
     "metadata": {},
     "output_type": "execute_result"
    }
   ],
   "source": [
    "nan_cols=df.isna().sum()\n",
    "nan_cols[nan_cols>0]"
   ]
  },
  {
   "cell_type": "code",
   "execution_count": 625,
   "id": "ef7bef83",
   "metadata": {},
   "outputs": [],
   "source": [
    "index_time=df[df['age'].isna()].index\n",
    "df.drop(index=index_time,inplace=True)"
   ]
  },
  {
   "cell_type": "code",
   "execution_count": 626,
   "id": "14b8eba4",
   "metadata": {},
   "outputs": [
    {
     "data": {
      "text/plain": [
       "(1573, 24)"
      ]
     },
     "execution_count": 626,
     "metadata": {},
     "output_type": "execute_result"
    }
   ],
   "source": [
    "df.shape"
   ]
  },
  {
   "cell_type": "code",
   "execution_count": 627,
   "id": "d99c2a3a",
   "metadata": {},
   "outputs": [
    {
     "data": {
      "image/png": "[encoded data removed]",
      "text/plain": [
       "<Figure size 511.25x360 with 1 Axes>"
      ]
     },
     "metadata": {
      "needs_background": "light"
     },
     "output_type": "display_data"
    }
   ],
   "source": [
    "sns.displot(data=df.isna().melt(value_name=\"missing\"),\n",
    "    y=\"variable\",\n",
    "    hue=\"missing\",\n",
    "    multiple=\"fill\",\n",
    "    aspect=1.25)\n",
    "\n",
    "plt.show()"
   ]
  },
  {
   "cell_type": "markdown",
   "id": "88c9ae73",
   "metadata": {},
   "source": [
    "##### Column `species`"
   ]
  },
  {
   "cell_type": "code",
   "execution_count": 628,
   "id": "49507964",
   "metadata": {},
   "outputs": [
    {
     "data": {
      "image/png": "[encoded data removed]",
      "text/plain": [
       "<Figure size 511.25x360 with 1 Axes>"
      ]
     },
     "metadata": {
      "needs_background": "light"
     },
     "output_type": "display_data"
    }
   ],
   "source": [
    "sns.displot(data=df.isna().melt(value_name=\"missing\"),\n",
    "    y=\"variable\",\n",
    "    hue=\"missing\",\n",
    "    multiple=\"fill\",\n",
    "    aspect=1.25)\n",
    "\n",
    "plt.show()"
   ]
  },
  {
   "cell_type": "code",
   "execution_count": null,
   "id": "97d509ad",
   "metadata": {},
   "outputs": [],
   "source": []
  },
  {
   "cell_type": "code",
   "execution_count": 629,
   "id": "653f26fe",
   "metadata": {},
   "outputs": [],
   "source": [
    "df.loc[df['species'].str.contains('white', case=False), 'species'] = 'White shark'"
   ]
  },
  {
   "cell_type": "code",
   "execution_count": 630,
   "id": "3c620c91",
   "metadata": {},
   "outputs": [],
   "source": [
    "df.loc[df['species'].str.contains('bull', case=False), 'species'] = 'Bull shark'"
   ]
  },
  {
   "cell_type": "code",
   "execution_count": 631,
   "id": "e69d8222",
   "metadata": {},
   "outputs": [],
   "source": [
    "df.loc[df['species'].str.contains('tiger', case=False), 'species'] = 'Tiger shark'"
   ]
  },
  {
   "cell_type": "code",
   "execution_count": 632,
   "id": "fa14a908",
   "metadata": {},
   "outputs": [],
   "source": [
    "df.loc[df['species'].str.contains('Shark involvement ', case=False), 'species'] = 'Unknown'\n",
    "df.loc[df['species'].str.contains('debris', case=False), 'species'] = 'Unknown'\n",
    "df.loc[df['species'].str.contains('unidentified', case=False), 'species'] = 'Unknown'\n",
    "df.loc[df['species'].str.contains('no shark', case=False), 'species'] = 'Unknown'"
   ]
  },
  {
   "cell_type": "code",
   "execution_count": 633,
   "id": "688e9884",
   "metadata": {},
   "outputs": [],
   "source": [
    "df.loc[df['species'].str.contains('blacktip or spinner shark', case=False), 'species'] = 'Blacktip reef shark'\n",
    "df.loc[df['species'].str.contains('blacktip ', case=False), 'species'] = 'Blacktip reef shark'"
   ]
  },
  {
   "cell_type": "code",
   "execution_count": 634,
   "id": "1d89297b",
   "metadata": {},
   "outputs": [],
   "source": [
    "df.loc[df['species'].str.contains('Wobbegong', case=False), 'species'] = 'Wobbegong shark'"
   ]
  },
  {
   "cell_type": "code",
   "execution_count": 635,
   "id": "cced6a1c",
   "metadata": {},
   "outputs": [],
   "source": [
    "df.loc[df['species'].str.contains('Blue ', case=False), 'species'] = 'Blue shark'"
   ]
  },
  {
   "cell_type": "code",
   "execution_count": 636,
   "id": "e4545920",
   "metadata": {},
   "outputs": [],
   "source": [
    "df.loc[df['species'].str.contains('Caribbean', case=False), 'species'] = 'Caribbean reef shark'"
   ]
  },
  {
   "cell_type": "code",
   "execution_count": 637,
   "id": "9f0ba529",
   "metadata": {},
   "outputs": [],
   "source": [
    "df.loc[df['species'].str.contains('dogfish', case=False), 'species'] = 'Dogfish shark'"
   ]
  },
  {
   "cell_type": "code",
   "execution_count": 638,
   "id": "ac993c13",
   "metadata": {},
   "outputs": [],
   "source": [
    "df.loc[df['species'].str.contains('tawny', case=False), 'species'] = 'Tawny nurse shark'"
   ]
  },
  {
   "cell_type": "code",
   "execution_count": 639,
   "id": "ce708e39",
   "metadata": {},
   "outputs": [],
   "source": [
    "df.loc[df['species'].str.contains('mako', case=False), 'species'] = 'Mako shark'"
   ]
  },
  {
   "cell_type": "code",
   "execution_count": 640,
   "id": "a98b4621",
   "metadata": {},
   "outputs": [],
   "source": [
    "df.loc[df['species'].str.contains('grey reef shark', case=False), 'species'] = 'Grey reef shark'"
   ]
  },
  {
   "cell_type": "code",
   "execution_count": 641,
   "id": "c66dbcda",
   "metadata": {},
   "outputs": [],
   "source": [
    "df.loc[df['species'].str.contains('bronze', case=False), 'species'] = 'Bronze whaler shark'"
   ]
  },
  {
   "cell_type": "code",
   "execution_count": 642,
   "id": "52367eb5",
   "metadata": {},
   "outputs": [],
   "source": [
    "df.loc[df['species'].str.contains('galapagos', case=False), 'species'] = 'Galapagos shark'"
   ]
  },
  {
   "cell_type": "code",
   "execution_count": 643,
   "id": "516e9b02",
   "metadata": {},
   "outputs": [],
   "source": [
    "df.loc[df['species'].str.contains('spin', case=False), 'species'] = 'Spinner shark'"
   ]
  },
  {
   "cell_type": "code",
   "execution_count": 644,
   "id": "1bc32d67",
   "metadata": {},
   "outputs": [],
   "source": [
    "df.loc[df['species'].str.contains('hammer', case=False), 'species'] = 'Hammerhead shark'"
   ]
  },
  {
   "cell_type": "code",
   "execution_count": 645,
   "id": "8bc14489",
   "metadata": {},
   "outputs": [],
   "source": [
    "df.loc[df['species'].str.contains('Sandtiger', case=False), 'species'] = 'Sandtiger shark'"
   ]
  },
  {
   "cell_type": "code",
   "execution_count": 646,
   "id": "80399edd",
   "metadata": {},
   "outputs": [],
   "source": [
    "df.loc[df['species'].str.contains('Ragged', case=False), 'species'] = 'Raggedtooth shark'"
   ]
  },
  {
   "cell_type": "code",
   "execution_count": 647,
   "id": "3972bef1",
   "metadata": {},
   "outputs": [],
   "source": [
    "df.loc[df['species'].str.contains('grey nurse', case=False), 'species'] = 'Grey nurse shark'\n",
    "df.loc[df['species'].str.contains('grey colored', case=False), 'species']  = 'Grey nurse shark'\n",
    "df.loc[df['species'].str.contains('1m', case=False), 'species'] ='Grey reef shark' "
   ]
  },
  {
   "cell_type": "code",
   "execution_count": 648,
   "id": "487acc72",
   "metadata": {},
   "outputs": [],
   "source": [
    "df.loc[df['species'].str.contains('Port', case=False), 'species'] = 'Port Jackson shark'"
   ]
  },
  {
   "cell_type": "code",
   "execution_count": 649,
   "id": "ca13cdbb",
   "metadata": {},
   "outputs": [],
   "source": [
    "df.loc[df['species'].str.contains('Zambessi', case=False), 'species'] = 'Zambezi shark'\n",
    "df.loc[df['species'].str.contains('Zambesi', case=False), 'species'] = 'Zambezi shark'\n",
    "df.loc[df['species'].str.contains('tooth', case=False), 'species'] = 'Zambezi shark'"
   ]
  },
  {
   "cell_type": "code",
   "execution_count": 650,
   "id": "1a9cc371",
   "metadata": {},
   "outputs": [],
   "source": [
    "df.loc[df['species'].str.contains('whitetip', case=False), 'species'] = 'Ocean whitetip shark'"
   ]
  },
  {
   "cell_type": "code",
   "execution_count": 651,
   "id": "c60ae234",
   "metadata": {},
   "outputs": [],
   "source": [
    "df.loc[df['species'].str.contains('Porbeagle', case=False), 'species'] = 'Porbeagle shark'"
   ]
  },
  {
   "cell_type": "code",
   "execution_count": 652,
   "id": "8d02f494",
   "metadata": {},
   "outputs": [],
   "source": [
    "df.loc[df['species'].str.contains('angel', case=False), 'species'] = 'Angel shark'"
   ]
  },
  {
   "cell_type": "code",
   "execution_count": 653,
   "id": "e3188bd7",
   "metadata": {},
   "outputs": [],
   "source": [
    "df.loc[df['species'].str.contains('lemon', case=False), 'species'] = 'Lemon shark'"
   ]
  },
  {
   "cell_type": "code",
   "execution_count": 654,
   "id": "efad06c1",
   "metadata": {},
   "outputs": [],
   "source": [
    "df.loc[df['species'].str.contains('spur', case=False), 'species'] = 'Spurdog shark'"
   ]
  },
  {
   "cell_type": "code",
   "execution_count": 655,
   "id": "b6cc9661",
   "metadata": {},
   "outputs": [],
   "source": [
    "df.loc[df['species'].str.contains('cookie', case=False), 'species'] = 'Cookie cutter shark'"
   ]
  },
  {
   "cell_type": "code",
   "execution_count": 656,
   "id": "aae6c258",
   "metadata": {},
   "outputs": [],
   "source": [
    "df.loc[df['species'].str.contains('dusky', case=False), 'species'] = 'Dusky shark'"
   ]
  },
  {
   "cell_type": "code",
   "execution_count": 657,
   "id": "bde5ec39",
   "metadata": {},
   "outputs": [],
   "source": [
    "df.loc[df['species'].str.contains('seven', case=False), 'species'] = 'Sevengill shark'"
   ]
  },
  {
   "cell_type": "code",
   "execution_count": 658,
   "id": "e9ba5894",
   "metadata": {},
   "outputs": [],
   "source": [
    "df.loc[df['species'].str.contains('sand', case=False), 'species'] = 'Sand shark'"
   ]
  },
  {
   "cell_type": "code",
   "execution_count": 659,
   "id": "d525defd",
   "metadata": {},
   "outputs": [],
   "source": [
    "df.loc[df['species'].str.contains('copper', case=False), 'species'] = 'Copper shark'"
   ]
  },
  {
   "cell_type": "code",
   "execution_count": 660,
   "id": "5e9822a0",
   "metadata": {
    "scrolled": true
   },
   "outputs": [],
   "source": [
    "df.loc[df['species'].str.contains('3 m', case=False), 'species'] = 'Unknown'\n",
    "df.loc[df['species'].str.contains(' m ', case=False), 'species'] = 'Unknown'\n",
    "df.loc[df['species'].str.contains('small', case=False), 'species'] = 'Unknown'\n",
    "df.loc[df['species'].str.contains(\"'\", case=False), 'species'] = 'Unknown'\n",
    "df.loc[df['species'].str.contains('\"', case=False), 'species'] = 'Unknown'\n",
    "df.loc[df['species'].str.contains('kg', case=False), 'species'] ='Unknown'\n",
    "df.loc[df['species'].str.contains('Invalid', case=False), 'species'] ='Unknown'\n",
    "df.loc[df['species'].str.contains('Questionable', case=False), 'species'] ='Unknown'\n",
    "df.loc[df['species'].str.contains('-', case=False), 'species'] ='Unknown'\n",
    "df.loc[df['species'].str.contains('C. ', case=False), 'species'] ='Unknown'\n",
    "df.loc[df['species'].str.contains('xa0', case=False), 'species'] ='Unknown'\n",
    "df.loc[df['species'].str.contains('gill', case=False), 'species'] ='Unknown'\n",
    "df.loc[df['species'].str.contains(' not ', case=False), 'species'] ='Unknown'\n",
    "df.loc[df['species'].str.contains('lb', case=False), 'species'] ='Unknown'\n",
    "df.loc[df['species'].str.contains(',', case=False), 'species'] ='Unknown'\n",
    "df.loc[df['species'].str.contains('?', case=False, regex=False), 'species'] ='Unknown'\n",
    "df.loc[df['species'].str.contains('juvenile', case=False), 'species'] ='Unknown'\n",
    "df.loc[df['species'].str.contains('2', case=False), 'species'] ='Unknown'\n",
    "df.loc[df['species'].str.contains('1.8', case=False), 'species'] ='Unknown'\n",
    "df.loc[df['species'].str.contains('incident', case=False), 'species'] ='Unknown'\n",
    "df.loc[df['species'].str.contains('injury', case=False), 'species'] ='Unknown'\n",
    "df.loc[df['species'].str.contains('\\xa0 ', case=False, regex=False), 'species'] ='Unknown' \n",
    "df.loc[df['species'].str.contains('authenticated', case=False, regex=False), 'species'] ='Unknown' "
   ]
  },
  {
   "cell_type": "code",
   "execution_count": 661,
   "id": "f4b65600",
   "metadata": {},
   "outputs": [
    {
     "data": {
      "text/plain": [
       "Int64Index([1348, 1357, 1454], dtype='int64')"
      ]
     },
     "execution_count": 661,
     "metadata": {},
     "output_type": "execute_result"
    }
   ],
   "source": [
    "df[df['species'] == ' '].index"
   ]
  },
  {
   "cell_type": "code",
   "execution_count": 662,
   "id": "10917913",
   "metadata": {},
   "outputs": [],
   "source": [
    "df.loc[[1348],\"species\"]= 'Unknown'\n",
    "df.loc[[1357],\"species\"]= 'Unknown'\n",
    "df.loc[[1454],\"species\"]= 'Unknown'"
   ]
  },
  {
   "cell_type": "code",
   "execution_count": 663,
   "id": "3b0b3888",
   "metadata": {},
   "outputs": [],
   "source": [
    "df[df['species'] == 'Not a shark attack; it was a hoax'].index\n",
    "df.loc[[1304],\"species\"]= 'Unknown'"
   ]
  },
  {
   "cell_type": "code",
   "execution_count": 664,
   "id": "254dee08",
   "metadata": {
    "scrolled": true
   },
   "outputs": [
    {
     "data": {
      "text/plain": [
       "array(['White shark', 'Tiger shark', 'Bull shark', 'Grey reef shark',\n",
       "       'Unknown', 'Wobbegong shark', 'Blacktip reef shark', 'Blue shark',\n",
       "       'Dogfish shark', 'Tawny nurse shark', 'Caribbean reef shark',\n",
       "       'Mako shark', 'Bronze whaler shark', 'Galapagos shark',\n",
       "       'Spinner shark', 'Hammerhead shark', 'Zambezi shark', 'Sand shark',\n",
       "       'Nurse shark', 'Grey nurse shark', 'Lemon shark',\n",
       "       'Porbeagle shark', 'Angel shark', 'Thresher shark',\n",
       "       'Spurdog shark', 'Cookie cutter shark', 'Dusky shark',\n",
       "       'Port Jackson shark', 'Copper shark'], dtype=object)"
      ]
     },
     "execution_count": 664,
     "metadata": {},
     "output_type": "execute_result"
    }
   ],
   "source": [
    "df.species.unique()"
   ]
  },
  {
   "cell_type": "code",
   "execution_count": 665,
   "id": "41bb7879",
   "metadata": {},
   "outputs": [
    {
     "data": {
      "image/png": "[encoded data removed]",
      "text/plain": [
       "<Figure size 511.25x360 with 1 Axes>"
      ]
     },
     "metadata": {
      "needs_background": "light"
     },
     "output_type": "display_data"
    }
   ],
   "source": [
    "sns.displot(data=df.isna().melt(value_name=\"missing\"),\n",
    "    y=\"variable\",\n",
    "    hue=\"missing\",\n",
    "    multiple=\"fill\",\n",
    "    aspect=1.25)\n",
    "\n",
    "plt.show()"
   ]
  },
  {
   "cell_type": "markdown",
   "id": "8cc160ad",
   "metadata": {},
   "source": [
    "No missing values left in species"
   ]
  },
  {
   "cell_type": "markdown",
   "id": "99ad61f2",
   "metadata": {},
   "source": [
    "-------------------------"
   ]
  },
  {
   "cell_type": "markdown",
   "id": "fb644bf4",
   "metadata": {},
   "source": [
    "##### Exploración columna `area`"
   ]
  },
  {
   "cell_type": "code",
   "execution_count": 685,
   "id": "efd74c3e",
   "metadata": {},
   "outputs": [
    {
     "data": {
      "text/plain": [
       "(1573, 24)"
      ]
     },
     "execution_count": 685,
     "metadata": {},
     "output_type": "execute_result"
    }
   ],
   "source": [
    "df.shape"
   ]
  },
  {
   "cell_type": "code",
   "execution_count": 693,
   "id": "d1ad2c7a",
   "metadata": {
    "scrolled": true
   },
   "outputs": [
    {
     "data": {
      "text/plain": [
       "Int64Index([  33,   48,  129,  229,  856, 1195, 1365, 2441, 2444, 2581, 2632,\n",
       "            2937, 3527, 3579, 3661, 3806, 3884, 3960, 4008, 4140, 4441],\n",
       "           dtype='int64')"
      ]
     },
     "execution_count": 693,
     "metadata": {},
     "output_type": "execute_result"
    }
   ],
   "source": [
    "index_area=df[df['area'].isna()].index\n",
    "index_area\n"
   ]
  },
  {
   "cell_type": "code",
   "execution_count": 694,
   "id": "d2e06deb",
   "metadata": {
    "scrolled": true
   },
   "outputs": [
    {
     "data": {
      "text/html": [
       "<div>\n",
       "<style scoped>\n",
       "    .dataframe tbody tr th:only-of-type {\n",
       "        vertical-align: middle;\n",
       "    }\n",
       "\n",
       "    .dataframe tbody tr th {\n",
       "        vertical-align: top;\n",
       "    }\n",
       "\n",
       "    .dataframe thead th {\n",
       "        text-align: right;\n",
       "    }\n",
       "</style>\n",
       "<table border=\"1\" class=\"dataframe\">\n",
       "  <thead>\n",
       "    <tr style=\"text-align: right;\">\n",
       "      <th></th>\n",
       "      <th>case_number</th>\n",
       "      <th>date</th>\n",
       "      <th>year</th>\n",
       "      <th>type</th>\n",
       "      <th>country</th>\n",
       "      <th>area</th>\n",
       "      <th>location</th>\n",
       "      <th>activity</th>\n",
       "      <th>name</th>\n",
       "      <th>sex</th>\n",
       "      <th>age</th>\n",
       "      <th>injury</th>\n",
       "      <th>fatal_yon</th>\n",
       "      <th>time</th>\n",
       "      <th>species</th>\n",
       "      <th>investigator_or_source</th>\n",
       "      <th>pdf</th>\n",
       "      <th>href_formula</th>\n",
       "      <th>href</th>\n",
       "      <th>case_number_1</th>\n",
       "      <th>case_number_2</th>\n",
       "      <th>original_order</th>\n",
       "      <th>unnamed_22</th>\n",
       "      <th>unnamed_23</th>\n",
       "    </tr>\n",
       "  </thead>\n",
       "  <tbody>\n",
       "    <tr>\n",
       "      <th>33</th>\n",
       "      <td>2018.04.05</td>\n",
       "      <td>05-Apr-2018</td>\n",
       "      <td>2018.0</td>\n",
       "      <td>Unprovoked</td>\n",
       "      <td>BAHAMAS</td>\n",
       "      <td>NaN</td>\n",
       "      <td>Bimini</td>\n",
       "      <td>Swimming</td>\n",
       "      <td>Shane McConnell</td>\n",
       "      <td>M</td>\n",
       "      <td>12</td>\n",
       "      <td>2 puncture wounds to left foot, abrasion to ri...</td>\n",
       "      <td>N</td>\n",
       "      <td>18h00</td>\n",
       "      <td>Bull shark</td>\n",
       "      <td>K. McMurray, TrackingSharks.com</td>\n",
       "      <td>2018.04.05-McConnell.pdf</td>\n",
       "      <td>http://sharkattackfile.net/spreadsheets/pdf_di...</td>\n",
       "      <td>http://sharkattackfile.net/spreadsheets/pdf_di...</td>\n",
       "      <td>2018.04.05</td>\n",
       "      <td>2018.04.05</td>\n",
       "      <td>6270.0</td>\n",
       "      <td>unknown</td>\n",
       "      <td>unknown</td>\n",
       "    </tr>\n",
       "    <tr>\n",
       "      <th>48</th>\n",
       "      <td>2018.01.21</td>\n",
       "      <td>21-Jan-2018</td>\n",
       "      <td>2018.0</td>\n",
       "      <td>Unprovoked</td>\n",
       "      <td>NEW CALEDONIA</td>\n",
       "      <td>NaN</td>\n",
       "      <td>Nouville</td>\n",
       "      <td>Spearfishing</td>\n",
       "      <td>male</td>\n",
       "      <td>M</td>\n",
       "      <td>40s</td>\n",
       "      <td>Injuries to abdomen and arm</td>\n",
       "      <td>N</td>\n",
       "      <td>15h30</td>\n",
       "      <td>Bull shark</td>\n",
       "      <td>TrackingSharks.com</td>\n",
       "      <td>2018.01.21-NewCaledonia.pdf</td>\n",
       "      <td>http://sharkattackfile.net/spreadsheets/pdf_di...</td>\n",
       "      <td>http://sharkattackfile.net/spreadsheets/pdf_di...</td>\n",
       "      <td>2018.01.21</td>\n",
       "      <td>2018.01.21</td>\n",
       "      <td>6255.0</td>\n",
       "      <td>unknown</td>\n",
       "      <td>unknown</td>\n",
       "    </tr>\n",
       "    <tr>\n",
       "      <th>129</th>\n",
       "      <td>2017.06.18.a</td>\n",
       "      <td>18-Jun-2017</td>\n",
       "      <td>2017.0</td>\n",
       "      <td>Unprovoked</td>\n",
       "      <td>REUNION</td>\n",
       "      <td>NaN</td>\n",
       "      <td>Roches Noire</td>\n",
       "      <td>Body boarding</td>\n",
       "      <td>Julien</td>\n",
       "      <td>M</td>\n",
       "      <td>34</td>\n",
       "      <td>No injury, shark bit surfboard</td>\n",
       "      <td>N</td>\n",
       "      <td>10h00</td>\n",
       "      <td>Bull shark</td>\n",
       "      <td>Clincanoo, 6/19/2017</td>\n",
       "      <td>2017.06.18.a-Reunion.pdf</td>\n",
       "      <td>http://sharkattackfile.net/spreadsheets/pdf_di...</td>\n",
       "      <td>http://sharkattackfile.net/spreadsheets/pdf_di...</td>\n",
       "      <td>2017.06.18.a</td>\n",
       "      <td>2017.06.18.a</td>\n",
       "      <td>6174.0</td>\n",
       "      <td>unknown</td>\n",
       "      <td>unknown</td>\n",
       "    </tr>\n",
       "    <tr>\n",
       "      <th>229</th>\n",
       "      <td>2016.08.27</td>\n",
       "      <td>27-Aug-2016</td>\n",
       "      <td>2016.0</td>\n",
       "      <td>Unprovoked</td>\n",
       "      <td>REUNION</td>\n",
       "      <td>NaN</td>\n",
       "      <td>Boucan Canot</td>\n",
       "      <td>Surfing</td>\n",
       "      <td>Laurent Chardard</td>\n",
       "      <td>M</td>\n",
       "      <td>20</td>\n",
       "      <td>Right arm severed, ankle severely bitten</td>\n",
       "      <td>N</td>\n",
       "      <td>17h00</td>\n",
       "      <td>Bull shark</td>\n",
       "      <td>LaDepeche, 8/29/2016</td>\n",
       "      <td>2016.08.27-Chardard.pdf</td>\n",
       "      <td>http://sharkattackfile.net/spreadsheets/pdf_di...</td>\n",
       "      <td>http://sharkattackfile.net/spreadsheets/pdf_di...</td>\n",
       "      <td>2016.08.27</td>\n",
       "      <td>2016.08.27</td>\n",
       "      <td>6074.0</td>\n",
       "      <td>unknown</td>\n",
       "      <td>unknown</td>\n",
       "    </tr>\n",
       "    <tr>\n",
       "      <th>856</th>\n",
       "      <td>2011.10.05</td>\n",
       "      <td>05-Oct-2011</td>\n",
       "      <td>2011.0</td>\n",
       "      <td>Boating</td>\n",
       "      <td>REUNION</td>\n",
       "      <td>NaN</td>\n",
       "      <td>Cap La Houssaye</td>\n",
       "      <td>Canoeing</td>\n",
       "      <td>Jean-Pierre Castellani</td>\n",
       "      <td>M</td>\n",
       "      <td>51</td>\n",
       "      <td>No injury to occupant</td>\n",
       "      <td>N</td>\n",
       "      <td>10h30</td>\n",
       "      <td>Unknown</td>\n",
       "      <td>Clicanoo, 10/5/2011</td>\n",
       "      <td>2011.10.05-Castellani.pdf</td>\n",
       "      <td>http://sharkattackfile.net/spreadsheets/pdf_di...</td>\n",
       "      <td>http://sharkattackfile.net/spreadsheets/pdf_di...</td>\n",
       "      <td>2011.10.05</td>\n",
       "      <td>2011.10.05</td>\n",
       "      <td>5447.0</td>\n",
       "      <td>unknown</td>\n",
       "      <td>unknown</td>\n",
       "    </tr>\n",
       "    <tr>\n",
       "      <th>1195</th>\n",
       "      <td>2008.10.21</td>\n",
       "      <td>21-Oct-2008</td>\n",
       "      <td>2008.0</td>\n",
       "      <td>Unprovoked</td>\n",
       "      <td>NEW CALEDONIA</td>\n",
       "      <td>NaN</td>\n",
       "      <td>NaN</td>\n",
       "      <td>Spearfishing</td>\n",
       "      <td>Nicolas Wright</td>\n",
       "      <td>M</td>\n",
       "      <td>24</td>\n",
       "      <td>Legs bitten</td>\n",
       "      <td>N</td>\n",
       "      <td>11h00</td>\n",
       "      <td>Lemon shark</td>\n",
       "      <td>C. Johansson, GSAF</td>\n",
       "      <td>2008.10.21-Wright.pdf</td>\n",
       "      <td>http://sharkattackfile.net/spreadsheets/pdf_di...</td>\n",
       "      <td>http://sharkattackfile.net/spreadsheets/pdf_di...</td>\n",
       "      <td>2008.10.21</td>\n",
       "      <td>2008.10.21</td>\n",
       "      <td>5108.0</td>\n",
       "      <td>unknown</td>\n",
       "      <td>unknown</td>\n",
       "    </tr>\n",
       "    <tr>\n",
       "      <th>1365</th>\n",
       "      <td>2007.07.04</td>\n",
       "      <td>04-Jul-2007</td>\n",
       "      <td>2007.0</td>\n",
       "      <td>Unprovoked</td>\n",
       "      <td>REUNION</td>\n",
       "      <td>NaN</td>\n",
       "      <td>Boucan Canot</td>\n",
       "      <td>Body boarding</td>\n",
       "      <td>Vincent Bouju</td>\n",
       "      <td>M</td>\n",
       "      <td>17</td>\n",
       "      <td>Minor injuries to thigh &amp; knee</td>\n",
       "      <td>N</td>\n",
       "      <td>14h30</td>\n",
       "      <td>Unknown</td>\n",
       "      <td>clicanoo.com, 7/5/2007</td>\n",
       "      <td>2007.07.04-Bouju.pdf</td>\n",
       "      <td>http://sharkattackfile.net/spreadsheets/pdf_di...</td>\n",
       "      <td>http://sharkattackfile.net/spreadsheets/pdf_di...</td>\n",
       "      <td>2007.07.04</td>\n",
       "      <td>2007.07.04</td>\n",
       "      <td>4938.0</td>\n",
       "      <td>unknown</td>\n",
       "      <td>unknown</td>\n",
       "    </tr>\n",
       "    <tr>\n",
       "      <th>2441</th>\n",
       "      <td>1994.04.06</td>\n",
       "      <td>06-Apr-1994</td>\n",
       "      <td>1994.0</td>\n",
       "      <td>Unprovoked</td>\n",
       "      <td>BAHAMAS</td>\n",
       "      <td>NaN</td>\n",
       "      <td>Rum Cay</td>\n",
       "      <td>Wading</td>\n",
       "      <td>Scott Curatolo-Wagemann</td>\n",
       "      <td>M</td>\n",
       "      <td>20?</td>\n",
       "      <td>Lower right  leg bitten</td>\n",
       "      <td>N</td>\n",
       "      <td>10h30</td>\n",
       "      <td>Unknown</td>\n",
       "      <td>S. Curatolo-Wagemann; SharkSurvivors.com</td>\n",
       "      <td>1994.04.06-Wagemann.pdf</td>\n",
       "      <td>http://sharkattackfile.net/spreadsheets/pdf_di...</td>\n",
       "      <td>http://sharkattackfile.net/spreadsheets/pdf_di...</td>\n",
       "      <td>1994.04.06</td>\n",
       "      <td>1994.04.06</td>\n",
       "      <td>3862.0</td>\n",
       "      <td>unknown</td>\n",
       "      <td>unknown</td>\n",
       "    </tr>\n",
       "    <tr>\n",
       "      <th>2444</th>\n",
       "      <td>1994.03.23.b</td>\n",
       "      <td>23-Mar-1994</td>\n",
       "      <td>1994.0</td>\n",
       "      <td>Unprovoked</td>\n",
       "      <td>CHILE</td>\n",
       "      <td>NaN</td>\n",
       "      <td>300 miles east of Easter Island</td>\n",
       "      <td>Swimming alongside NOAA research vessel Discov...</td>\n",
       "      <td>Heather Boswell</td>\n",
       "      <td>F</td>\n",
       "      <td>19</td>\n",
       "      <td>Leg severed mid-thigh</td>\n",
       "      <td>N</td>\n",
       "      <td>11h58</td>\n",
       "      <td>White shark</td>\n",
       "      <td>H. Boswell, M. Levine &amp; E. Ritter, GSAF</td>\n",
       "      <td>1994.03.23.b-Boswell.pdf</td>\n",
       "      <td>http://sharkattackfile.net/spreadsheets/pdf_di...</td>\n",
       "      <td>http://sharkattackfile.net/spreadsheets/pdf_di...</td>\n",
       "      <td>1994.03.23.b</td>\n",
       "      <td>1994.03.23.b</td>\n",
       "      <td>3859.0</td>\n",
       "      <td>unknown</td>\n",
       "      <td>unknown</td>\n",
       "    </tr>\n",
       "    <tr>\n",
       "      <th>2581</th>\n",
       "      <td>1991.09.19</td>\n",
       "      <td>19-Sep-1991</td>\n",
       "      <td>1991.0</td>\n",
       "      <td>Invalid</td>\n",
       "      <td>BAHAMAS</td>\n",
       "      <td>NaN</td>\n",
       "      <td>Bimini</td>\n",
       "      <td>Spearfishing</td>\n",
       "      <td>Omar Karim Huneidi</td>\n",
       "      <td>M</td>\n",
       "      <td>32</td>\n",
       "      <td>Initally reported as a shark attack, forensic ...</td>\n",
       "      <td>NaN</td>\n",
       "      <td>17h00</td>\n",
       "      <td>Unknown</td>\n",
       "      <td>E. Pace, FSAF; Sun Sentinel, 9/22/1991, p.3B</td>\n",
       "      <td>1991.09.19-Huneidi.pdf</td>\n",
       "      <td>http://sharkattackfile.net/spreadsheets/pdf_di...</td>\n",
       "      <td>http://sharkattackfile.net/spreadsheets/pdf_di...</td>\n",
       "      <td>1991.09.19</td>\n",
       "      <td>1991.09.19</td>\n",
       "      <td>3722.0</td>\n",
       "      <td>unknown</td>\n",
       "      <td>unknown</td>\n",
       "    </tr>\n",
       "    <tr>\n",
       "      <th>2632</th>\n",
       "      <td>1990.06.23</td>\n",
       "      <td>23-Jun-1990</td>\n",
       "      <td>1990.0</td>\n",
       "      <td>Unprovoked</td>\n",
       "      <td>BAHAMAS</td>\n",
       "      <td>NaN</td>\n",
       "      <td>Bimini</td>\n",
       "      <td>Spearfishing</td>\n",
       "      <td>Bruce Cease</td>\n",
       "      <td>M</td>\n",
       "      <td>38</td>\n",
       "      <td>Left forearm bitten</td>\n",
       "      <td>N</td>\n",
       "      <td>14h30</td>\n",
       "      <td>Unknown</td>\n",
       "      <td>Miami Herald, 6/25/1990</td>\n",
       "      <td>1990.06.23-Cease.pdf</td>\n",
       "      <td>http://sharkattackfile.net/spreadsheets/pdf_di...</td>\n",
       "      <td>http://sharkattackfile.net/spreadsheets/pdf_di...</td>\n",
       "      <td>1990.06.23</td>\n",
       "      <td>1990.06.23</td>\n",
       "      <td>3671.0</td>\n",
       "      <td>unknown</td>\n",
       "      <td>unknown</td>\n",
       "    </tr>\n",
       "    <tr>\n",
       "      <th>2937</th>\n",
       "      <td>1983.06.15</td>\n",
       "      <td>15-Jun-1983</td>\n",
       "      <td>1983.0</td>\n",
       "      <td>Unprovoked</td>\n",
       "      <td>BAHAMAS</td>\n",
       "      <td>NaN</td>\n",
       "      <td>Carter Cay</td>\n",
       "      <td>NaN</td>\n",
       "      <td>Roger Yost</td>\n",
       "      <td>M</td>\n",
       "      <td>30</td>\n",
       "      <td>Lacerations to hand &amp; foot</td>\n",
       "      <td>N</td>\n",
       "      <td>11h00</td>\n",
       "      <td>Blacktip reef shark</td>\n",
       "      <td>E.  Pace, FSAF</td>\n",
       "      <td>1983.06.15-NV-Yost.pdf</td>\n",
       "      <td>http://sharkattackfile.net/spreadsheets/pdf_di...</td>\n",
       "      <td>http://sharkattackfile.net/spreadsheets/pdf_di...</td>\n",
       "      <td>1983.06.15</td>\n",
       "      <td>1983.06.15</td>\n",
       "      <td>3366.0</td>\n",
       "      <td>unknown</td>\n",
       "      <td>unknown</td>\n",
       "    </tr>\n",
       "    <tr>\n",
       "      <th>3527</th>\n",
       "      <td>1967.05.09</td>\n",
       "      <td>09-May-1967</td>\n",
       "      <td>1967.0</td>\n",
       "      <td>Provoked</td>\n",
       "      <td>AUSTRALIA</td>\n",
       "      <td>NaN</td>\n",
       "      <td>Aquarium</td>\n",
       "      <td>Feeding a shark</td>\n",
       "      <td>Rod Stanley</td>\n",
       "      <td>M</td>\n",
       "      <td>22</td>\n",
       "      <td>Recorded as PROVOKED INCIDENT</td>\n",
       "      <td>N</td>\n",
       "      <td>Afternoon</td>\n",
       "      <td>Grey nurse shark</td>\n",
       "      <td>H.D.Baldridge (1994) SAF Case #1536</td>\n",
       "      <td>1967.05.09-NV-Stanley.pdf</td>\n",
       "      <td>http://sharkattackfile.net/spreadsheets/pdf_di...</td>\n",
       "      <td>http://sharkattackfile.net/spreadsheets/pdf_di...</td>\n",
       "      <td>1967.05.09</td>\n",
       "      <td>1967.05.09</td>\n",
       "      <td>2776.0</td>\n",
       "      <td>unknown</td>\n",
       "      <td>unknown</td>\n",
       "    </tr>\n",
       "    <tr>\n",
       "      <th>3579</th>\n",
       "      <td>1966.05.20.a</td>\n",
       "      <td>20-May-1966</td>\n",
       "      <td>1966.0</td>\n",
       "      <td>Sea Disaster</td>\n",
       "      <td>AUSTRALIA</td>\n",
       "      <td>NaN</td>\n",
       "      <td>7 miles offshore on east coast of Australia</td>\n",
       "      <td>Shipwreck</td>\n",
       "      <td>Daniel Mangel, seaman</td>\n",
       "      <td>M</td>\n",
       "      <td>38</td>\n",
       "      <td>FATAL, other human remains bitten by sharks, 1...</td>\n",
       "      <td>Y</td>\n",
       "      <td>Dark</td>\n",
       "      <td>White shark</td>\n",
       "      <td>Barker &amp; Ritson</td>\n",
       "      <td>1966.05.20.a-Mangel.pdf</td>\n",
       "      <td>http://sharkattackfile.net/spreadsheets/pdf_di...</td>\n",
       "      <td>http://sharkattackfile.net/spreadsheets/pdf_di...</td>\n",
       "      <td>1966.05.20.a</td>\n",
       "      <td>1966.05.20.a</td>\n",
       "      <td>2724.0</td>\n",
       "      <td>unknown</td>\n",
       "      <td>unknown</td>\n",
       "    </tr>\n",
       "    <tr>\n",
       "      <th>3661</th>\n",
       "      <td>1964.09.27</td>\n",
       "      <td>27-Sep-1964</td>\n",
       "      <td>1964.0</td>\n",
       "      <td>Invalid</td>\n",
       "      <td>NaN</td>\n",
       "      <td>NaN</td>\n",
       "      <td>NaN</td>\n",
       "      <td>Spearfishing</td>\n",
       "      <td>Giancarlo Griffon</td>\n",
       "      <td>M</td>\n",
       "      <td>24</td>\n",
       "      <td>Disappeared, probable drowning but sharks in a...</td>\n",
       "      <td>NaN</td>\n",
       "      <td>11h00</td>\n",
       "      <td>Unknown</td>\n",
       "      <td>C. Moore. GSAF</td>\n",
       "      <td>1964.09.27-Griffon.pdf</td>\n",
       "      <td>http://sharkattackfile.net/spreadsheets/pdf_di...</td>\n",
       "      <td>http://sharkattackfile.net/spreadsheets/pdf_di...</td>\n",
       "      <td>1964.09.27</td>\n",
       "      <td>1964.09.27</td>\n",
       "      <td>2642.0</td>\n",
       "      <td>unknown</td>\n",
       "      <td>unknown</td>\n",
       "    </tr>\n",
       "    <tr>\n",
       "      <th>3806</th>\n",
       "      <td>1962.07.20</td>\n",
       "      <td>20-Jul-1962</td>\n",
       "      <td>1962.0</td>\n",
       "      <td>Provoked</td>\n",
       "      <td>MADAGASCAR</td>\n",
       "      <td>NaN</td>\n",
       "      <td>Onboard tuna boat, M.V. Toscui Maru</td>\n",
       "      <td>Finning the shark</td>\n",
       "      <td>Takemoto Masnori</td>\n",
       "      <td>M</td>\n",
       "      <td>20</td>\n",
       "      <td>Right calf lacerated by boated shark PROVOKED ...</td>\n",
       "      <td>N</td>\n",
       "      <td>Morning</td>\n",
       "      <td>Unknown</td>\n",
       "      <td>J. D'Aubrey</td>\n",
       "      <td>1962.07.20-Masnori.pdf</td>\n",
       "      <td>http://sharkattackfile.net/spreadsheets/pdf_di...</td>\n",
       "      <td>http://sharkattackfile.net/spreadsheets/pdf_di...</td>\n",
       "      <td>1962.07.20</td>\n",
       "      <td>1962.07.20</td>\n",
       "      <td>2497.0</td>\n",
       "      <td>unknown</td>\n",
       "      <td>unknown</td>\n",
       "    </tr>\n",
       "    <tr>\n",
       "      <th>3884</th>\n",
       "      <td>1961.08.04</td>\n",
       "      <td>04-Aug-1961</td>\n",
       "      <td>1961.0</td>\n",
       "      <td>Unprovoked</td>\n",
       "      <td>BERMUDA</td>\n",
       "      <td>NaN</td>\n",
       "      <td>6 miles from shore</td>\n",
       "      <td>Spearfishing</td>\n",
       "      <td>Robert Sato</td>\n",
       "      <td>M</td>\n",
       "      <td>22</td>\n",
       "      <td>Right hand lacerated</td>\n",
       "      <td>N</td>\n",
       "      <td>11h00</td>\n",
       "      <td>Blacktip reef shark</td>\n",
       "      <td>R. McAllister; H.D. Baldridge, p.134</td>\n",
       "      <td>1961.08.04-Sato.pdf</td>\n",
       "      <td>http://sharkattackfile.net/spreadsheets/pdf_di...</td>\n",
       "      <td>http://sharkattackfile.net/spreadsheets/pdf_di...</td>\n",
       "      <td>1961.08.04</td>\n",
       "      <td>1961.08.04</td>\n",
       "      <td>2419.0</td>\n",
       "      <td>unknown</td>\n",
       "      <td>unknown</td>\n",
       "    </tr>\n",
       "    <tr>\n",
       "      <th>3960</th>\n",
       "      <td>1960.10.00.a</td>\n",
       "      <td>Oct-1960</td>\n",
       "      <td>1960.0</td>\n",
       "      <td>Invalid</td>\n",
       "      <td>JOHNSTON ISLAND</td>\n",
       "      <td>NaN</td>\n",
       "      <td>NaN</td>\n",
       "      <td>Free diving / photography, kneeling on sand</td>\n",
       "      <td>Raymond F. McAllister</td>\n",
       "      <td>M</td>\n",
       "      <td>37</td>\n",
       "      <td>No injury, shark made threat display</td>\n",
       "      <td>NaN</td>\n",
       "      <td>12h00 to 14h00</td>\n",
       "      <td>Unknown</td>\n",
       "      <td>R. McAllister; SAF ISAF Case #958</td>\n",
       "      <td>1960.10.00.a-McAllister.pdf</td>\n",
       "      <td>http://sharkattackfile.net/spreadsheets/pdf_di...</td>\n",
       "      <td>http://sharkattackfile.net/spreadsheets/pdf_di...</td>\n",
       "      <td>1960.10.00.a</td>\n",
       "      <td>1960.10.00.a</td>\n",
       "      <td>2343.0</td>\n",
       "      <td>unknown</td>\n",
       "      <td>unknown</td>\n",
       "    </tr>\n",
       "    <tr>\n",
       "      <th>4008</th>\n",
       "      <td>1960.03.28</td>\n",
       "      <td>28-Mar-1960</td>\n",
       "      <td>1960.0</td>\n",
       "      <td>Unprovoked</td>\n",
       "      <td>GUAM</td>\n",
       "      <td>NaN</td>\n",
       "      <td>NaN</td>\n",
       "      <td>Spearfishing, carrying fish on belt</td>\n",
       "      <td>Enrique Matao</td>\n",
       "      <td>M</td>\n",
       "      <td>44</td>\n",
       "      <td>Thigh bitten</td>\n",
       "      <td>N</td>\n",
       "      <td>12h00</td>\n",
       "      <td>Unknown</td>\n",
       "      <td>V.M. Coppleson (1962), p.254; H.D. Baldridge, ...</td>\n",
       "      <td>1960.03.28-Metao.pdf</td>\n",
       "      <td>http://sharkattackfile.net/spreadsheets/pdf_di...</td>\n",
       "      <td>http://sharkattackfile.net/spreadsheets/pdf_di...</td>\n",
       "      <td>1960.03.28</td>\n",
       "      <td>1960.03.28</td>\n",
       "      <td>2295.0</td>\n",
       "      <td>unknown</td>\n",
       "      <td>unknown</td>\n",
       "    </tr>\n",
       "    <tr>\n",
       "      <th>4140</th>\n",
       "      <td>1958.09.13</td>\n",
       "      <td>13-Sep-1958</td>\n",
       "      <td>1958.0</td>\n",
       "      <td>Unprovoked</td>\n",
       "      <td>ANDAMAN / NICOBAR ISLANDAS</td>\n",
       "      <td>NaN</td>\n",
       "      <td>NaN</td>\n",
       "      <td>\"Climbing up to ship after repairing the stern...</td>\n",
       "      <td>Sailor of tuna vessel Daisan-Tenyo-Maru</td>\n",
       "      <td>M</td>\n",
       "      <td>32</td>\n",
       "      <td>FATAL, leg bitten</td>\n",
       "      <td>Y</td>\n",
       "      <td>14h00</td>\n",
       "      <td>Blue shark</td>\n",
       "      <td>M. Hosina</td>\n",
       "      <td>1958.09.13-sailor.pdf</td>\n",
       "      <td>http://sharkattackfile.net/spreadsheets/pdf_di...</td>\n",
       "      <td>http://sharkattackfile.net/spreadsheets/pdf_di...</td>\n",
       "      <td>1958.09.13</td>\n",
       "      <td>1958.09.13</td>\n",
       "      <td>2163.0</td>\n",
       "      <td>unknown</td>\n",
       "      <td>unknown</td>\n",
       "    </tr>\n",
       "    <tr>\n",
       "      <th>4441</th>\n",
       "      <td>1951.07.11</td>\n",
       "      <td>11-Jul-1951</td>\n",
       "      <td>1951.0</td>\n",
       "      <td>Unprovoked</td>\n",
       "      <td>PACIFIC OCEAN</td>\n",
       "      <td>NaN</td>\n",
       "      <td>In Los Angeles  Honolulu yacht race</td>\n",
       "      <td>Fell overboard</td>\n",
       "      <td>Edward Sierks, skipper</td>\n",
       "      <td>M</td>\n",
       "      <td>40</td>\n",
       "      <td>\"Molested by shark that nibbled his bare feet\"...</td>\n",
       "      <td>N</td>\n",
       "      <td>Afternoon</td>\n",
       "      <td>Unknown</td>\n",
       "      <td>Daily Review, 7/13/1951</td>\n",
       "      <td>1951.07.11-Sierks.pdf</td>\n",
       "      <td>http://sharkattackfile.net/spreadsheets/pdf_di...</td>\n",
       "      <td>http://sharkattackfile.net/spreadsheets/pdf_di...</td>\n",
       "      <td>1951.07.11</td>\n",
       "      <td>1951.07.11</td>\n",
       "      <td>1862.0</td>\n",
       "      <td>unknown</td>\n",
       "      <td>unknown</td>\n",
       "    </tr>\n",
       "  </tbody>\n",
       "</table>\n",
       "</div>"
      ],
      "text/plain": [
       "       case_number         date    year          type  \\\n",
       "33      2018.04.05  05-Apr-2018  2018.0    Unprovoked   \n",
       "48      2018.01.21  21-Jan-2018  2018.0    Unprovoked   \n",
       "129   2017.06.18.a  18-Jun-2017  2017.0    Unprovoked   \n",
       "229     2016.08.27  27-Aug-2016  2016.0    Unprovoked   \n",
       "856     2011.10.05  05-Oct-2011  2011.0       Boating   \n",
       "1195    2008.10.21  21-Oct-2008  2008.0    Unprovoked   \n",
       "1365    2007.07.04  04-Jul-2007  2007.0    Unprovoked   \n",
       "2441    1994.04.06  06-Apr-1994  1994.0    Unprovoked   \n",
       "2444  1994.03.23.b  23-Mar-1994  1994.0    Unprovoked   \n",
       "2581    1991.09.19  19-Sep-1991  1991.0       Invalid   \n",
       "2632    1990.06.23  23-Jun-1990  1990.0    Unprovoked   \n",
       "2937    1983.06.15  15-Jun-1983  1983.0    Unprovoked   \n",
       "3527    1967.05.09  09-May-1967  1967.0      Provoked   \n",
       "3579  1966.05.20.a  20-May-1966  1966.0  Sea Disaster   \n",
       "3661    1964.09.27  27-Sep-1964  1964.0       Invalid   \n",
       "3806    1962.07.20  20-Jul-1962  1962.0      Provoked   \n",
       "3884    1961.08.04  04-Aug-1961  1961.0    Unprovoked   \n",
       "3960  1960.10.00.a     Oct-1960  1960.0       Invalid   \n",
       "4008    1960.03.28  28-Mar-1960  1960.0    Unprovoked   \n",
       "4140    1958.09.13  13-Sep-1958  1958.0    Unprovoked   \n",
       "4441    1951.07.11  11-Jul-1951  1951.0    Unprovoked   \n",
       "\n",
       "                         country area  \\\n",
       "33                       BAHAMAS  NaN   \n",
       "48                 NEW CALEDONIA  NaN   \n",
       "129                      REUNION  NaN   \n",
       "229                      REUNION  NaN   \n",
       "856                      REUNION  NaN   \n",
       "1195               NEW CALEDONIA  NaN   \n",
       "1365                     REUNION  NaN   \n",
       "2441                     BAHAMAS  NaN   \n",
       "2444                       CHILE  NaN   \n",
       "2581                     BAHAMAS  NaN   \n",
       "2632                     BAHAMAS  NaN   \n",
       "2937                     BAHAMAS  NaN   \n",
       "3527                   AUSTRALIA  NaN   \n",
       "3579                   AUSTRALIA  NaN   \n",
       "3661                         NaN  NaN   \n",
       "3806                  MADAGASCAR  NaN   \n",
       "3884                     BERMUDA  NaN   \n",
       "3960             JOHNSTON ISLAND  NaN   \n",
       "4008                        GUAM  NaN   \n",
       "4140  ANDAMAN / NICOBAR ISLANDAS  NaN   \n",
       "4441               PACIFIC OCEAN  NaN   \n",
       "\n",
       "                                         location  \\\n",
       "33                                         Bimini   \n",
       "48                                       Nouville   \n",
       "129                                  Roches Noire   \n",
       "229                                  Boucan Canot   \n",
       "856                               Cap La Houssaye   \n",
       "1195                                          NaN   \n",
       "1365                                 Boucan Canot   \n",
       "2441                                      Rum Cay   \n",
       "2444              300 miles east of Easter Island   \n",
       "2581                                       Bimini   \n",
       "2632                                       Bimini   \n",
       "2937                                   Carter Cay   \n",
       "3527                                     Aquarium   \n",
       "3579  7 miles offshore on east coast of Australia   \n",
       "3661                                          NaN   \n",
       "3806          Onboard tuna boat, M.V. Toscui Maru   \n",
       "3884                           6 miles from shore   \n",
       "3960                                          NaN   \n",
       "4008                                          NaN   \n",
       "4140                                          NaN   \n",
       "4441         In Los Angeles  Honolulu yacht race   \n",
       "\n",
       "                                               activity  \\\n",
       "33                                             Swimming   \n",
       "48                                         Spearfishing   \n",
       "129                                       Body boarding   \n",
       "229                                             Surfing   \n",
       "856                                            Canoeing   \n",
       "1195                                       Spearfishing   \n",
       "1365                                      Body boarding   \n",
       "2441                                             Wading   \n",
       "2444  Swimming alongside NOAA research vessel Discov...   \n",
       "2581                                       Spearfishing   \n",
       "2632                                       Spearfishing   \n",
       "2937                                                NaN   \n",
       "3527                                    Feeding a shark   \n",
       "3579                                          Shipwreck   \n",
       "3661                                       Spearfishing   \n",
       "3806                                  Finning the shark   \n",
       "3884                                       Spearfishing   \n",
       "3960        Free diving / photography, kneeling on sand   \n",
       "4008                Spearfishing, carrying fish on belt   \n",
       "4140  \"Climbing up to ship after repairing the stern...   \n",
       "4441                                     Fell overboard   \n",
       "\n",
       "                                         name sex  age  \\\n",
       "33                            Shane McConnell   M   12   \n",
       "48                                       male   M  40s   \n",
       "129                                    Julien   M   34   \n",
       "229                         Laurent Chardard    M   20   \n",
       "856                   Jean-Pierre Castellani    M   51   \n",
       "1195                           Nicolas Wright   M   24   \n",
       "1365                            Vincent Bouju   M   17   \n",
       "2441                  Scott Curatolo-Wagemann   M  20?   \n",
       "2444                          Heather Boswell   F   19   \n",
       "2581                       Omar Karim Huneidi   M   32   \n",
       "2632                              Bruce Cease   M   38   \n",
       "2937                               Roger Yost   M   30   \n",
       "3527                              Rod Stanley   M   22   \n",
       "3579                    Daniel Mangel, seaman   M   38   \n",
       "3661                        Giancarlo Griffon   M   24   \n",
       "3806                         Takemoto Masnori   M   20   \n",
       "3884                              Robert Sato   M   22   \n",
       "3960                    Raymond F. McAllister   M   37   \n",
       "4008                            Enrique Matao   M   44   \n",
       "4140  Sailor of tuna vessel Daisan-Tenyo-Maru   M   32   \n",
       "4441                   Edward Sierks, skipper   M   40   \n",
       "\n",
       "                                                 injury fatal_yon  \\\n",
       "33    2 puncture wounds to left foot, abrasion to ri...         N   \n",
       "48                          Injuries to abdomen and arm         N   \n",
       "129                     No injury, shark bit surfboard          N   \n",
       "229           Right arm severed, ankle severely bitten          N   \n",
       "856                               No injury to occupant         N   \n",
       "1195                                        Legs bitten         N   \n",
       "1365                    Minor injuries to thigh & knee          N   \n",
       "2441                            Lower right  leg bitten         N   \n",
       "2444                              Leg severed mid-thigh         N   \n",
       "2581  Initally reported as a shark attack, forensic ...       NaN   \n",
       "2632                                Left forearm bitten         N   \n",
       "2937                         Lacerations to hand & foot         N   \n",
       "3527                      Recorded as PROVOKED INCIDENT         N   \n",
       "3579  FATAL, other human remains bitten by sharks, 1...         Y   \n",
       "3661  Disappeared, probable drowning but sharks in a...       NaN   \n",
       "3806  Right calf lacerated by boated shark PROVOKED ...         N   \n",
       "3884                               Right hand lacerated         N   \n",
       "3960               No injury, shark made threat display       NaN   \n",
       "4008                                       Thigh bitten         N   \n",
       "4140                                 FATAL, leg bitten          Y   \n",
       "4441  \"Molested by shark that nibbled his bare feet\"...         N   \n",
       "\n",
       "                time              species  \\\n",
       "33             18h00           Bull shark   \n",
       "48             15h30           Bull shark   \n",
       "129            10h00           Bull shark   \n",
       "229            17h00           Bull shark   \n",
       "856            10h30              Unknown   \n",
       "1195           11h00          Lemon shark   \n",
       "1365           14h30              Unknown   \n",
       "2441           10h30              Unknown   \n",
       "2444           11h58          White shark   \n",
       "2581           17h00              Unknown   \n",
       "2632           14h30              Unknown   \n",
       "2937           11h00  Blacktip reef shark   \n",
       "3527       Afternoon     Grey nurse shark   \n",
       "3579            Dark          White shark   \n",
       "3661           11h00              Unknown   \n",
       "3806         Morning              Unknown   \n",
       "3884           11h00  Blacktip reef shark   \n",
       "3960  12h00 to 14h00              Unknown   \n",
       "4008           12h00              Unknown   \n",
       "4140           14h00           Blue shark   \n",
       "4441       Afternoon              Unknown   \n",
       "\n",
       "                                 investigator_or_source  \\\n",
       "33                      K. McMurray, TrackingSharks.com   \n",
       "48                                   TrackingSharks.com   \n",
       "129                                Clincanoo, 6/19/2017   \n",
       "229                                LaDepeche, 8/29/2016   \n",
       "856                                 Clicanoo, 10/5/2011   \n",
       "1195                                 C. Johansson, GSAF   \n",
       "1365                             clicanoo.com, 7/5/2007   \n",
       "2441           S. Curatolo-Wagemann; SharkSurvivors.com   \n",
       "2444            H. Boswell, M. Levine & E. Ritter, GSAF   \n",
       "2581       E. Pace, FSAF; Sun Sentinel, 9/22/1991, p.3B   \n",
       "2632                            Miami Herald, 6/25/1990   \n",
       "2937                                     E.  Pace, FSAF   \n",
       "3527                H.D.Baldridge (1994) SAF Case #1536   \n",
       "3579                                    Barker & Ritson   \n",
       "3661                                     C. Moore. GSAF   \n",
       "3806                                        J. D'Aubrey   \n",
       "3884               R. McAllister; H.D. Baldridge, p.134   \n",
       "3960                  R. McAllister; SAF ISAF Case #958   \n",
       "4008  V.M. Coppleson (1962), p.254; H.D. Baldridge, ...   \n",
       "4140                                          M. Hosina   \n",
       "4441                            Daily Review, 7/13/1951   \n",
       "\n",
       "                              pdf  \\\n",
       "33       2018.04.05-McConnell.pdf   \n",
       "48    2018.01.21-NewCaledonia.pdf   \n",
       "129      2017.06.18.a-Reunion.pdf   \n",
       "229       2016.08.27-Chardard.pdf   \n",
       "856     2011.10.05-Castellani.pdf   \n",
       "1195        2008.10.21-Wright.pdf   \n",
       "1365         2007.07.04-Bouju.pdf   \n",
       "2441      1994.04.06-Wagemann.pdf   \n",
       "2444     1994.03.23.b-Boswell.pdf   \n",
       "2581       1991.09.19-Huneidi.pdf   \n",
       "2632         1990.06.23-Cease.pdf   \n",
       "2937       1983.06.15-NV-Yost.pdf   \n",
       "3527    1967.05.09-NV-Stanley.pdf   \n",
       "3579      1966.05.20.a-Mangel.pdf   \n",
       "3661       1964.09.27-Griffon.pdf   \n",
       "3806       1962.07.20-Masnori.pdf   \n",
       "3884          1961.08.04-Sato.pdf   \n",
       "3960  1960.10.00.a-McAllister.pdf   \n",
       "4008         1960.03.28-Metao.pdf   \n",
       "4140        1958.09.13-sailor.pdf   \n",
       "4441        1951.07.11-Sierks.pdf   \n",
       "\n",
       "                                           href_formula  \\\n",
       "33    http://sharkattackfile.net/spreadsheets/pdf_di...   \n",
       "48    http://sharkattackfile.net/spreadsheets/pdf_di...   \n",
       "129   http://sharkattackfile.net/spreadsheets/pdf_di...   \n",
       "229   http://sharkattackfile.net/spreadsheets/pdf_di...   \n",
       "856   http://sharkattackfile.net/spreadsheets/pdf_di...   \n",
       "1195  http://sharkattackfile.net/spreadsheets/pdf_di...   \n",
       "1365  http://sharkattackfile.net/spreadsheets/pdf_di...   \n",
       "2441  http://sharkattackfile.net/spreadsheets/pdf_di...   \n",
       "2444  http://sharkattackfile.net/spreadsheets/pdf_di...   \n",
       "2581  http://sharkattackfile.net/spreadsheets/pdf_di...   \n",
       "2632  http://sharkattackfile.net/spreadsheets/pdf_di...   \n",
       "2937  http://sharkattackfile.net/spreadsheets/pdf_di...   \n",
       "3527  http://sharkattackfile.net/spreadsheets/pdf_di...   \n",
       "3579  http://sharkattackfile.net/spreadsheets/pdf_di...   \n",
       "3661  http://sharkattackfile.net/spreadsheets/pdf_di...   \n",
       "3806  http://sharkattackfile.net/spreadsheets/pdf_di...   \n",
       "3884  http://sharkattackfile.net/spreadsheets/pdf_di...   \n",
       "3960  http://sharkattackfile.net/spreadsheets/pdf_di...   \n",
       "4008  http://sharkattackfile.net/spreadsheets/pdf_di...   \n",
       "4140  http://sharkattackfile.net/spreadsheets/pdf_di...   \n",
       "4441  http://sharkattackfile.net/spreadsheets/pdf_di...   \n",
       "\n",
       "                                                   href case_number_1  \\\n",
       "33    http://sharkattackfile.net/spreadsheets/pdf_di...    2018.04.05   \n",
       "48    http://sharkattackfile.net/spreadsheets/pdf_di...    2018.01.21   \n",
       "129   http://sharkattackfile.net/spreadsheets/pdf_di...  2017.06.18.a   \n",
       "229   http://sharkattackfile.net/spreadsheets/pdf_di...    2016.08.27   \n",
       "856   http://sharkattackfile.net/spreadsheets/pdf_di...    2011.10.05   \n",
       "1195  http://sharkattackfile.net/spreadsheets/pdf_di...    2008.10.21   \n",
       "1365  http://sharkattackfile.net/spreadsheets/pdf_di...    2007.07.04   \n",
       "2441  http://sharkattackfile.net/spreadsheets/pdf_di...    1994.04.06   \n",
       "2444  http://sharkattackfile.net/spreadsheets/pdf_di...  1994.03.23.b   \n",
       "2581  http://sharkattackfile.net/spreadsheets/pdf_di...    1991.09.19   \n",
       "2632  http://sharkattackfile.net/spreadsheets/pdf_di...    1990.06.23   \n",
       "2937  http://sharkattackfile.net/spreadsheets/pdf_di...    1983.06.15   \n",
       "3527  http://sharkattackfile.net/spreadsheets/pdf_di...    1967.05.09   \n",
       "3579  http://sharkattackfile.net/spreadsheets/pdf_di...  1966.05.20.a   \n",
       "3661  http://sharkattackfile.net/spreadsheets/pdf_di...    1964.09.27   \n",
       "3806  http://sharkattackfile.net/spreadsheets/pdf_di...    1962.07.20   \n",
       "3884  http://sharkattackfile.net/spreadsheets/pdf_di...    1961.08.04   \n",
       "3960  http://sharkattackfile.net/spreadsheets/pdf_di...  1960.10.00.a   \n",
       "4008  http://sharkattackfile.net/spreadsheets/pdf_di...    1960.03.28   \n",
       "4140  http://sharkattackfile.net/spreadsheets/pdf_di...    1958.09.13   \n",
       "4441  http://sharkattackfile.net/spreadsheets/pdf_di...    1951.07.11   \n",
       "\n",
       "     case_number_2  original_order unnamed_22 unnamed_23  \n",
       "33      2018.04.05          6270.0    unknown    unknown  \n",
       "48      2018.01.21          6255.0    unknown    unknown  \n",
       "129   2017.06.18.a          6174.0    unknown    unknown  \n",
       "229     2016.08.27          6074.0    unknown    unknown  \n",
       "856     2011.10.05          5447.0    unknown    unknown  \n",
       "1195    2008.10.21          5108.0    unknown    unknown  \n",
       "1365    2007.07.04          4938.0    unknown    unknown  \n",
       "2441    1994.04.06          3862.0    unknown    unknown  \n",
       "2444  1994.03.23.b          3859.0    unknown    unknown  \n",
       "2581    1991.09.19          3722.0    unknown    unknown  \n",
       "2632    1990.06.23          3671.0    unknown    unknown  \n",
       "2937    1983.06.15          3366.0    unknown    unknown  \n",
       "3527    1967.05.09          2776.0    unknown    unknown  \n",
       "3579  1966.05.20.a          2724.0    unknown    unknown  \n",
       "3661    1964.09.27          2642.0    unknown    unknown  \n",
       "3806    1962.07.20          2497.0    unknown    unknown  \n",
       "3884    1961.08.04          2419.0    unknown    unknown  \n",
       "3960  1960.10.00.a          2343.0    unknown    unknown  \n",
       "4008    1960.03.28          2295.0    unknown    unknown  \n",
       "4140    1958.09.13          2163.0    unknown    unknown  \n",
       "4441    1951.07.11          1862.0    unknown    unknown  "
      ]
     },
     "execution_count": 694,
     "metadata": {},
     "output_type": "execute_result"
    }
   ],
   "source": [
    "df.loc[index_area]"
   ]
  },
  {
   "cell_type": "markdown",
   "id": "69491c7f",
   "metadata": {},
   "source": [
    "The records that are NaN match with location index. So, fill in missing values if indices match"
   ]
  },
  {
   "cell_type": "code",
   "execution_count": 695,
   "id": "73e66724",
   "metadata": {},
   "outputs": [],
   "source": [
    "df.area = df.area.fillna(df.location)"
   ]
  },
  {
   "cell_type": "code",
   "execution_count": 680,
   "id": "ff1982b6",
   "metadata": {},
   "outputs": [],
   "source": [
    "index_area = [33,   48,  129,  229,  856, 1195, 1365, 2441, 2444, 2581, 2632,\n",
    "            2937, 3527, 3579, 3661, 3806, 3884, 3960, 4008, 4140, 4441]"
   ]
  },
  {
   "cell_type": "code",
   "execution_count": 696,
   "id": "a49fc8b9",
   "metadata": {
    "collapsed": true
   },
   "outputs": [
    {
     "data": {
      "text/html": [
       "<div>\n",
       "<style scoped>\n",
       "    .dataframe tbody tr th:only-of-type {\n",
       "        vertical-align: middle;\n",
       "    }\n",
       "\n",
       "    .dataframe tbody tr th {\n",
       "        vertical-align: top;\n",
       "    }\n",
       "\n",
       "    .dataframe thead th {\n",
       "        text-align: right;\n",
       "    }\n",
       "</style>\n",
       "<table border=\"1\" class=\"dataframe\">\n",
       "  <thead>\n",
       "    <tr style=\"text-align: right;\">\n",
       "      <th></th>\n",
       "      <th>case_number</th>\n",
       "      <th>date</th>\n",
       "      <th>year</th>\n",
       "      <th>type</th>\n",
       "      <th>country</th>\n",
       "      <th>area</th>\n",
       "      <th>location</th>\n",
       "      <th>activity</th>\n",
       "      <th>name</th>\n",
       "      <th>sex</th>\n",
       "      <th>age</th>\n",
       "      <th>injury</th>\n",
       "      <th>fatal_yon</th>\n",
       "      <th>time</th>\n",
       "      <th>species</th>\n",
       "      <th>investigator_or_source</th>\n",
       "      <th>pdf</th>\n",
       "      <th>href_formula</th>\n",
       "      <th>href</th>\n",
       "      <th>case_number_1</th>\n",
       "      <th>case_number_2</th>\n",
       "      <th>original_order</th>\n",
       "      <th>unnamed_22</th>\n",
       "      <th>unnamed_23</th>\n",
       "    </tr>\n",
       "  </thead>\n",
       "  <tbody>\n",
       "    <tr>\n",
       "      <th>33</th>\n",
       "      <td>2018.04.05</td>\n",
       "      <td>05-Apr-2018</td>\n",
       "      <td>2018.0</td>\n",
       "      <td>Unprovoked</td>\n",
       "      <td>BAHAMAS</td>\n",
       "      <td>Bimini</td>\n",
       "      <td>Bimini</td>\n",
       "      <td>Swimming</td>\n",
       "      <td>Shane McConnell</td>\n",
       "      <td>M</td>\n",
       "      <td>12</td>\n",
       "      <td>2 puncture wounds to left foot, abrasion to ri...</td>\n",
       "      <td>N</td>\n",
       "      <td>18h00</td>\n",
       "      <td>Bull shark</td>\n",
       "      <td>K. McMurray, TrackingSharks.com</td>\n",
       "      <td>2018.04.05-McConnell.pdf</td>\n",
       "      <td>http://sharkattackfile.net/spreadsheets/pdf_di...</td>\n",
       "      <td>http://sharkattackfile.net/spreadsheets/pdf_di...</td>\n",
       "      <td>2018.04.05</td>\n",
       "      <td>2018.04.05</td>\n",
       "      <td>6270.0</td>\n",
       "      <td>unknown</td>\n",
       "      <td>unknown</td>\n",
       "    </tr>\n",
       "    <tr>\n",
       "      <th>48</th>\n",
       "      <td>2018.01.21</td>\n",
       "      <td>21-Jan-2018</td>\n",
       "      <td>2018.0</td>\n",
       "      <td>Unprovoked</td>\n",
       "      <td>NEW CALEDONIA</td>\n",
       "      <td>Nouville</td>\n",
       "      <td>Nouville</td>\n",
       "      <td>Spearfishing</td>\n",
       "      <td>male</td>\n",
       "      <td>M</td>\n",
       "      <td>40s</td>\n",
       "      <td>Injuries to abdomen and arm</td>\n",
       "      <td>N</td>\n",
       "      <td>15h30</td>\n",
       "      <td>Bull shark</td>\n",
       "      <td>TrackingSharks.com</td>\n",
       "      <td>2018.01.21-NewCaledonia.pdf</td>\n",
       "      <td>http://sharkattackfile.net/spreadsheets/pdf_di...</td>\n",
       "      <td>http://sharkattackfile.net/spreadsheets/pdf_di...</td>\n",
       "      <td>2018.01.21</td>\n",
       "      <td>2018.01.21</td>\n",
       "      <td>6255.0</td>\n",
       "      <td>unknown</td>\n",
       "      <td>unknown</td>\n",
       "    </tr>\n",
       "    <tr>\n",
       "      <th>129</th>\n",
       "      <td>2017.06.18.a</td>\n",
       "      <td>18-Jun-2017</td>\n",
       "      <td>2017.0</td>\n",
       "      <td>Unprovoked</td>\n",
       "      <td>REUNION</td>\n",
       "      <td>Roches Noire</td>\n",
       "      <td>Roches Noire</td>\n",
       "      <td>Body boarding</td>\n",
       "      <td>Julien</td>\n",
       "      <td>M</td>\n",
       "      <td>34</td>\n",
       "      <td>No injury, shark bit surfboard</td>\n",
       "      <td>N</td>\n",
       "      <td>10h00</td>\n",
       "      <td>Bull shark</td>\n",
       "      <td>Clincanoo, 6/19/2017</td>\n",
       "      <td>2017.06.18.a-Reunion.pdf</td>\n",
       "      <td>http://sharkattackfile.net/spreadsheets/pdf_di...</td>\n",
       "      <td>http://sharkattackfile.net/spreadsheets/pdf_di...</td>\n",
       "      <td>2017.06.18.a</td>\n",
       "      <td>2017.06.18.a</td>\n",
       "      <td>6174.0</td>\n",
       "      <td>unknown</td>\n",
       "      <td>unknown</td>\n",
       "    </tr>\n",
       "    <tr>\n",
       "      <th>229</th>\n",
       "      <td>2016.08.27</td>\n",
       "      <td>27-Aug-2016</td>\n",
       "      <td>2016.0</td>\n",
       "      <td>Unprovoked</td>\n",
       "      <td>REUNION</td>\n",
       "      <td>Boucan Canot</td>\n",
       "      <td>Boucan Canot</td>\n",
       "      <td>Surfing</td>\n",
       "      <td>Laurent Chardard</td>\n",
       "      <td>M</td>\n",
       "      <td>20</td>\n",
       "      <td>Right arm severed, ankle severely bitten</td>\n",
       "      <td>N</td>\n",
       "      <td>17h00</td>\n",
       "      <td>Bull shark</td>\n",
       "      <td>LaDepeche, 8/29/2016</td>\n",
       "      <td>2016.08.27-Chardard.pdf</td>\n",
       "      <td>http://sharkattackfile.net/spreadsheets/pdf_di...</td>\n",
       "      <td>http://sharkattackfile.net/spreadsheets/pdf_di...</td>\n",
       "      <td>2016.08.27</td>\n",
       "      <td>2016.08.27</td>\n",
       "      <td>6074.0</td>\n",
       "      <td>unknown</td>\n",
       "      <td>unknown</td>\n",
       "    </tr>\n",
       "    <tr>\n",
       "      <th>856</th>\n",
       "      <td>2011.10.05</td>\n",
       "      <td>05-Oct-2011</td>\n",
       "      <td>2011.0</td>\n",
       "      <td>Boating</td>\n",
       "      <td>REUNION</td>\n",
       "      <td>Cap La Houssaye</td>\n",
       "      <td>Cap La Houssaye</td>\n",
       "      <td>Canoeing</td>\n",
       "      <td>Jean-Pierre Castellani</td>\n",
       "      <td>M</td>\n",
       "      <td>51</td>\n",
       "      <td>No injury to occupant</td>\n",
       "      <td>N</td>\n",
       "      <td>10h30</td>\n",
       "      <td>Unknown</td>\n",
       "      <td>Clicanoo, 10/5/2011</td>\n",
       "      <td>2011.10.05-Castellani.pdf</td>\n",
       "      <td>http://sharkattackfile.net/spreadsheets/pdf_di...</td>\n",
       "      <td>http://sharkattackfile.net/spreadsheets/pdf_di...</td>\n",
       "      <td>2011.10.05</td>\n",
       "      <td>2011.10.05</td>\n",
       "      <td>5447.0</td>\n",
       "      <td>unknown</td>\n",
       "      <td>unknown</td>\n",
       "    </tr>\n",
       "    <tr>\n",
       "      <th>1195</th>\n",
       "      <td>2008.10.21</td>\n",
       "      <td>21-Oct-2008</td>\n",
       "      <td>2008.0</td>\n",
       "      <td>Unprovoked</td>\n",
       "      <td>NEW CALEDONIA</td>\n",
       "      <td>NaN</td>\n",
       "      <td>NaN</td>\n",
       "      <td>Spearfishing</td>\n",
       "      <td>Nicolas Wright</td>\n",
       "      <td>M</td>\n",
       "      <td>24</td>\n",
       "      <td>Legs bitten</td>\n",
       "      <td>N</td>\n",
       "      <td>11h00</td>\n",
       "      <td>Lemon shark</td>\n",
       "      <td>C. Johansson, GSAF</td>\n",
       "      <td>2008.10.21-Wright.pdf</td>\n",
       "      <td>http://sharkattackfile.net/spreadsheets/pdf_di...</td>\n",
       "      <td>http://sharkattackfile.net/spreadsheets/pdf_di...</td>\n",
       "      <td>2008.10.21</td>\n",
       "      <td>2008.10.21</td>\n",
       "      <td>5108.0</td>\n",
       "      <td>unknown</td>\n",
       "      <td>unknown</td>\n",
       "    </tr>\n",
       "    <tr>\n",
       "      <th>1365</th>\n",
       "      <td>2007.07.04</td>\n",
       "      <td>04-Jul-2007</td>\n",
       "      <td>2007.0</td>\n",
       "      <td>Unprovoked</td>\n",
       "      <td>REUNION</td>\n",
       "      <td>Boucan Canot</td>\n",
       "      <td>Boucan Canot</td>\n",
       "      <td>Body boarding</td>\n",
       "      <td>Vincent Bouju</td>\n",
       "      <td>M</td>\n",
       "      <td>17</td>\n",
       "      <td>Minor injuries to thigh &amp; knee</td>\n",
       "      <td>N</td>\n",
       "      <td>14h30</td>\n",
       "      <td>Unknown</td>\n",
       "      <td>clicanoo.com, 7/5/2007</td>\n",
       "      <td>2007.07.04-Bouju.pdf</td>\n",
       "      <td>http://sharkattackfile.net/spreadsheets/pdf_di...</td>\n",
       "      <td>http://sharkattackfile.net/spreadsheets/pdf_di...</td>\n",
       "      <td>2007.07.04</td>\n",
       "      <td>2007.07.04</td>\n",
       "      <td>4938.0</td>\n",
       "      <td>unknown</td>\n",
       "      <td>unknown</td>\n",
       "    </tr>\n",
       "    <tr>\n",
       "      <th>2441</th>\n",
       "      <td>1994.04.06</td>\n",
       "      <td>06-Apr-1994</td>\n",
       "      <td>1994.0</td>\n",
       "      <td>Unprovoked</td>\n",
       "      <td>BAHAMAS</td>\n",
       "      <td>Rum Cay</td>\n",
       "      <td>Rum Cay</td>\n",
       "      <td>Wading</td>\n",
       "      <td>Scott Curatolo-Wagemann</td>\n",
       "      <td>M</td>\n",
       "      <td>20?</td>\n",
       "      <td>Lower right  leg bitten</td>\n",
       "      <td>N</td>\n",
       "      <td>10h30</td>\n",
       "      <td>Unknown</td>\n",
       "      <td>S. Curatolo-Wagemann; SharkSurvivors.com</td>\n",
       "      <td>1994.04.06-Wagemann.pdf</td>\n",
       "      <td>http://sharkattackfile.net/spreadsheets/pdf_di...</td>\n",
       "      <td>http://sharkattackfile.net/spreadsheets/pdf_di...</td>\n",
       "      <td>1994.04.06</td>\n",
       "      <td>1994.04.06</td>\n",
       "      <td>3862.0</td>\n",
       "      <td>unknown</td>\n",
       "      <td>unknown</td>\n",
       "    </tr>\n",
       "    <tr>\n",
       "      <th>2444</th>\n",
       "      <td>1994.03.23.b</td>\n",
       "      <td>23-Mar-1994</td>\n",
       "      <td>1994.0</td>\n",
       "      <td>Unprovoked</td>\n",
       "      <td>CHILE</td>\n",
       "      <td>300 miles east of Easter Island</td>\n",
       "      <td>300 miles east of Easter Island</td>\n",
       "      <td>Swimming alongside NOAA research vessel Discov...</td>\n",
       "      <td>Heather Boswell</td>\n",
       "      <td>F</td>\n",
       "      <td>19</td>\n",
       "      <td>Leg severed mid-thigh</td>\n",
       "      <td>N</td>\n",
       "      <td>11h58</td>\n",
       "      <td>White shark</td>\n",
       "      <td>H. Boswell, M. Levine &amp; E. Ritter, GSAF</td>\n",
       "      <td>1994.03.23.b-Boswell.pdf</td>\n",
       "      <td>http://sharkattackfile.net/spreadsheets/pdf_di...</td>\n",
       "      <td>http://sharkattackfile.net/spreadsheets/pdf_di...</td>\n",
       "      <td>1994.03.23.b</td>\n",
       "      <td>1994.03.23.b</td>\n",
       "      <td>3859.0</td>\n",
       "      <td>unknown</td>\n",
       "      <td>unknown</td>\n",
       "    </tr>\n",
       "    <tr>\n",
       "      <th>2581</th>\n",
       "      <td>1991.09.19</td>\n",
       "      <td>19-Sep-1991</td>\n",
       "      <td>1991.0</td>\n",
       "      <td>Invalid</td>\n",
       "      <td>BAHAMAS</td>\n",
       "      <td>Bimini</td>\n",
       "      <td>Bimini</td>\n",
       "      <td>Spearfishing</td>\n",
       "      <td>Omar Karim Huneidi</td>\n",
       "      <td>M</td>\n",
       "      <td>32</td>\n",
       "      <td>Initally reported as a shark attack, forensic ...</td>\n",
       "      <td>NaN</td>\n",
       "      <td>17h00</td>\n",
       "      <td>Unknown</td>\n",
       "      <td>E. Pace, FSAF; Sun Sentinel, 9/22/1991, p.3B</td>\n",
       "      <td>1991.09.19-Huneidi.pdf</td>\n",
       "      <td>http://sharkattackfile.net/spreadsheets/pdf_di...</td>\n",
       "      <td>http://sharkattackfile.net/spreadsheets/pdf_di...</td>\n",
       "      <td>1991.09.19</td>\n",
       "      <td>1991.09.19</td>\n",
       "      <td>3722.0</td>\n",
       "      <td>unknown</td>\n",
       "      <td>unknown</td>\n",
       "    </tr>\n",
       "    <tr>\n",
       "      <th>2632</th>\n",
       "      <td>1990.06.23</td>\n",
       "      <td>23-Jun-1990</td>\n",
       "      <td>1990.0</td>\n",
       "      <td>Unprovoked</td>\n",
       "      <td>BAHAMAS</td>\n",
       "      <td>Bimini</td>\n",
       "      <td>Bimini</td>\n",
       "      <td>Spearfishing</td>\n",
       "      <td>Bruce Cease</td>\n",
       "      <td>M</td>\n",
       "      <td>38</td>\n",
       "      <td>Left forearm bitten</td>\n",
       "      <td>N</td>\n",
       "      <td>14h30</td>\n",
       "      <td>Unknown</td>\n",
       "      <td>Miami Herald, 6/25/1990</td>\n",
       "      <td>1990.06.23-Cease.pdf</td>\n",
       "      <td>http://sharkattackfile.net/spreadsheets/pdf_di...</td>\n",
       "      <td>http://sharkattackfile.net/spreadsheets/pdf_di...</td>\n",
       "      <td>1990.06.23</td>\n",
       "      <td>1990.06.23</td>\n",
       "      <td>3671.0</td>\n",
       "      <td>unknown</td>\n",
       "      <td>unknown</td>\n",
       "    </tr>\n",
       "    <tr>\n",
       "      <th>2937</th>\n",
       "      <td>1983.06.15</td>\n",
       "      <td>15-Jun-1983</td>\n",
       "      <td>1983.0</td>\n",
       "      <td>Unprovoked</td>\n",
       "      <td>BAHAMAS</td>\n",
       "      <td>Carter Cay</td>\n",
       "      <td>Carter Cay</td>\n",
       "      <td>NaN</td>\n",
       "      <td>Roger Yost</td>\n",
       "      <td>M</td>\n",
       "      <td>30</td>\n",
       "      <td>Lacerations to hand &amp; foot</td>\n",
       "      <td>N</td>\n",
       "      <td>11h00</td>\n",
       "      <td>Blacktip reef shark</td>\n",
       "      <td>E.  Pace, FSAF</td>\n",
       "      <td>1983.06.15-NV-Yost.pdf</td>\n",
       "      <td>http://sharkattackfile.net/spreadsheets/pdf_di...</td>\n",
       "      <td>http://sharkattackfile.net/spreadsheets/pdf_di...</td>\n",
       "      <td>1983.06.15</td>\n",
       "      <td>1983.06.15</td>\n",
       "      <td>3366.0</td>\n",
       "      <td>unknown</td>\n",
       "      <td>unknown</td>\n",
       "    </tr>\n",
       "    <tr>\n",
       "      <th>3527</th>\n",
       "      <td>1967.05.09</td>\n",
       "      <td>09-May-1967</td>\n",
       "      <td>1967.0</td>\n",
       "      <td>Provoked</td>\n",
       "      <td>AUSTRALIA</td>\n",
       "      <td>Aquarium</td>\n",
       "      <td>Aquarium</td>\n",
       "      <td>Feeding a shark</td>\n",
       "      <td>Rod Stanley</td>\n",
       "      <td>M</td>\n",
       "      <td>22</td>\n",
       "      <td>Recorded as PROVOKED INCIDENT</td>\n",
       "      <td>N</td>\n",
       "      <td>Afternoon</td>\n",
       "      <td>Grey nurse shark</td>\n",
       "      <td>H.D.Baldridge (1994) SAF Case #1536</td>\n",
       "      <td>1967.05.09-NV-Stanley.pdf</td>\n",
       "      <td>http://sharkattackfile.net/spreadsheets/pdf_di...</td>\n",
       "      <td>http://sharkattackfile.net/spreadsheets/pdf_di...</td>\n",
       "      <td>1967.05.09</td>\n",
       "      <td>1967.05.09</td>\n",
       "      <td>2776.0</td>\n",
       "      <td>unknown</td>\n",
       "      <td>unknown</td>\n",
       "    </tr>\n",
       "    <tr>\n",
       "      <th>3579</th>\n",
       "      <td>1966.05.20.a</td>\n",
       "      <td>20-May-1966</td>\n",
       "      <td>1966.0</td>\n",
       "      <td>Sea Disaster</td>\n",
       "      <td>AUSTRALIA</td>\n",
       "      <td>7 miles offshore on east coast of Australia</td>\n",
       "      <td>7 miles offshore on east coast of Australia</td>\n",
       "      <td>Shipwreck</td>\n",
       "      <td>Daniel Mangel, seaman</td>\n",
       "      <td>M</td>\n",
       "      <td>38</td>\n",
       "      <td>FATAL, other human remains bitten by sharks, 1...</td>\n",
       "      <td>Y</td>\n",
       "      <td>Dark</td>\n",
       "      <td>White shark</td>\n",
       "      <td>Barker &amp; Ritson</td>\n",
       "      <td>1966.05.20.a-Mangel.pdf</td>\n",
       "      <td>http://sharkattackfile.net/spreadsheets/pdf_di...</td>\n",
       "      <td>http://sharkattackfile.net/spreadsheets/pdf_di...</td>\n",
       "      <td>1966.05.20.a</td>\n",
       "      <td>1966.05.20.a</td>\n",
       "      <td>2724.0</td>\n",
       "      <td>unknown</td>\n",
       "      <td>unknown</td>\n",
       "    </tr>\n",
       "    <tr>\n",
       "      <th>3661</th>\n",
       "      <td>1964.09.27</td>\n",
       "      <td>27-Sep-1964</td>\n",
       "      <td>1964.0</td>\n",
       "      <td>Invalid</td>\n",
       "      <td>NaN</td>\n",
       "      <td>NaN</td>\n",
       "      <td>NaN</td>\n",
       "      <td>Spearfishing</td>\n",
       "      <td>Giancarlo Griffon</td>\n",
       "      <td>M</td>\n",
       "      <td>24</td>\n",
       "      <td>Disappeared, probable drowning but sharks in a...</td>\n",
       "      <td>NaN</td>\n",
       "      <td>11h00</td>\n",
       "      <td>Unknown</td>\n",
       "      <td>C. Moore. GSAF</td>\n",
       "      <td>1964.09.27-Griffon.pdf</td>\n",
       "      <td>http://sharkattackfile.net/spreadsheets/pdf_di...</td>\n",
       "      <td>http://sharkattackfile.net/spreadsheets/pdf_di...</td>\n",
       "      <td>1964.09.27</td>\n",
       "      <td>1964.09.27</td>\n",
       "      <td>2642.0</td>\n",
       "      <td>unknown</td>\n",
       "      <td>unknown</td>\n",
       "    </tr>\n",
       "    <tr>\n",
       "      <th>3806</th>\n",
       "      <td>1962.07.20</td>\n",
       "      <td>20-Jul-1962</td>\n",
       "      <td>1962.0</td>\n",
       "      <td>Provoked</td>\n",
       "      <td>MADAGASCAR</td>\n",
       "      <td>Onboard tuna boat, M.V. Toscui Maru</td>\n",
       "      <td>Onboard tuna boat, M.V. Toscui Maru</td>\n",
       "      <td>Finning the shark</td>\n",
       "      <td>Takemoto Masnori</td>\n",
       "      <td>M</td>\n",
       "      <td>20</td>\n",
       "      <td>Right calf lacerated by boated shark PROVOKED ...</td>\n",
       "      <td>N</td>\n",
       "      <td>Morning</td>\n",
       "      <td>Unknown</td>\n",
       "      <td>J. D'Aubrey</td>\n",
       "      <td>1962.07.20-Masnori.pdf</td>\n",
       "      <td>http://sharkattackfile.net/spreadsheets/pdf_di...</td>\n",
       "      <td>http://sharkattackfile.net/spreadsheets/pdf_di...</td>\n",
       "      <td>1962.07.20</td>\n",
       "      <td>1962.07.20</td>\n",
       "      <td>2497.0</td>\n",
       "      <td>unknown</td>\n",
       "      <td>unknown</td>\n",
       "    </tr>\n",
       "    <tr>\n",
       "      <th>3884</th>\n",
       "      <td>1961.08.04</td>\n",
       "      <td>04-Aug-1961</td>\n",
       "      <td>1961.0</td>\n",
       "      <td>Unprovoked</td>\n",
       "      <td>BERMUDA</td>\n",
       "      <td>6 miles from shore</td>\n",
       "      <td>6 miles from shore</td>\n",
       "      <td>Spearfishing</td>\n",
       "      <td>Robert Sato</td>\n",
       "      <td>M</td>\n",
       "      <td>22</td>\n",
       "      <td>Right hand lacerated</td>\n",
       "      <td>N</td>\n",
       "      <td>11h00</td>\n",
       "      <td>Blacktip reef shark</td>\n",
       "      <td>R. McAllister; H.D. Baldridge, p.134</td>\n",
       "      <td>1961.08.04-Sato.pdf</td>\n",
       "      <td>http://sharkattackfile.net/spreadsheets/pdf_di...</td>\n",
       "      <td>http://sharkattackfile.net/spreadsheets/pdf_di...</td>\n",
       "      <td>1961.08.04</td>\n",
       "      <td>1961.08.04</td>\n",
       "      <td>2419.0</td>\n",
       "      <td>unknown</td>\n",
       "      <td>unknown</td>\n",
       "    </tr>\n",
       "    <tr>\n",
       "      <th>3960</th>\n",
       "      <td>1960.10.00.a</td>\n",
       "      <td>Oct-1960</td>\n",
       "      <td>1960.0</td>\n",
       "      <td>Invalid</td>\n",
       "      <td>JOHNSTON ISLAND</td>\n",
       "      <td>NaN</td>\n",
       "      <td>NaN</td>\n",
       "      <td>Free diving / photography, kneeling on sand</td>\n",
       "      <td>Raymond F. McAllister</td>\n",
       "      <td>M</td>\n",
       "      <td>37</td>\n",
       "      <td>No injury, shark made threat display</td>\n",
       "      <td>NaN</td>\n",
       "      <td>12h00 to 14h00</td>\n",
       "      <td>Unknown</td>\n",
       "      <td>R. McAllister; SAF ISAF Case #958</td>\n",
       "      <td>1960.10.00.a-McAllister.pdf</td>\n",
       "      <td>http://sharkattackfile.net/spreadsheets/pdf_di...</td>\n",
       "      <td>http://sharkattackfile.net/spreadsheets/pdf_di...</td>\n",
       "      <td>1960.10.00.a</td>\n",
       "      <td>1960.10.00.a</td>\n",
       "      <td>2343.0</td>\n",
       "      <td>unknown</td>\n",
       "      <td>unknown</td>\n",
       "    </tr>\n",
       "    <tr>\n",
       "      <th>4008</th>\n",
       "      <td>1960.03.28</td>\n",
       "      <td>28-Mar-1960</td>\n",
       "      <td>1960.0</td>\n",
       "      <td>Unprovoked</td>\n",
       "      <td>GUAM</td>\n",
       "      <td>NaN</td>\n",
       "      <td>NaN</td>\n",
       "      <td>Spearfishing, carrying fish on belt</td>\n",
       "      <td>Enrique Matao</td>\n",
       "      <td>M</td>\n",
       "      <td>44</td>\n",
       "      <td>Thigh bitten</td>\n",
       "      <td>N</td>\n",
       "      <td>12h00</td>\n",
       "      <td>Unknown</td>\n",
       "      <td>V.M. Coppleson (1962), p.254; H.D. Baldridge, ...</td>\n",
       "      <td>1960.03.28-Metao.pdf</td>\n",
       "      <td>http://sharkattackfile.net/spreadsheets/pdf_di...</td>\n",
       "      <td>http://sharkattackfile.net/spreadsheets/pdf_di...</td>\n",
       "      <td>1960.03.28</td>\n",
       "      <td>1960.03.28</td>\n",
       "      <td>2295.0</td>\n",
       "      <td>unknown</td>\n",
       "      <td>unknown</td>\n",
       "    </tr>\n",
       "    <tr>\n",
       "      <th>4140</th>\n",
       "      <td>1958.09.13</td>\n",
       "      <td>13-Sep-1958</td>\n",
       "      <td>1958.0</td>\n",
       "      <td>Unprovoked</td>\n",
       "      <td>ANDAMAN / NICOBAR ISLANDAS</td>\n",
       "      <td>NaN</td>\n",
       "      <td>NaN</td>\n",
       "      <td>\"Climbing up to ship after repairing the stern...</td>\n",
       "      <td>Sailor of tuna vessel Daisan-Tenyo-Maru</td>\n",
       "      <td>M</td>\n",
       "      <td>32</td>\n",
       "      <td>FATAL, leg bitten</td>\n",
       "      <td>Y</td>\n",
       "      <td>14h00</td>\n",
       "      <td>Blue shark</td>\n",
       "      <td>M. Hosina</td>\n",
       "      <td>1958.09.13-sailor.pdf</td>\n",
       "      <td>http://sharkattackfile.net/spreadsheets/pdf_di...</td>\n",
       "      <td>http://sharkattackfile.net/spreadsheets/pdf_di...</td>\n",
       "      <td>1958.09.13</td>\n",
       "      <td>1958.09.13</td>\n",
       "      <td>2163.0</td>\n",
       "      <td>unknown</td>\n",
       "      <td>unknown</td>\n",
       "    </tr>\n",
       "    <tr>\n",
       "      <th>4441</th>\n",
       "      <td>1951.07.11</td>\n",
       "      <td>11-Jul-1951</td>\n",
       "      <td>1951.0</td>\n",
       "      <td>Unprovoked</td>\n",
       "      <td>PACIFIC OCEAN</td>\n",
       "      <td>In Los Angeles  Honolulu yacht race</td>\n",
       "      <td>In Los Angeles  Honolulu yacht race</td>\n",
       "      <td>Fell overboard</td>\n",
       "      <td>Edward Sierks, skipper</td>\n",
       "      <td>M</td>\n",
       "      <td>40</td>\n",
       "      <td>\"Molested by shark that nibbled his bare feet\"...</td>\n",
       "      <td>N</td>\n",
       "      <td>Afternoon</td>\n",
       "      <td>Unknown</td>\n",
       "      <td>Daily Review, 7/13/1951</td>\n",
       "      <td>1951.07.11-Sierks.pdf</td>\n",
       "      <td>http://sharkattackfile.net/spreadsheets/pdf_di...</td>\n",
       "      <td>http://sharkattackfile.net/spreadsheets/pdf_di...</td>\n",
       "      <td>1951.07.11</td>\n",
       "      <td>1951.07.11</td>\n",
       "      <td>1862.0</td>\n",
       "      <td>unknown</td>\n",
       "      <td>unknown</td>\n",
       "    </tr>\n",
       "  </tbody>\n",
       "</table>\n",
       "</div>"
      ],
      "text/plain": [
       "       case_number         date    year          type  \\\n",
       "33      2018.04.05  05-Apr-2018  2018.0    Unprovoked   \n",
       "48      2018.01.21  21-Jan-2018  2018.0    Unprovoked   \n",
       "129   2017.06.18.a  18-Jun-2017  2017.0    Unprovoked   \n",
       "229     2016.08.27  27-Aug-2016  2016.0    Unprovoked   \n",
       "856     2011.10.05  05-Oct-2011  2011.0       Boating   \n",
       "1195    2008.10.21  21-Oct-2008  2008.0    Unprovoked   \n",
       "1365    2007.07.04  04-Jul-2007  2007.0    Unprovoked   \n",
       "2441    1994.04.06  06-Apr-1994  1994.0    Unprovoked   \n",
       "2444  1994.03.23.b  23-Mar-1994  1994.0    Unprovoked   \n",
       "2581    1991.09.19  19-Sep-1991  1991.0       Invalid   \n",
       "2632    1990.06.23  23-Jun-1990  1990.0    Unprovoked   \n",
       "2937    1983.06.15  15-Jun-1983  1983.0    Unprovoked   \n",
       "3527    1967.05.09  09-May-1967  1967.0      Provoked   \n",
       "3579  1966.05.20.a  20-May-1966  1966.0  Sea Disaster   \n",
       "3661    1964.09.27  27-Sep-1964  1964.0       Invalid   \n",
       "3806    1962.07.20  20-Jul-1962  1962.0      Provoked   \n",
       "3884    1961.08.04  04-Aug-1961  1961.0    Unprovoked   \n",
       "3960  1960.10.00.a     Oct-1960  1960.0       Invalid   \n",
       "4008    1960.03.28  28-Mar-1960  1960.0    Unprovoked   \n",
       "4140    1958.09.13  13-Sep-1958  1958.0    Unprovoked   \n",
       "4441    1951.07.11  11-Jul-1951  1951.0    Unprovoked   \n",
       "\n",
       "                         country                                         area  \\\n",
       "33                       BAHAMAS                                       Bimini   \n",
       "48                 NEW CALEDONIA                                     Nouville   \n",
       "129                      REUNION                                 Roches Noire   \n",
       "229                      REUNION                                 Boucan Canot   \n",
       "856                      REUNION                              Cap La Houssaye   \n",
       "1195               NEW CALEDONIA                                          NaN   \n",
       "1365                     REUNION                                 Boucan Canot   \n",
       "2441                     BAHAMAS                                      Rum Cay   \n",
       "2444                       CHILE              300 miles east of Easter Island   \n",
       "2581                     BAHAMAS                                       Bimini   \n",
       "2632                     BAHAMAS                                       Bimini   \n",
       "2937                     BAHAMAS                                   Carter Cay   \n",
       "3527                   AUSTRALIA                                     Aquarium   \n",
       "3579                   AUSTRALIA  7 miles offshore on east coast of Australia   \n",
       "3661                         NaN                                          NaN   \n",
       "3806                  MADAGASCAR          Onboard tuna boat, M.V. Toscui Maru   \n",
       "3884                     BERMUDA                           6 miles from shore   \n",
       "3960             JOHNSTON ISLAND                                          NaN   \n",
       "4008                        GUAM                                          NaN   \n",
       "4140  ANDAMAN / NICOBAR ISLANDAS                                          NaN   \n",
       "4441               PACIFIC OCEAN         In Los Angeles  Honolulu yacht race   \n",
       "\n",
       "                                         location  \\\n",
       "33                                         Bimini   \n",
       "48                                       Nouville   \n",
       "129                                  Roches Noire   \n",
       "229                                  Boucan Canot   \n",
       "856                               Cap La Houssaye   \n",
       "1195                                          NaN   \n",
       "1365                                 Boucan Canot   \n",
       "2441                                      Rum Cay   \n",
       "2444              300 miles east of Easter Island   \n",
       "2581                                       Bimini   \n",
       "2632                                       Bimini   \n",
       "2937                                   Carter Cay   \n",
       "3527                                     Aquarium   \n",
       "3579  7 miles offshore on east coast of Australia   \n",
       "3661                                          NaN   \n",
       "3806          Onboard tuna boat, M.V. Toscui Maru   \n",
       "3884                           6 miles from shore   \n",
       "3960                                          NaN   \n",
       "4008                                          NaN   \n",
       "4140                                          NaN   \n",
       "4441         In Los Angeles  Honolulu yacht race   \n",
       "\n",
       "                                               activity  \\\n",
       "33                                             Swimming   \n",
       "48                                         Spearfishing   \n",
       "129                                       Body boarding   \n",
       "229                                             Surfing   \n",
       "856                                            Canoeing   \n",
       "1195                                       Spearfishing   \n",
       "1365                                      Body boarding   \n",
       "2441                                             Wading   \n",
       "2444  Swimming alongside NOAA research vessel Discov...   \n",
       "2581                                       Spearfishing   \n",
       "2632                                       Spearfishing   \n",
       "2937                                                NaN   \n",
       "3527                                    Feeding a shark   \n",
       "3579                                          Shipwreck   \n",
       "3661                                       Spearfishing   \n",
       "3806                                  Finning the shark   \n",
       "3884                                       Spearfishing   \n",
       "3960        Free diving / photography, kneeling on sand   \n",
       "4008                Spearfishing, carrying fish on belt   \n",
       "4140  \"Climbing up to ship after repairing the stern...   \n",
       "4441                                     Fell overboard   \n",
       "\n",
       "                                         name sex  age  \\\n",
       "33                            Shane McConnell   M   12   \n",
       "48                                       male   M  40s   \n",
       "129                                    Julien   M   34   \n",
       "229                         Laurent Chardard    M   20   \n",
       "856                   Jean-Pierre Castellani    M   51   \n",
       "1195                           Nicolas Wright   M   24   \n",
       "1365                            Vincent Bouju   M   17   \n",
       "2441                  Scott Curatolo-Wagemann   M  20?   \n",
       "2444                          Heather Boswell   F   19   \n",
       "2581                       Omar Karim Huneidi   M   32   \n",
       "2632                              Bruce Cease   M   38   \n",
       "2937                               Roger Yost   M   30   \n",
       "3527                              Rod Stanley   M   22   \n",
       "3579                    Daniel Mangel, seaman   M   38   \n",
       "3661                        Giancarlo Griffon   M   24   \n",
       "3806                         Takemoto Masnori   M   20   \n",
       "3884                              Robert Sato   M   22   \n",
       "3960                    Raymond F. McAllister   M   37   \n",
       "4008                            Enrique Matao   M   44   \n",
       "4140  Sailor of tuna vessel Daisan-Tenyo-Maru   M   32   \n",
       "4441                   Edward Sierks, skipper   M   40   \n",
       "\n",
       "                                                 injury fatal_yon  \\\n",
       "33    2 puncture wounds to left foot, abrasion to ri...         N   \n",
       "48                          Injuries to abdomen and arm         N   \n",
       "129                     No injury, shark bit surfboard          N   \n",
       "229           Right arm severed, ankle severely bitten          N   \n",
       "856                               No injury to occupant         N   \n",
       "1195                                        Legs bitten         N   \n",
       "1365                    Minor injuries to thigh & knee          N   \n",
       "2441                            Lower right  leg bitten         N   \n",
       "2444                              Leg severed mid-thigh         N   \n",
       "2581  Initally reported as a shark attack, forensic ...       NaN   \n",
       "2632                                Left forearm bitten         N   \n",
       "2937                         Lacerations to hand & foot         N   \n",
       "3527                      Recorded as PROVOKED INCIDENT         N   \n",
       "3579  FATAL, other human remains bitten by sharks, 1...         Y   \n",
       "3661  Disappeared, probable drowning but sharks in a...       NaN   \n",
       "3806  Right calf lacerated by boated shark PROVOKED ...         N   \n",
       "3884                               Right hand lacerated         N   \n",
       "3960               No injury, shark made threat display       NaN   \n",
       "4008                                       Thigh bitten         N   \n",
       "4140                                 FATAL, leg bitten          Y   \n",
       "4441  \"Molested by shark that nibbled his bare feet\"...         N   \n",
       "\n",
       "                time              species  \\\n",
       "33             18h00           Bull shark   \n",
       "48             15h30           Bull shark   \n",
       "129            10h00           Bull shark   \n",
       "229            17h00           Bull shark   \n",
       "856            10h30              Unknown   \n",
       "1195           11h00          Lemon shark   \n",
       "1365           14h30              Unknown   \n",
       "2441           10h30              Unknown   \n",
       "2444           11h58          White shark   \n",
       "2581           17h00              Unknown   \n",
       "2632           14h30              Unknown   \n",
       "2937           11h00  Blacktip reef shark   \n",
       "3527       Afternoon     Grey nurse shark   \n",
       "3579            Dark          White shark   \n",
       "3661           11h00              Unknown   \n",
       "3806         Morning              Unknown   \n",
       "3884           11h00  Blacktip reef shark   \n",
       "3960  12h00 to 14h00              Unknown   \n",
       "4008           12h00              Unknown   \n",
       "4140           14h00           Blue shark   \n",
       "4441       Afternoon              Unknown   \n",
       "\n",
       "                                 investigator_or_source  \\\n",
       "33                      K. McMurray, TrackingSharks.com   \n",
       "48                                   TrackingSharks.com   \n",
       "129                                Clincanoo, 6/19/2017   \n",
       "229                                LaDepeche, 8/29/2016   \n",
       "856                                 Clicanoo, 10/5/2011   \n",
       "1195                                 C. Johansson, GSAF   \n",
       "1365                             clicanoo.com, 7/5/2007   \n",
       "2441           S. Curatolo-Wagemann; SharkSurvivors.com   \n",
       "2444            H. Boswell, M. Levine & E. Ritter, GSAF   \n",
       "2581       E. Pace, FSAF; Sun Sentinel, 9/22/1991, p.3B   \n",
       "2632                            Miami Herald, 6/25/1990   \n",
       "2937                                     E.  Pace, FSAF   \n",
       "3527                H.D.Baldridge (1994) SAF Case #1536   \n",
       "3579                                    Barker & Ritson   \n",
       "3661                                     C. Moore. GSAF   \n",
       "3806                                        J. D'Aubrey   \n",
       "3884               R. McAllister; H.D. Baldridge, p.134   \n",
       "3960                  R. McAllister; SAF ISAF Case #958   \n",
       "4008  V.M. Coppleson (1962), p.254; H.D. Baldridge, ...   \n",
       "4140                                          M. Hosina   \n",
       "4441                            Daily Review, 7/13/1951   \n",
       "\n",
       "                              pdf  \\\n",
       "33       2018.04.05-McConnell.pdf   \n",
       "48    2018.01.21-NewCaledonia.pdf   \n",
       "129      2017.06.18.a-Reunion.pdf   \n",
       "229       2016.08.27-Chardard.pdf   \n",
       "856     2011.10.05-Castellani.pdf   \n",
       "1195        2008.10.21-Wright.pdf   \n",
       "1365         2007.07.04-Bouju.pdf   \n",
       "2441      1994.04.06-Wagemann.pdf   \n",
       "2444     1994.03.23.b-Boswell.pdf   \n",
       "2581       1991.09.19-Huneidi.pdf   \n",
       "2632         1990.06.23-Cease.pdf   \n",
       "2937       1983.06.15-NV-Yost.pdf   \n",
       "3527    1967.05.09-NV-Stanley.pdf   \n",
       "3579      1966.05.20.a-Mangel.pdf   \n",
       "3661       1964.09.27-Griffon.pdf   \n",
       "3806       1962.07.20-Masnori.pdf   \n",
       "3884          1961.08.04-Sato.pdf   \n",
       "3960  1960.10.00.a-McAllister.pdf   \n",
       "4008         1960.03.28-Metao.pdf   \n",
       "4140        1958.09.13-sailor.pdf   \n",
       "4441        1951.07.11-Sierks.pdf   \n",
       "\n",
       "                                           href_formula  \\\n",
       "33    http://sharkattackfile.net/spreadsheets/pdf_di...   \n",
       "48    http://sharkattackfile.net/spreadsheets/pdf_di...   \n",
       "129   http://sharkattackfile.net/spreadsheets/pdf_di...   \n",
       "229   http://sharkattackfile.net/spreadsheets/pdf_di...   \n",
       "856   http://sharkattackfile.net/spreadsheets/pdf_di...   \n",
       "1195  http://sharkattackfile.net/spreadsheets/pdf_di...   \n",
       "1365  http://sharkattackfile.net/spreadsheets/pdf_di...   \n",
       "2441  http://sharkattackfile.net/spreadsheets/pdf_di...   \n",
       "2444  http://sharkattackfile.net/spreadsheets/pdf_di...   \n",
       "2581  http://sharkattackfile.net/spreadsheets/pdf_di...   \n",
       "2632  http://sharkattackfile.net/spreadsheets/pdf_di...   \n",
       "2937  http://sharkattackfile.net/spreadsheets/pdf_di...   \n",
       "3527  http://sharkattackfile.net/spreadsheets/pdf_di...   \n",
       "3579  http://sharkattackfile.net/spreadsheets/pdf_di...   \n",
       "3661  http://sharkattackfile.net/spreadsheets/pdf_di...   \n",
       "3806  http://sharkattackfile.net/spreadsheets/pdf_di...   \n",
       "3884  http://sharkattackfile.net/spreadsheets/pdf_di...   \n",
       "3960  http://sharkattackfile.net/spreadsheets/pdf_di...   \n",
       "4008  http://sharkattackfile.net/spreadsheets/pdf_di...   \n",
       "4140  http://sharkattackfile.net/spreadsheets/pdf_di...   \n",
       "4441  http://sharkattackfile.net/spreadsheets/pdf_di...   \n",
       "\n",
       "                                                   href case_number_1  \\\n",
       "33    http://sharkattackfile.net/spreadsheets/pdf_di...    2018.04.05   \n",
       "48    http://sharkattackfile.net/spreadsheets/pdf_di...    2018.01.21   \n",
       "129   http://sharkattackfile.net/spreadsheets/pdf_di...  2017.06.18.a   \n",
       "229   http://sharkattackfile.net/spreadsheets/pdf_di...    2016.08.27   \n",
       "856   http://sharkattackfile.net/spreadsheets/pdf_di...    2011.10.05   \n",
       "1195  http://sharkattackfile.net/spreadsheets/pdf_di...    2008.10.21   \n",
       "1365  http://sharkattackfile.net/spreadsheets/pdf_di...    2007.07.04   \n",
       "2441  http://sharkattackfile.net/spreadsheets/pdf_di...    1994.04.06   \n",
       "2444  http://sharkattackfile.net/spreadsheets/pdf_di...  1994.03.23.b   \n",
       "2581  http://sharkattackfile.net/spreadsheets/pdf_di...    1991.09.19   \n",
       "2632  http://sharkattackfile.net/spreadsheets/pdf_di...    1990.06.23   \n",
       "2937  http://sharkattackfile.net/spreadsheets/pdf_di...    1983.06.15   \n",
       "3527  http://sharkattackfile.net/spreadsheets/pdf_di...    1967.05.09   \n",
       "3579  http://sharkattackfile.net/spreadsheets/pdf_di...  1966.05.20.a   \n",
       "3661  http://sharkattackfile.net/spreadsheets/pdf_di...    1964.09.27   \n",
       "3806  http://sharkattackfile.net/spreadsheets/pdf_di...    1962.07.20   \n",
       "3884  http://sharkattackfile.net/spreadsheets/pdf_di...    1961.08.04   \n",
       "3960  http://sharkattackfile.net/spreadsheets/pdf_di...  1960.10.00.a   \n",
       "4008  http://sharkattackfile.net/spreadsheets/pdf_di...    1960.03.28   \n",
       "4140  http://sharkattackfile.net/spreadsheets/pdf_di...    1958.09.13   \n",
       "4441  http://sharkattackfile.net/spreadsheets/pdf_di...    1951.07.11   \n",
       "\n",
       "     case_number_2  original_order unnamed_22 unnamed_23  \n",
       "33      2018.04.05          6270.0    unknown    unknown  \n",
       "48      2018.01.21          6255.0    unknown    unknown  \n",
       "129   2017.06.18.a          6174.0    unknown    unknown  \n",
       "229     2016.08.27          6074.0    unknown    unknown  \n",
       "856     2011.10.05          5447.0    unknown    unknown  \n",
       "1195    2008.10.21          5108.0    unknown    unknown  \n",
       "1365    2007.07.04          4938.0    unknown    unknown  \n",
       "2441    1994.04.06          3862.0    unknown    unknown  \n",
       "2444  1994.03.23.b          3859.0    unknown    unknown  \n",
       "2581    1991.09.19          3722.0    unknown    unknown  \n",
       "2632    1990.06.23          3671.0    unknown    unknown  \n",
       "2937    1983.06.15          3366.0    unknown    unknown  \n",
       "3527    1967.05.09          2776.0    unknown    unknown  \n",
       "3579  1966.05.20.a          2724.0    unknown    unknown  \n",
       "3661    1964.09.27          2642.0    unknown    unknown  \n",
       "3806    1962.07.20          2497.0    unknown    unknown  \n",
       "3884    1961.08.04          2419.0    unknown    unknown  \n",
       "3960  1960.10.00.a          2343.0    unknown    unknown  \n",
       "4008    1960.03.28          2295.0    unknown    unknown  \n",
       "4140    1958.09.13          2163.0    unknown    unknown  \n",
       "4441    1951.07.11          1862.0    unknown    unknown  "
      ]
     },
     "execution_count": 696,
     "metadata": {},
     "output_type": "execute_result"
    }
   ],
   "source": [
    "df.loc[index_area]"
   ]
  },
  {
   "cell_type": "code",
   "execution_count": 698,
   "id": "205007eb",
   "metadata": {},
   "outputs": [],
   "source": [
    "df['country']=df['country'].replace('Sierra Leone','SIERRA LEONE')\n",
    "df['country']=df['country'].replace('ST. MAARTIN','ST. MARTIN')\n",
    "df['country']=df['country'].replace('Fiji','FIJI')\n",
    "df['country']=df['country'].replace(' TONGA','TONGA')\n",
    "df['country']=df['country'].replace('SOUTH CHINA SEA','CINHA')"
   ]
  },
  {
   "cell_type": "code",
   "execution_count": null,
   "id": "2001b6e4",
   "metadata": {},
   "outputs": [],
   "source": []
  },
  {
   "cell_type": "markdown",
   "id": "17ad8af4",
   "metadata": {},
   "source": [
    "---------------------------"
   ]
  },
  {
   "cell_type": "markdown",
   "id": "90078b1f",
   "metadata": {},
   "source": [
    "##### Exploración columna `year`"
   ]
  },
  {
   "cell_type": "code",
   "execution_count": 734,
   "id": "6f6886b0",
   "metadata": {},
   "outputs": [],
   "source": [
    "lista = []\n",
    "for i,row in df.iterrows():\n",
    "    lista.append((i, row['year']))"
   ]
  },
  {
   "cell_type": "code",
   "execution_count": 739,
   "id": "5b4f9dc0",
   "metadata": {},
   "outputs": [
    {
     "data": {
      "text/plain": [
       "array([2018, 2017, 2016, 2015, 2014, 2013, 2012, 2011, 2010, 2009, 2008,\n",
       "       2007, 2006, 2005, 2004, 2003, 2002, 2001, 2000, 1999, 1998, 1997,\n",
       "       1996, 1995, 1994, 1993, 1992, 1991, 1990, 1989, 1988, 1987, 1986,\n",
       "       1985, 1984, 1983, 1982, 1981, 1980, 1979, 1978, 1977, 1976, 1975,\n",
       "       1974, 1973, 1972, 1971, 1970, 1969, 1968, 1967, 1966, 1965, 1964,\n",
       "       1963, 1962, 1961, 1960, 1959, 1958, 1957, 1956, 1955, 1954, 1953,\n",
       "       1952, 1951, 1950, 1949, 1948, 1947, 1946, 1945, 1944, 1943, 1942,\n",
       "       1941, 1940, 1939, 1938, 1937, 1936, 1935, 1934, 1932, 1931, 1930,\n",
       "       1929, 1928, 1927, 1926, 1925, 1924, 1922, 1919, 1916, 1912, 1906,\n",
       "       1905, 1901, 1894, 1892, 1880, 1868,    0])"
      ]
     },
     "execution_count": 739,
     "metadata": {},
     "output_type": "execute_result"
    }
   ],
   "source": [
    "df.year.unique()"
   ]
  },
  {
   "cell_type": "code",
   "execution_count": 745,
   "id": "84ab1251",
   "metadata": {},
   "outputs": [],
   "source": [
    "df['year'] = df['year'].astype('int')"
   ]
  },
  {
   "cell_type": "code",
   "execution_count": 749,
   "id": "1de805c3",
   "metadata": {},
   "outputs": [
    {
     "data": {
      "text/plain": [
       "0        4\n",
       "1868     1\n",
       "1880     1\n",
       "1892     1\n",
       "1894     1\n",
       "        ..\n",
       "2014    38\n",
       "2015    71\n",
       "2016    39\n",
       "2017    32\n",
       "2018    20\n",
       "Name: year, Length: 106, dtype: int64"
      ]
     },
     "execution_count": 749,
     "metadata": {},
     "output_type": "execute_result"
    }
   ],
   "source": [
    "df.year.value_counts().sort_index()"
   ]
  },
  {
   "cell_type": "markdown",
   "id": "26db3d51",
   "metadata": {},
   "source": [
    "------------------"
   ]
  },
  {
   "cell_type": "markdown",
   "id": "16903287",
   "metadata": {},
   "source": [
    "##### Exploración columna `sex`"
   ]
  },
  {
   "cell_type": "code",
   "execution_count": 705,
   "id": "f1dc3a27",
   "metadata": {},
   "outputs": [
    {
     "data": {
      "text/plain": [
       "M      1352\n",
       "F       212\n",
       "lli       1\n",
       "Name: sex, dtype: int64"
      ]
     },
     "execution_count": 705,
     "metadata": {},
     "output_type": "execute_result"
    }
   ],
   "source": [
    "df.sex.value_counts()"
   ]
  },
  {
   "cell_type": "code",
   "execution_count": 709,
   "id": "9e9a953f",
   "metadata": {},
   "outputs": [
    {
     "data": {
      "text/plain": [
       "Int64Index([1624], dtype='int64')"
      ]
     },
     "execution_count": 709,
     "metadata": {},
     "output_type": "execute_result"
    }
   ],
   "source": [
    "index_sex=df[df['sex']=='lli'].index\n",
    "index_sex"
   ]
  },
  {
   "cell_type": "code",
   "execution_count": 710,
   "id": "e2821223",
   "metadata": {},
   "outputs": [],
   "source": [
    "df.drop(index=index_sex,inplace=True)"
   ]
  },
  {
   "cell_type": "code",
   "execution_count": 711,
   "id": "a8855086",
   "metadata": {},
   "outputs": [
    {
     "data": {
      "text/plain": [
       "M    1352\n",
       "F     212\n",
       "Name: sex, dtype: int64"
      ]
     },
     "execution_count": 711,
     "metadata": {},
     "output_type": "execute_result"
    }
   ],
   "source": [
    "df.sex.value_counts()"
   ]
  },
  {
   "cell_type": "markdown",
   "id": "35417ce5",
   "metadata": {},
   "source": [
    "##### Exploración columna `fatal_yon`"
   ]
  },
  {
   "cell_type": "code",
   "execution_count": 714,
   "id": "24c90536",
   "metadata": {},
   "outputs": [
    {
     "data": {
      "text/plain": [
       "N       1234\n",
       "Y        238\n",
       " N         2\n",
       "M          1\n",
       "2017       1\n",
       "Name: fatal_yon, dtype: int64"
      ]
     },
     "execution_count": 714,
     "metadata": {},
     "output_type": "execute_result"
    }
   ],
   "source": [
    "df.fatal_yon.value_counts()"
   ]
  },
  {
   "cell_type": "code",
   "execution_count": 726,
   "id": "376bd826",
   "metadata": {},
   "outputs": [],
   "source": [
    "df['fatal_yon']=df['fatal_yon'].replace(' N','NO')\n",
    "df['fatal_yon']=df['fatal_yon'].replace('N','NO')\n",
    "df['fatal_yon']=df['fatal_yon'].replace('Y','YES')"
   ]
  },
  {
   "cell_type": "code",
   "execution_count": 722,
   "id": "0c35b0fe",
   "metadata": {},
   "outputs": [],
   "source": [
    "index_fn=df[df['fatal_yon']=='M'].index\n",
    "df.drop(index=index_fn,inplace=True)"
   ]
  },
  {
   "cell_type": "code",
   "execution_count": 724,
   "id": "873fc400",
   "metadata": {},
   "outputs": [],
   "source": [
    "index_fn= df[df['fatal_yon']=='2017'].index\n",
    "df.drop(index=index_fn,inplace=True)"
   ]
  },
  {
   "cell_type": "code",
   "execution_count": 727,
   "id": "228ce6e4",
   "metadata": {},
   "outputs": [
    {
     "data": {
      "text/plain": [
       "NO     1236\n",
       "YES     238\n",
       "Name: fatal_yon, dtype: int64"
      ]
     },
     "execution_count": 727,
     "metadata": {},
     "output_type": "execute_result"
    }
   ],
   "source": [
    "df.fatal_yon.value_counts()"
   ]
  },
  {
   "cell_type": "code",
   "execution_count": null,
   "id": "e6e9459c",
   "metadata": {},
   "outputs": [],
   "source": []
  },
  {
   "cell_type": "markdown",
   "id": "6522b765",
   "metadata": {},
   "source": [
    "---------------------------------"
   ]
  },
  {
   "cell_type": "markdown",
   "id": "3273f728",
   "metadata": {},
   "source": [
    "##### Exploración columna `time`"
   ]
  },
  {
   "cell_type": "code",
   "execution_count": null,
   "id": "3e79faac",
   "metadata": {},
   "outputs": [],
   "source": [
    "time\t"
   ]
  },
  {
   "cell_type": "code",
   "execution_count": null,
   "id": "c5834cc3",
   "metadata": {},
   "outputs": [],
   "source": []
  },
  {
   "cell_type": "code",
   "execution_count": null,
   "id": "aef41259",
   "metadata": {},
   "outputs": [],
   "source": []
  },
  {
   "cell_type": "code",
   "execution_count": null,
   "id": "1959d7dd",
   "metadata": {},
   "outputs": [],
   "source": []
  },
  {
   "cell_type": "code",
   "execution_count": null,
   "id": "0ea5a9bb",
   "metadata": {},
   "outputs": [],
   "source": []
  },
  {
   "cell_type": "code",
   "execution_count": null,
   "id": "1600ade5",
   "metadata": {},
   "outputs": [],
   "source": []
  },
  {
   "cell_type": "code",
   "execution_count": null,
   "id": "629137c1",
   "metadata": {},
   "outputs": [],
   "source": []
  },
  {
   "cell_type": "code",
   "execution_count": null,
   "id": "2170e281",
   "metadata": {},
   "outputs": [],
   "source": []
  },
  {
   "cell_type": "code",
   "execution_count": null,
   "id": "12a74a57",
   "metadata": {},
   "outputs": [],
   "source": []
  },
  {
   "cell_type": "code",
   "execution_count": null,
   "id": "295293d9",
   "metadata": {},
   "outputs": [],
   "source": []
  },
  {
   "cell_type": "code",
   "execution_count": null,
   "id": "d83899a6",
   "metadata": {},
   "outputs": [],
   "source": []
  },
  {
   "cell_type": "code",
   "execution_count": null,
   "id": "a4fcacac",
   "metadata": {},
   "outputs": [],
   "source": []
  },
  {
   "cell_type": "code",
   "execution_count": null,
   "id": "f6704c67",
   "metadata": {},
   "outputs": [],
   "source": []
  },
  {
   "cell_type": "code",
   "execution_count": null,
   "id": "65fe637b",
   "metadata": {},
   "outputs": [],
   "source": []
  },
  {
   "cell_type": "code",
   "execution_count": null,
   "id": "cfbdce89",
   "metadata": {},
   "outputs": [],
   "source": []
  },
  {
   "cell_type": "markdown",
   "id": "02646077",
   "metadata": {},
   "source": [
    "# INSIGHTS"
   ]
  },
  {
   "cell_type": "markdown",
   "id": "63d37eb5",
   "metadata": {},
   "source": [
    "## Sex comparison "
   ]
  },
  {
   "cell_type": "markdown",
   "id": "72bd35fd",
   "metadata": {},
   "source": [
    "The difference in attacks between the two sexes is notorious. It may be because men are less cautious. "
   ]
  },
  {
   "cell_type": "code",
   "execution_count": 713,
   "id": "4b98b4fb",
   "metadata": {
    "scrolled": true
   },
   "outputs": [
    {
     "data": {
      "image/png": "[encoded data removed]",
      "text/plain": [
       "<Figure size 576x288 with 1 Axes>"
      ]
     },
     "metadata": {
      "needs_background": "light"
     },
     "output_type": "display_data"
    }
   ],
   "source": [
    "plt.figure(figsize=(8, 4))\n",
    "\n",
    "df.sex.value_counts().plot.bar();\n",
    "plt.figure(figsize=(8, 4))\n",
    "​\n",
    "df.sex.value_counts().plot.bar();\n",
    "\n",
    "Injury comparison\n",
    "Of the attacks observed, the vast majority have been non-fatal.\n",
    "\n",
    "Injury comparison\n",
    "df['fatal_yon'].value_counts().plot(kind='barh', figsize=(8, 6))\n",
    "plt.xlabel(\"Total Injuries\", labelpad=14)\n",
    "plt.ylabel(\"Fatal injury\", labelpad=14)\n",
    "plt.title(\"Injury comparison\", y=1.02);\n"
   ]
  },
  {
   "cell_type": "markdown",
   "id": "c9846d38",
   "metadata": {},
   "source": [
    "## Year comparison "
   ]
  },
  {
   "cell_type": "markdown",
   "id": "dc3b3f5f",
   "metadata": {},
   "source": [
    "Most of the attacks were upper to 1900s. This could be related with the improvement of gathering information"
   ]
  },
  {
   "cell_type": "code",
   "execution_count": 764,
   "id": "f34c9f1a",
   "metadata": {},
   "outputs": [
    {
     "data": {
      "image/png": "[encoded data removed]",
      "text/plain": [
       "<Figure size 720x432 with 1 Axes>"
      ]
     },
     "metadata": {
      "needs_background": "light"
     },
     "output_type": "display_data"
    }
   ],
   "source": [
    "plt.figure(figsize=(10, 6))\n",
    "\n",
    "\n",
    "df.year.hist(bins=500)\n",
    "\n",
    "plt.ylabel('Count of injuries')\n",
    "plt.xlabel('year');"
   ]
  },
  {
   "cell_type": "code",
   "execution_count": 769,
   "id": "dcfa8c88",
   "metadata": {},
   "outputs": [
    {
     "data": {
      "text/plain": [
       "Text(0.5, 1.0, 'Injuries per year since 1960s')"
      ]
     },
     "execution_count": 769,
     "metadata": {},
     "output_type": "execute_result"
    },
    {
     "data": {
      "image/png": "[encoded data removed]",
      "text/plain": [
       "<Figure size 720x432 with 1 Axes>"
      ]
     },
     "metadata": {
      "needs_background": "light"
     },
     "output_type": "display_data"
    }
   ],
   "source": [
    "plt.figure(figsize=(10, 6))\n",
    "data = df[df.year > 1960].year\n",
    "\n",
    "data.hist(bins=100)\n",
    "\n",
    "plt.ylabel('Count of injuries')\n",
    "plt.xlabel('year');\n",
    "plt.title('Injuries per year since 1960s')"
   ]
  }
 ],
 "metadata": {
  "kernelspec": {
   "display_name": "Sharks",
   "language": "python",
   "name": "sharks"
  },
  "language_info": {
   "codemirror_mode": {
    "name": "ipython",
    "version": 3
   },
   "file_extension": ".py",
   "mimetype": "text/x-python",
   "name": "python",
   "nbconvert_exporter": "python",
   "pygments_lexer": "ipython3",
   "version": "3.9.12"
  }
 },
 "nbformat": 4,
 "nbformat_minor": 5
}
